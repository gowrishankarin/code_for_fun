{
 "cells": [
  {
   "cell_type": "markdown",
   "metadata": {},
   "source": [
    "TBD\n",
    "https://medium.com/@alexrachnog/deep-learning-the-final-frontier-for-signal-processing-and-time-series-analysis-734307167ad6\n",
    "https://towardsdatascience.com/mathematics-for-ai-linear-algebra-and-how-to-understand-it-better-63b430999069"
   ]
  },
  {
   "cell_type": "markdown",
   "metadata": {},
   "source": [
    "# 29th Oct 2019"
   ]
  },
  {
   "cell_type": "markdown",
   "metadata": {},
   "source": [
    "### Francaisé\n",
    "Not much progress. \n",
    "\n",
    "### Blog Post of the Day\n",
    "\n",
    "### Video of the Day\n",
    "\n",
    "### Coding for the Day\n",
    "\n",
    "### Reading for the Day  \n",
    "30 Mins read\n",
    "- - -\n"
   ]
  },
  {
   "cell_type": "markdown",
   "metadata": {},
   "source": [
    "# 29th Oct 2019"
   ]
  },
  {
   "cell_type": "markdown",
   "metadata": {},
   "source": [
    "### Francaisé\n",
    "Duolingo leaderboard becomes challenging in Sapphire Leage\n",
    "\n",
    "### Blog Post of the Day\n",
    "[Bayesian Hyperparameter Optimization for Machine Learning](https://towardsdatascience.com/a-conceptual-explanation-of-bayesian-model-based-hyperparameter-optimization-for-machine-learning-b8172278050f)\n",
    "\n",
    "### Video of the Day\n",
    "[Learn NestJS from Scratch](https://www.youtube.com/watch?v=F_oOtaxb0L8)\n",
    "\n",
    "### Coding for the Day\n",
    "[NestJS Hot Reload](https://docs.nestjs.com/techniques/hot-reload)\n",
    "\n",
    "### Reading for the Day  \n",
    "Started the day with an hour of Homo Deus\n",
    "\n",
    "- - -\n"
   ]
  },
  {
   "cell_type": "markdown",
   "metadata": {},
   "source": [
    "# 28th Oct 2019"
   ]
  },
  {
   "cell_type": "markdown",
   "metadata": {},
   "source": [
    "### Francaisé\n",
    "1 chapter forward with Duolingo, Moved to Sapphire league\n",
    "\n",
    "### Blog Post of the Day\n",
    "**NN vs SVM, Worries**  \n",
    "[The Scuffle Between Two Algorithms -Neural Network vs. Support Vector Machine](https://medium.com/analytics-vidhya/the-scuffle-between-two-algorithms-neural-network-vs-support-vector-machine-16abe0eb4181)  \n",
    "[Stop Worrying](https://psiloveyou.xyz/advice-from-a-33-year-old-who-wants-you-to-stop-worrying-so-much-6fe722fb23d1)\n",
    "\n",
    "### Video of the Day\n",
    "[Cool ML Apps from Siraj](https://www.youtube.com/watch?v=__ByCy0PKKI)\n",
    "\n",
    "### Coding for the Day\n",
    "[Gensim Intro](https://medium.com/better-programming/introduction-to-gensim-calculating-text-similarity-9e8b55de342d)\n",
    "\n",
    "### Reading for the Day  \n",
    "A good read from Homo Deus\n",
    "\n",
    "- - -\n"
   ]
  },
  {
   "cell_type": "markdown",
   "metadata": {},
   "source": [
    "# 27th Oct 2019"
   ]
  },
  {
   "cell_type": "markdown",
   "metadata": {},
   "source": [
    "### Francaisé\n",
    "A 25 minutes Duolingo practice with not so perfection. Gold league 3rd position\n",
    "\n",
    "### Blog Post of the Day\n",
    "**Tree Traversel from BaseCS**  \n",
    "Breadth First and Depth First Traversal Mechanisms  \n",
    "[BaseCS-Tree Traversal](https://medium.com/basecs/deep-dive-through-a-graph-dfs-traversal-8177df5d0f13)\n",
    "\n",
    "### Video of the Day\n",
    "**Tree Traversal**  \n",
    "[Graph Traversals - Breadth First and Depth First](https://www.youtube.com/watch?v=bIA8HEEUxZI)  \n",
    "[Depth-first Search (DFS) on Graphs](https://www.youtube.com/watch?v=uT1p5Eiw9CE)\n",
    "\n",
    "### Coding for the Day\n",
    "**Tree Traversal**  \n",
    "[Source from Sesh Venugopal](https://www.dropbox.com/s/3dzueevdm87yso2/Graph.java)  \n",
    "[Refer this in future](https://www.cs.rutgers.edu/~venugopa/)  \n",
    "\n",
    "### Reading for the Day  \n",
    "Few pages of Homo Deus\n",
    "\n",
    "- - -\n"
   ]
  },
  {
   "cell_type": "markdown",
   "metadata": {},
   "source": [
    "# 26th Oct 2019"
   ]
  },
  {
   "cell_type": "markdown",
   "metadata": {},
   "source": [
    "### Francaisé\n",
    "A few minutes Duolingo practice. Gold league 3rd position. Was bored to continue doing.\n",
    "\n",
    "### Blog Post of the Day\n",
    "**Trie Data Structure from BaseCS**  \n",
    "[Trying to understand Tries](https://medium.com/basecs/trying-to-understand-tries-3ec6bede0014)  \n",
    "\n",
    "### Video of the Day\n",
    "**Tries - Data Structure**  \n",
    "[Trie Data Structure](https://www.youtube.com/watch?v=AXjmTQ8LEoI)  \n",
    "\n",
    "### Coding for the Day\n",
    "**Tree Traversal**  \n",
    "[Source from Tushar Roy](https://github.com/mission-peace/interview/blob/master/src/com/interview/suffixprefix/Trie.java)  \n",
    "\n",
    "### Reading for the Day  \n",
    "Few pages of Homo Deus\n",
    "\n",
    "- - -\n"
   ]
  }
 ],
 "metadata": {
  "kernelspec": {
   "display_name": "Python 3",
   "language": "python",
   "name": "python3"
  },
  "language_info": {
   "codemirror_mode": {
    "name": "ipython",
    "version": 3
   },
   "file_extension": ".py",
   "mimetype": "text/x-python",
   "name": "python",
   "nbconvert_exporter": "python",
   "pygments_lexer": "ipython3",
   "version": "3.6.9"
  }
 },
 "nbformat": 4,
 "nbformat_minor": 4
}
