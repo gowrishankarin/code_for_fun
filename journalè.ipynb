{
 "cells": [
  {
   "cell_type": "markdown",
   "metadata": {},
   "source": [
    "TBD  \n",
    "https://eng.uber.com/neural-networks/  \n",
    "https://arxiv.org/abs/1706.02633  \n",
    "https://arxiv.org/abs/1802.01059  \n",
    "https://bair.berkeley.edu/blog/2018/08/06/recurrent/  "
   ]
  },
  {
   "cell_type": "markdown",
   "metadata": {},
   "source": [
    "# 2nd Nov 2019"
   ]
  },
  {
   "cell_type": "markdown",
   "metadata": {},
   "source": [
    "### Francaisé\n",
    "Lotsa Japonaise et Francaise\n",
    "\n",
    "### Blog Post of the Day\n",
    "None\n",
    "\n",
    "### Video of the Day\n",
    "Database Systems - Apache Hive & Impala\n",
    "Cloudera System Setup\n",
    "\n",
    "### Coding for the Day\n",
    "\n",
    "### Reading for the Day  \n",
    "21L421C - Very Little Bit\n",
    "- - -\n"
   ]
  },
  {
   "cell_type": "markdown",
   "metadata": {},
   "source": [
    "# 1st Nov 2019"
   ]
  },
  {
   "cell_type": "markdown",
   "metadata": {},
   "source": [
    "### Francaisé\n",
    "Lotsa Japonaise et Francaise\n",
    "\n",
    "### Blog Post of the Day\n",
    "None\n",
    "\n",
    "### Video of the Day\n",
    "None\n",
    "\n",
    "### Coding for the Day\n",
    "Angular 8: ngFor to *ngFor\n",
    "\n",
    "### Reading for the Day  \n",
    "21L421C - Very Little Bit\n",
    "- - -\n"
   ]
  },
  {
   "cell_type": "markdown",
   "metadata": {},
   "source": [
    "# 30th Nov 2019"
   ]
  },
  {
   "cell_type": "markdown",
   "metadata": {},
   "source": [
    "### Francaisé\n",
    "Lotsa Japonaie et Francaise\n",
    "\n",
    "### Blog Post of the Day\n",
    "\n",
    "\n",
    "### Video of the Day\n",
    "Database Systems - HBASE, KUDU, Structured, Unstructured\n",
    "\n",
    "### Coding for the Day\n",
    "Angular 8: Bootstrap panel colors changed\n",
    "\n",
    "### Reading for the Day  \n",
    "21L421C - Very Little Bit\n",
    "- - -\n"
   ]
  },
  {
   "cell_type": "markdown",
   "metadata": {},
   "source": [
    "# 29th Nov 2019"
   ]
  },
  {
   "cell_type": "markdown",
   "metadata": {},
   "source": [
    "### Francaisé\n",
    "Un petit peu Japonaise\n",
    "\n",
    "### Blog Post of the Day\n",
    "\n",
    "\n",
    "### Video of the Day\n",
    "Database Systems - RDBMS, Schema on Read\n",
    "\n",
    "### Coding for the Day\n",
    "Coded with PG\n",
    "\n",
    "### Reading for the Day  \n",
    "21L421C - Very Little Bit\n",
    "- - -\n"
   ]
  },
  {
   "cell_type": "markdown",
   "metadata": {},
   "source": [
    "# 28th Nov 2019"
   ]
  },
  {
   "cell_type": "markdown",
   "metadata": {},
   "source": [
    "### Francaisé\n",
    "Lol, lotsa lotsa French. \n",
    "\n",
    "### Blog Post of the Day\n",
    "\n",
    "\n",
    "### Video of the Day\n",
    "Database Systems - \n",
    "\n",
    "### Coding for the Day\n",
    "Angular8: ContentChild, ViewChild\n",
    "\n",
    "### Reading for the Day  \n",
    "21L421C - Little Bit\n",
    "- - -\n"
   ]
  },
  {
   "cell_type": "markdown",
   "metadata": {},
   "source": [
    "# 26th Nov 2019"
   ]
  },
  {
   "cell_type": "markdown",
   "metadata": {},
   "source": [
    "### Francaisé\n",
    "Lol, lotsa Japanese. \n",
    "\n",
    "### Blog Post of the Day\n",
    "\n",
    "\n",
    "### Video of the Day\n",
    "Database Systems - RDBMS, Schema on Read\n",
    "\n",
    "### Coding for the Day\n",
    "ROC Curve, ROC Class.\n",
    "\n",
    "### Reading for the Day  \n",
    "21L421C - Little Bit\n",
    "- - -\n"
   ]
  },
  {
   "cell_type": "markdown",
   "metadata": {},
   "source": [
    "# 25th Nov 2019"
   ]
  },
  {
   "cell_type": "markdown",
   "metadata": {},
   "source": [
    "### Francaisé\n",
    "Lol, lotsa language learning. \n",
    "\n",
    "### Blog Post of the Day\n",
    "\n",
    "\n",
    "### Video of the Day\n",
    "Database Systems - Distributed Storage and Processing\n",
    "\n",
    "### Coding for the Day\n",
    "ROC Curve, ROC Class.\n",
    "\n",
    "### Reading for the Day  \n",
    "21L421C \n",
    "- - -\n"
   ]
  },
  {
   "cell_type": "markdown",
   "metadata": {},
   "source": [
    "# 24th Nov 2019"
   ]
  },
  {
   "cell_type": "markdown",
   "metadata": {},
   "source": [
    "### Francaisé\n",
    "Good run with Japanese too\n",
    "\n",
    "### Blog Post of the Day\n",
    "\n",
    "\n",
    "### Video of the Day\n",
    "Database Systems \n",
    "\n",
    "### Coding for the Day\n",
    "Angular 8: ng-content, page load life cycle.\n",
    "\n",
    "### Reading for the Day  \n",
    "21 Lessons for the 21st Century - Started\n",
    "- - -\n"
   ]
  },
  {
   "cell_type": "markdown",
   "metadata": {},
   "source": [
    "# 23rd Nov 2019"
   ]
  },
  {
   "cell_type": "markdown",
   "metadata": {},
   "source": [
    "### Francaisé\n",
    "Second place in Amethyst\n",
    "\n",
    "### Blog Post of the Day\n",
    "\n",
    "\n",
    "### Video of the Day\n",
    "Database Systems: Normalization and Denormalization\n",
    "\n",
    "### Coding for the Day\n",
    "Angular 8 - @ViewChild, @Input, @Output\n",
    "\n",
    "### Reading for the Day  \n",
    "SANGAF, Final Day\n",
    "\n",
    "- - -\n"
   ]
  },
  {
   "cell_type": "markdown",
   "metadata": {},
   "source": [
    "# 22nd Nov 2019"
   ]
  },
  {
   "cell_type": "markdown",
   "metadata": {},
   "source": [
    "### Francaisé\n",
    "Good Run\n",
    "\n",
    "### Blog Post of the Day\n",
    "\n",
    "\n",
    "### Video of the Day\n",
    "Database Systems: Primary and Foreign Keys, 3rd Normal Form\n",
    "\n",
    "### Coding for the Day\n",
    "Angular 8 - None\n",
    "\n",
    "### Reading for the Day  \n",
    "SANGAF, Yet another day\n",
    "\n",
    "- - -\n"
   ]
  },
  {
   "cell_type": "markdown",
   "metadata": {},
   "source": [
    "# 21st Nov 2019"
   ]
  },
  {
   "cell_type": "markdown",
   "metadata": {},
   "source": [
    "### Francaisé\n",
    "Good Run\n",
    "\n",
    "### Blog Post of the Day\n",
    "\n",
    "\n",
    "### Video of the Day\n",
    "Database Systems \n",
    "Angular 8 - Event Listeners\n",
    "\n",
    "### Coding for the Day\n",
    "Angular 8 - None\n",
    "\n",
    "### Reading for the Day  \n",
    "SANGAF, Yet another day\n",
    "\n",
    "- - -\n"
   ]
  },
  {
   "cell_type": "markdown",
   "metadata": {},
   "source": [
    "# 20th Nov 2019"
   ]
  },
  {
   "cell_type": "markdown",
   "metadata": {},
   "source": [
    "### Francaisé\n",
    "On top of Amethyst and fluctuating \n",
    "\n",
    "### Blog Post of the Day\n",
    "\n",
    "### Video of the Day\n",
    "Database Systems - Schemas\n",
    "\n",
    "### Coding for the Day\n",
    "Angular 8 - Recipe Book App - List of Recipes\n",
    "\n",
    "### Reading for the Day  \n",
    "SANGAF, Yet another day\n",
    "\n",
    "- - -\n"
   ]
  },
  {
   "cell_type": "markdown",
   "metadata": {},
   "source": [
    "# 19th Nov 2019"
   ]
  },
  {
   "cell_type": "markdown",
   "metadata": {},
   "source": [
    "### Francaisé\n",
    "On top of Amethyst and fluctuating \n",
    "\n",
    "### Blog Post of the Day\n",
    "Database Systems  \n",
    "[Early History of SQL](https://ieeexplore.ieee.org/stamp/stamp.jsp?tp=&arnumber=6359709)\n",
    "\n",
    "### Video of the Day\n",
    "Database Systems - Operational vs Analytical\n",
    "\n",
    "### Coding for the Day\n",
    "Angular 8 - Recipe Book App - Bootstrap Header and Nav Bar\n",
    "\n",
    "### Reading for the Day  \n",
    "SANGAF, Half done\n",
    "\n",
    "- - -\n"
   ]
  },
  {
   "cell_type": "markdown",
   "metadata": {},
   "source": [
    "# 18th Nov 2019"
   ]
  },
  {
   "cell_type": "markdown",
   "metadata": {},
   "source": [
    "### Francaisé\n",
    "On top 10 of Amethyst\n",
    "\n",
    "### Blog Post of the Day\n",
    "Database Systems\n",
    "\n",
    "### Video of the Day\n",
    "Database Systems - DML, DQL, DDL, DCL\n",
    "\n",
    "### Coding for the Day\n",
    "Goofed it\n",
    "\n",
    "### Reading for the Day  \n",
    "SANGAF, Significant Move\n",
    "\n",
    "- - -\n"
   ]
  },
  {
   "cell_type": "markdown",
   "metadata": {},
   "source": [
    "# 17th Nov 2019"
   ]
  },
  {
   "cell_type": "markdown",
   "metadata": {},
   "source": [
    "### Francaisé\n",
    "A marathon run to reach the top 10 of emerald.\n",
    "\n",
    "### Blog Post of the Day\n",
    "[ROC Curve: Gender Recognition by Voice](https://www.kaggle.com/kanncaa1/roc-curve-with-k-fold-cv)\n",
    "\n",
    "### Video of the Day\n",
    "Databases, DBMS Introduction - Coursera, Cloudera\n",
    "\n",
    "### Coding for the Day\n",
    "Angular 8: ngFor, ngStyle and ngClass directives\n",
    "\n",
    "### Reading for the Day  \n",
    "SANGAF, 1/4th\n",
    "\n",
    "- - -\n"
   ]
  },
  {
   "cell_type": "markdown",
   "metadata": {},
   "source": [
    "# 16th Nov 2019"
   ]
  },
  {
   "cell_type": "markdown",
   "metadata": {},
   "source": [
    "### Francaisé\n",
    "Je etudie beaucoup le Francaise aujoudhui.\n",
    "\n",
    "### Blog Post of the Day\n",
    "\n",
    "\n",
    "### Video of the Day\n",
    "\n",
    "\n",
    "### Coding for the Day\n",
    "Angular 8: 2 way binding ngModel, ngIf, ng-template directives \n",
    "\n",
    "### Reading for the Day  \n",
    "Started reading \"The Subtle Art of Not Giving a Fuck\"\n",
    "\n",
    "- - -\n"
   ]
  },
  {
   "cell_type": "markdown",
   "metadata": {},
   "source": [
    "# 15th Nov 2019"
   ]
  },
  {
   "cell_type": "markdown",
   "metadata": {},
   "source": [
    "### Francaisé\n",
    "A little bit of French today.\n",
    "\n",
    "### Blog Post of the Day\n",
    "\n",
    "\n",
    "### Video of the Day\n",
    "\n",
    "\n",
    "### Coding for the Day\n",
    "Angular 8: Event binding\n",
    "    \n",
    "### Reading for the Day  \n",
    "Completed \"Homo Deus\"\n",
    "- - -\n"
   ]
  },
  {
   "cell_type": "markdown",
   "metadata": {},
   "source": [
    "# 14th Nov 2019"
   ]
  },
  {
   "cell_type": "markdown",
   "metadata": {},
   "source": [
    "### Francaisé\n",
    "A little bit of French today.\n",
    "\n",
    "### Blog Post of the Day\n",
    "\n",
    "\n",
    "### Video of the Day\n",
    "\n",
    "\n",
    "### Coding for the Day\n",
    "Memoization - Looping Array\n",
    "\n",
    "### Reading for the Day  \n",
    "Started reading \"The Subtle Art of Not Giving a Fuck\"\n",
    "\n",
    "- - -\n"
   ]
  },
  {
   "cell_type": "markdown",
   "metadata": {},
   "source": [
    "# 13th Nov 2019"
   ]
  },
  {
   "cell_type": "markdown",
   "metadata": {},
   "source": [
    "### Francaisé\n",
    "A little bit of French today.\n",
    "\n",
    "### Blog Post of the Day\n",
    "\n",
    "\n",
    "### Video of the Day\n",
    "\n",
    "\n",
    "### Coding for the Day\n",
    "Memoization - Fibonacci\n",
    "\n",
    "### Reading for the Day  \n",
    "Homo Deus - Penultimate Read\n",
    "- - -\n"
   ]
  },
  {
   "cell_type": "markdown",
   "metadata": {},
   "source": [
    "# 12th Nov 2019"
   ]
  },
  {
   "cell_type": "markdown",
   "metadata": {},
   "source": [
    "### Francaisé\n",
    "A little bit of French today.\n",
    "\n",
    "### Blog Post of the Day\n",
    "\n",
    "\n",
    "### Video of the Day\n",
    "\n",
    "\n",
    "### Coding for the Day\n",
    "Memoization - NodeJS\n",
    "\n",
    "### Reading for the Day  \n",
    "Fast reading. Few more days of Homo Deus\n",
    "\n",
    "- - -\n"
   ]
  },
  {
   "cell_type": "markdown",
   "metadata": {},
   "source": [
    "# 11th Nov 2019"
   ]
  },
  {
   "cell_type": "markdown",
   "metadata": {},
   "source": [
    "### Francaisé\n",
    "Finished to next league - Emerald\n",
    "\n",
    "### Blog Post of the Day\n",
    "[Using AI to read chest radiographs for tuberculosis detection](https://www.nature.com/articles/s41598-019-51503-3)  \n",
    "\n",
    "### Video of the Day\n",
    "[Speed Reading](https://youtu.be/wZh4QTZkUzU)  \n",
    "[Healthcare & Reflections](https://youtu.be/0fCUxblwxpI)  \n",
    "[Laptop for Programmers](https://youtu.be/XiCDhGzi6gM)\n",
    "\n",
    "### Coding for the Day\n",
    "Algorithms: BFS and DFS Searches\n",
    "\n",
    "### Reading for the Day  \n",
    "1 Hr of Homo Deus\n",
    "\n",
    "- - -\n"
   ]
  },
  {
   "cell_type": "markdown",
   "metadata": {},
   "source": [
    "# 10th Nov 2019"
   ]
  },
  {
   "cell_type": "markdown",
   "metadata": {},
   "source": [
    "### Francaisé\n",
    "Extreme learning and completion of exercises. Among top 10 from nowhere for next league . \n",
    "\n",
    "### Blog Post of the Day\n",
    "[7 Powerful Lessons](https://medium.com/the-ascent/7-insanely-powerful-lessons-my-mentor-taught-me-which-i-didnt-realize-until-later-91a9d7b5ef12)  \n",
    "A true mentorship is symbiotic  \n",
    "- There is always a \"3rd Way\"\n",
    "- If someone likes your idea the first time you explain it, your idea isn't risky enough\n",
    "- Titles are meaningless\n",
    "- Rewards are fleeting(and do not bring fulfillment)\n",
    "- Great ideas don't happen sitting behind a desk\n",
    "- Say yes, then figure out how to do it later\n",
    "- True creatives are unapologetic in their work  \n",
    "\n",
    "[Keeping a Journal](https://medium.com/better-humans/why-keeping-a-daily-journal-could-change-your-life-9a4c11f1a475)  \n",
    "- Journaling optimizes your creative potential\n",
    "- Journaling accelerates your ability to manifest your goals\n",
    "- Journaling creates a springboard for daily recovery \n",
    "- Journaling generates clarity and congruence\n",
    "- Journaling clears your emotions  \n",
    "\n",
    "**Journaling Ingrains your Learning**  \n",
    "- Journaling increases your gratitude\n",
    "- Journaling unfolds the writer in you\n",
    "- Journaling records your life history\n",
    "\n",
    "### Video of the Day\n",
    "Algorithms: Breadth First Search(BFS) Looping and Recursion  \n",
    "[The future of data science - Stanford](https://www.youtube.com/watch?v=hxXIJnjC_HI)\n",
    "\n",
    "### Coding for the Day\n",
    "Algorithms: Linear Search\n",
    "\n",
    "### Reading for the Day  \n",
    "1 Hr of Homo Deus\n",
    "\n",
    "- - -\n"
   ]
  },
  {
   "cell_type": "markdown",
   "metadata": {},
   "source": [
    "# 9th Nov 2019"
   ]
  },
  {
   "cell_type": "markdown",
   "metadata": {},
   "source": [
    "### Francaisé\n",
    "Lazy Progression  \n",
    "\n",
    "### Blog Post of the Day\n",
    "None \n",
    "\n",
    "### Video of the Day\n",
    "None  \n",
    "\n",
    "### Coding for the Day\n",
    "Algorithms, Insertion, Merge and Quick Sort\n",
    "\n",
    "### Reading for the Day  \n",
    "1 Hr of Homo Deus\n",
    "\n",
    "- - -\n"
   ]
  },
  {
   "cell_type": "markdown",
   "metadata": {},
   "source": [
    "# 8th Nov 2019"
   ]
  },
  {
   "cell_type": "markdown",
   "metadata": {},
   "source": [
    "### Francaisé\n",
    "Lazy Progression  \n",
    "\n",
    "### Blog Post of the Day\n",
    "None \n",
    "\n",
    "### Video of the Day\n",
    "None  \n",
    "\n",
    "### Coding for the Day\n",
    "Algorithms, Selection and Bubble Sort\n",
    "\n",
    "### Reading for the Day  \n",
    "1 Hr of Homo Deus\n",
    "\n",
    "- - -\n"
   ]
  },
  {
   "cell_type": "markdown",
   "metadata": {},
   "source": [
    "# 7th Nov 2019"
   ]
  },
  {
   "cell_type": "markdown",
   "metadata": {},
   "source": [
    "### Francaisé\n",
    "One Full Lesson.\n",
    "\n",
    "### Blog Post of the Day\n",
    "[Stop using i++](https://link.medium.com/6C0PtJhyq1)\n",
    "\n",
    "### Video of the Day\n",
    "Quick walk through Angular 8 bindings\n",
    "\n",
    "### Coding for the Day\n",
    "Property and Event binding in Angular 8\n",
    "\n",
    "### Reading for the Day  \n",
    "1 Hr of Homo Deus\n",
    "\n",
    "- - -\n"
   ]
  },
  {
   "cell_type": "markdown",
   "metadata": {},
   "source": [
    "# 6th Nov 2019"
   ]
  },
  {
   "cell_type": "markdown",
   "metadata": {},
   "source": [
    "### Francaisé\n",
    "One Full Lesson.\n",
    "\n",
    "### Blog Post of the Day\n",
    "[Mathematics for AI, Linear Algebra](https://towardsdatascience.com/mathematics-for-ai-linear-algebra-and-how-to-understand-it-better-63b430999069)  \n",
    "[DL for Signal Processing](https://medium.com/@alexrachnog/deep-learning-the-final-frontier-for-signal-processing-and-time-series-analysis-734307167ad6)\n",
    "\n",
    "### Video of the Day\n",
    "[Unprepared Lead Developer](https://www.youtube.com/watch?v=AwuqJ1qORag)  \n",
    "Expectation Management  \n",
    "Agenda Management  \n",
    "Delegating  \n",
    "Culture Building  \n",
    "Mentoring, Give/Receive Feedback, Motivating, Hire/Fire People, Sick People, Lead by Example, Financial Mgmt, Public Speaking, Talk to Others  \n",
    "\n",
    "### Coding for the Day\n",
    "Angular 8 - Bootstrap.\n",
    "\n",
    "### Reading for the Day  \n",
    "1 hr read - Homo Deus\n",
    "- - -\n"
   ]
  },
  {
   "cell_type": "markdown",
   "metadata": {},
   "source": [
    "# 5th Nov 2019"
   ]
  },
  {
   "cell_type": "markdown",
   "metadata": {},
   "source": [
    "### Francaisé\n",
    "Managed to get into top 10\n",
    "\n",
    "### Blog Post of the Day\n",
    "None\n",
    "\n",
    "### Video of the Day\n",
    "None\n",
    "\n",
    "### Coding for the Day\n",
    "Angular 8 - Modules, Selector Options - Tag, Attributes, CSS Classes, 2 Way Binding.\n",
    "\n",
    "### Reading for the Day  \n",
    "1 hr read - Homo Deus\n",
    "- - -\n"
   ]
  },
  {
   "cell_type": "markdown",
   "metadata": {},
   "source": [
    "# 4th Nov 2019"
   ]
  },
  {
   "cell_type": "markdown",
   "metadata": {},
   "source": [
    "### Francaisé\n",
    "Started quite early with the ruby league.\n",
    "\n",
    "### Blog Post of the Day\n",
    "[Data Analyst, Statistician and Applied ML Engineer](https://towardsdatascience.com/data-sciences-most-misunderstood-hero-2705da366f40)\n",
    "\n",
    "### Video of the Day\n",
    "[Event Loop](https://youtu.be/8aGhZQkoFbQ)\n",
    "\n",
    "### Coding for the Day\n",
    "Angular 8 - Bootstrap.\n",
    "\n",
    "### Reading for the Day  \n",
    "1 hr read\n",
    "- - -\n"
   ]
  },
  {
   "cell_type": "markdown",
   "metadata": {},
   "source": [
    "# 3rd Nov 2019"
   ]
  },
  {
   "cell_type": "markdown",
   "metadata": {},
   "source": [
    "### Francaisé\n",
    "Finished #8 in Saphire league.\n",
    "\n",
    "### Blog Post of the Day\n",
    "[Writing Elegant Code](https://thenewstack.io/this-week-in-programming-on-writing-elegant-code/)\n",
    "\n",
    "### Video of the Day\n",
    "[Tricky Questions in JS](https://www.youtube.com/watch?v=MY0UBGX2FtA)\n",
    "\n",
    "### Coding for the Day\n",
    "[NestJS with MongoDB](https://www.youtube.com/watch?v=ulfU5vY6I78)\n",
    "\n",
    "### Reading for the Day  \n",
    "1 hr read\n",
    "- - -\n"
   ]
  },
  {
   "cell_type": "markdown",
   "metadata": {},
   "source": [
    "# 2nd Nov 2019"
   ]
  },
  {
   "cell_type": "markdown",
   "metadata": {},
   "source": [
    "### Francaisé\n",
    "Not much progress. \n",
    "\n",
    "### Blog Post of the Day\n",
    "\n",
    "### Video of the Day\n",
    "[NestJS with MongoDB](https://www.youtube.com/watch?v=ulfU5vY6I78)\n",
    "\n",
    "### Coding for the Day\n",
    "[NestJS with MongoDB](https://www.youtube.com/watch?v=ulfU5vY6I78)\n",
    "\n",
    "### Reading for the Day  \n",
    "1 hr read\n",
    "- - -\n"
   ]
  },
  {
   "cell_type": "markdown",
   "metadata": {},
   "source": [
    "# 1st Nov 2019"
   ]
  },
  {
   "cell_type": "markdown",
   "metadata": {},
   "source": [
    "### Francaisé\n",
    "Not much progress. \n",
    "\n",
    "### Blog Post of the Day\n",
    "\n",
    "### Video of the Day\n",
    "[Learn NestJS from Scratch](https://www.youtube.com/watch?v=F_oOtaxb0L8)\n",
    "\n",
    "### Coding for the Day\n",
    "[Learn NestJS from Scratch](https://www.youtube.com/watch?v=F_oOtaxb0L8)\n",
    "\n",
    "### Reading for the Day  \n",
    "5 Mins read\n",
    "- - -\n"
   ]
  },
  {
   "cell_type": "markdown",
   "metadata": {},
   "source": [
    "# 31st Oct 2019"
   ]
  },
  {
   "cell_type": "markdown",
   "metadata": {},
   "source": [
    "### Francaisé\n",
    "Not much progress. \n",
    "\n",
    "### Blog Post of the Day\n",
    "\n",
    "### Video of the Day\n",
    "[Learn NestJS from Scratch](https://www.youtube.com/watch?v=F_oOtaxb0L8)\n",
    "\n",
    "### Coding for the Day\n",
    "[Learn NestJS from Scratch](https://www.youtube.com/watch?v=F_oOtaxb0L8)\n",
    "\n",
    "### Reading for the Day  \n",
    "5 Mins read\n",
    "- - -\n"
   ]
  },
  {
   "cell_type": "markdown",
   "metadata": {},
   "source": [
    "# 30th Oct 2019"
   ]
  },
  {
   "cell_type": "markdown",
   "metadata": {},
   "source": [
    "### Francaisé\n",
    "Not much progress. \n",
    "\n",
    "### Blog Post of the Day\n",
    "\n",
    "### Video of the Day\n",
    "[Learn NestJS from Scratch](https://www.youtube.com/watch?v=F_oOtaxb0L8)\n",
    "\n",
    "### Coding for the Day\n",
    "[Learn NestJS from Scratch](https://www.youtube.com/watch?v=F_oOtaxb0L8)\n",
    "\n",
    "### Reading for the Day  \n",
    "30 Mins read\n",
    "- - -\n"
   ]
  },
  {
   "cell_type": "markdown",
   "metadata": {},
   "source": [
    "# 29th Oct 2019"
   ]
  },
  {
   "cell_type": "markdown",
   "metadata": {},
   "source": [
    "### Francaisé\n",
    "Duolingo leaderboard becomes challenging in Sapphire Leage\n",
    "\n",
    "### Blog Post of the Day\n",
    "[Bayesian Hyperparameter Optimization for Machine Learning](https://towardsdatascience.com/a-conceptual-explanation-of-bayesian-model-based-hyperparameter-optimization-for-machine-learning-b8172278050f)\n",
    "\n",
    "### Video of the Day\n",
    "[Learn NestJS from Scratch](https://www.youtube.com/watch?v=F_oOtaxb0L8)\n",
    "\n",
    "### Coding for the Day\n",
    "[NestJS Hot Reload](https://docs.nestjs.com/techniques/hot-reload)\n",
    "\n",
    "### Reading for the Day  \n",
    "Started the day with an hour of Homo Deus\n",
    "\n",
    "- - -\n"
   ]
  },
  {
   "cell_type": "markdown",
   "metadata": {},
   "source": [
    "# 28th Oct 2019"
   ]
  },
  {
   "cell_type": "markdown",
   "metadata": {},
   "source": [
    "### Francaisé\n",
    "1 chapter forward with Duolingo, Moved to Sapphire league\n",
    "\n",
    "### Blog Post of the Day\n",
    "**NN vs SVM, Worries**  \n",
    "[The Scuffle Between Two Algorithms -Neural Network vs. Support Vector Machine](https://medium.com/analytics-vidhya/the-scuffle-between-two-algorithms-neural-network-vs-support-vector-machine-16abe0eb4181)  \n",
    "[Stop Worrying](https://psiloveyou.xyz/advice-from-a-33-year-old-who-wants-you-to-stop-worrying-so-much-6fe722fb23d1)\n",
    "\n",
    "### Video of the Day\n",
    "[Cool ML Apps from Siraj](https://www.youtube.com/watch?v=__ByCy0PKKI)\n",
    "\n",
    "### Coding for the Day\n",
    "[Gensim Intro](https://medium.com/better-programming/introduction-to-gensim-calculating-text-similarity-9e8b55de342d)\n",
    "\n",
    "### Reading for the Day  \n",
    "A good read from Homo Deus\n",
    "\n",
    "- - -\n"
   ]
  },
  {
   "cell_type": "markdown",
   "metadata": {},
   "source": [
    "# 27th Oct 2019"
   ]
  },
  {
   "cell_type": "markdown",
   "metadata": {},
   "source": [
    "### Francaisé\n",
    "A 25 minutes Duolingo practice with not so perfection. Gold league 3rd position\n",
    "\n",
    "### Blog Post of the Day\n",
    "**Tree Traversel from BaseCS**  \n",
    "Breadth First and Depth First Traversal Mechanisms  \n",
    "[BaseCS-Tree Traversal](https://medium.com/basecs/deep-dive-through-a-graph-dfs-traversal-8177df5d0f13)\n",
    "\n",
    "### Video of the Day\n",
    "**Tree Traversal**  \n",
    "[Graph Traversals - Breadth First and Depth First](https://www.youtube.com/watch?v=bIA8HEEUxZI)  \n",
    "[Depth-first Search (DFS) on Graphs](https://www.youtube.com/watch?v=uT1p5Eiw9CE)\n",
    "\n",
    "### Coding for the Day\n",
    "**Tree Traversal**  \n",
    "[Source from Sesh Venugopal](https://www.dropbox.com/s/3dzueevdm87yso2/Graph.java)  \n",
    "[Refer this in future](https://www.cs.rutgers.edu/~venugopa/)  \n",
    "\n",
    "### Reading for the Day  \n",
    "Few pages of Homo Deus\n",
    "\n",
    "- - -\n"
   ]
  },
  {
   "cell_type": "markdown",
   "metadata": {},
   "source": [
    "# 26th Oct 2019"
   ]
  },
  {
   "cell_type": "markdown",
   "metadata": {},
   "source": [
    "### Francaisé\n",
    "A few minutes Duolingo practice. Gold league 3rd position. Was bored to continue doing.\n",
    "\n",
    "### Blog Post of the Day\n",
    "**Trie Data Structure from BaseCS**  \n",
    "[Trying to understand Tries](https://medium.com/basecs/trying-to-understand-tries-3ec6bede0014)  \n",
    "\n",
    "### Video of the Day\n",
    "**Tries - Data Structure**  \n",
    "[Trie Data Structure](https://www.youtube.com/watch?v=AXjmTQ8LEoI)  \n",
    "\n",
    "### Coding for the Day\n",
    "**Tree Traversal**  \n",
    "[Source from Tushar Roy](https://github.com/mission-peace/interview/blob/master/src/com/interview/suffixprefix/Trie.java)  \n",
    "\n",
    "### Reading for the Day  \n",
    "Few pages of Homo Deus\n",
    "\n",
    "- - -\n"
   ]
  }
 ],
 "metadata": {
  "kernelspec": {
   "display_name": "Python 3",
   "language": "python",
   "name": "python3"
  },
  "language_info": {
   "codemirror_mode": {
    "name": "ipython",
    "version": 3
   },
   "file_extension": ".py",
   "mimetype": "text/x-python",
   "name": "python",
   "nbconvert_exporter": "python",
   "pygments_lexer": "ipython3",
   "version": "3.7.5"
  }
 },
 "nbformat": 4,
 "nbformat_minor": 4
}
