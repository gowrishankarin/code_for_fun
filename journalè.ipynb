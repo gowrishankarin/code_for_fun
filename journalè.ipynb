{
 "cells": [
  {
   "cell_type": "markdown",
   "metadata": {},
   "source": [
    "# 27th Oct 2019"
   ]
  },
  {
   "cell_type": "markdown",
   "metadata": {},
   "source": [
    "### Francaisé\n",
    "A 25 minutes Duolingo practice with not so perfection. Gold league 3rd position\n",
    "\n",
    "### Blog Post of the Day\n",
    "**Tree Traversel from BaseCS**  \n",
    "Breadth First and Depth First Traversal Mechanisms  \n",
    "[BaseCS-Tree Traversal](https://medium.com/basecs/deep-dive-through-a-graph-dfs-traversal-8177df5d0f13)\n",
    "\n",
    "### Video of the Day\n",
    "**Tree Traversal**  \n",
    "[Graph Traversals - Breadth First and Depth First](https://www.youtube.com/watch?v=bIA8HEEUxZI)  \n",
    "[Depth-first Search (DFS) on Graphs](https://www.youtube.com/watch?v=uT1p5Eiw9CE)\n",
    "\n",
    "### Coding for the Day\n",
    "**Tree Traversal**\n",
    "[Source from Sesh Venugopal](https://www.dropbox.com/s/3dzueevdm87yso2/Graph.java)  \n",
    "[Refer this in future](https://www.cs.rutgers.edu/~venugopa/)  \n",
    "\n",
    "### Reading for the Day  \n",
    "Few pages of Homo Deus\n",
    "\n",
    "- - -\n"
   ]
  },
  {
   "cell_type": "markdown",
   "metadata": {},
   "source": [
    "# 26th Oct 2019"
   ]
  },
  {
   "cell_type": "markdown",
   "metadata": {},
   "source": [
    "### Francaisé\n",
    "A few minutes Duolingo practice. Gold league 3rd position. Was bored to continue doing.\n",
    "\n",
    "### Blog Post of the Day\n",
    "**Trie Data Structure from BaseCS**  \n",
    "[Trying to understand Tries](https://medium.com/basecs/trying-to-understand-tries-3ec6bede0014)  \n",
    "\n",
    "### Video of the Day\n",
    "**Tries - Data Structure**  \n",
    "[Trie Data Structure](https://www.youtube.com/watch?v=AXjmTQ8LEoI)  \n",
    "\n",
    "### Coding for the Day\n",
    "**Tree Traversal**  \n",
    "[Source from Tushar Roy](https://github.com/mission-peace/interview/blob/master/src/com/interview/suffixprefix/Trie.java)  \n",
    "\n",
    "### Reading for the Day  \n",
    "Few pages of Homo Deus\n",
    "\n",
    "- - -\n"
   ]
  }
 ],
 "metadata": {
  "kernelspec": {
   "display_name": "Python 3",
   "language": "python",
   "name": "python3"
  },
  "language_info": {
   "codemirror_mode": {
    "name": "ipython",
    "version": 3
   },
   "file_extension": ".py",
   "mimetype": "text/x-python",
   "name": "python",
   "nbconvert_exporter": "python",
   "pygments_lexer": "ipython3",
   "version": "3.6.9"
  }
 },
 "nbformat": 4,
 "nbformat_minor": 4
}
