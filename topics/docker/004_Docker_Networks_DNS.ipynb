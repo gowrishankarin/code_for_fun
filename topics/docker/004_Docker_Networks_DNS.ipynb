{
 "cells": [
  {
   "cell_type": "markdown",
   "metadata": {},
   "source": [
    "# Docker Networks: DNS\n",
    "- Understand how DNS is the key to easy inter-container comms\n",
    "- See how it works by default with custom networs\n",
    "- Learn how to use --link to enable DNS on default bridge network\n"
   ]
  },
  {
   "cell_type": "code",
   "execution_count": null,
   "metadata": {},
   "outputs": [],
   "source": [
    "!docker container run -d --name myy_nginx --network my_app_net nginx:alpine"
   ]
  },
  {
   "cell_type": "code",
   "execution_count": 1,
   "metadata": {},
   "outputs": [
    {
     "name": "stdout",
     "output_type": "stream",
     "text": [
      "PING new_nginx (172.18.0.2): 56 data bytes\n",
      "64 bytes from 172.18.0.2: seq=0 ttl=64 time=0.132 ms\n",
      "64 bytes from 172.18.0.2: seq=1 ttl=64 time=0.331 ms\n",
      "64 bytes from 172.18.0.2: seq=2 ttl=64 time=0.159 ms\n",
      "64 bytes from 172.18.0.2: seq=3 ttl=64 time=0.293 ms\n",
      "64 bytes from 172.18.0.2: seq=4 ttl=64 time=0.248 ms\n",
      "^C\n",
      "\n",
      "--- new_nginx ping statistics ---\n",
      "5 packets transmitted, 5 packets received, 0% packet loss\n",
      "round-trip min/avg/max = 0.132/0.232/0.331 ms\n"
     ]
    }
   ],
   "source": [
    "!docker container  exec -it myy_nginx ping new_nginx"
   ]
  },
  {
   "cell_type": "code",
   "execution_count": null,
   "metadata": {},
   "outputs": [],
   "source": []
  }
 ],
 "metadata": {
  "kernelspec": {
   "display_name": "Python 3",
   "language": "python",
   "name": "python3"
  },
  "language_info": {
   "codemirror_mode": {
    "name": "ipython",
    "version": 3
   },
   "file_extension": ".py",
   "mimetype": "text/x-python",
   "name": "python",
   "nbconvert_exporter": "python",
   "pygments_lexer": "ipython3",
   "version": "3.8.3"
  }
 },
 "nbformat": 4,
 "nbformat_minor": 4
}
