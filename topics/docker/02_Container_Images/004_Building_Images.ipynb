{
 "cells": [
  {
   "cell_type": "markdown",
   "metadata": {},
   "source": [
    "# Building Images"
   ]
  },
  {
   "cell_type": "code",
   "execution_count": 1,
   "metadata": {
    "execution": {
     "iopub.execute_input": "2020-10-13T16:35:06.626772Z",
     "iopub.status.busy": "2020-10-13T16:35:06.626499Z",
     "iopub.status.idle": "2020-10-13T16:35:07.279213Z",
     "shell.execute_reply": "2020-10-13T16:35:07.277778Z",
     "shell.execute_reply.started": "2020-10-13T16:35:06.626744Z"
    }
   },
   "outputs": [
    {
     "name": "stdout",
     "output_type": "stream",
     "text": [
      "  % Total    % Received % Xferd  Average Speed   Time    Time     Time  Current\n",
      "                                 Dload  Upload   Total   Spent    Left  Speed\n",
      "100  2471  100  2471    0     0   4893      0 --:--:-- --:--:-- --:--:--  4883\n"
     ]
    }
   ],
   "source": [
    "!curl -O https://raw.githubusercontent.com/BretFisher/udemy-docker-mastery/main/dockerfile-sample-1/Dockerfile"
   ]
  },
  {
   "cell_type": "code",
   "execution_count": 2,
   "metadata": {
    "execution": {
     "iopub.execute_input": "2020-10-13T16:35:45.600092Z",
     "iopub.status.busy": "2020-10-13T16:35:45.599835Z",
     "iopub.status.idle": "2020-10-13T16:35:45.728406Z",
     "shell.execute_reply": "2020-10-13T16:35:45.727218Z",
     "shell.execute_reply.started": "2020-10-13T16:35:45.600061Z"
    }
   },
   "outputs": [
    {
     "name": "stdout",
     "output_type": "stream",
     "text": [
      "# NOTE: this example is taken from the default Dockerfile for the official nginx Docker Hub Repo\n",
      "# https://hub.docker.com/_/nginx/\n",
      "# NOTE: This file is slightly different than the video, because nginx versions have been updated \n",
      "#       to match the latest standards from docker hub... but it's doing the same thing as the video\n",
      "#       describes\n",
      "FROM debian:stretch-slim\n",
      "# all images must have a FROM\n",
      "# usually from a minimal Linux distribution like debian or (even better) alpine\n",
      "# if you truly want to start with an empty container, use FROM scratch\n",
      "\n",
      "ENV NGINX_VERSION 1.13.6-1~stretch\n",
      "ENV NJS_VERSION   1.13.6.0.1.14-1~stretch\n",
      "# optional environment variable that's used in later lines and set as envvar when container is running\n",
      "\n",
      "RUN apt-get update \\\n",
      "\t&& apt-get install --no-install-recommends --no-install-suggests -y gnupg1 \\\n",
      "\t&& \\\n",
      "\tNGINX_GPGKEY=573BFD6B3D8FBC641079A6ABABF5BD827BD9BF62; \\\n",
      "\tfound=''; \\\n",
      "\tfor server in \\\n",
      "\t\tha.pool.sks-keyservers.net \\\n",
      "\t\thkp://keyserver.ubuntu.com:80 \\\n",
      "\t\thkp://p80.pool.sks-keyservers.net:80 \\\n",
      "\t\tpgp.mit.edu \\\n",
      "\t; do \\\n",
      "\t\techo \"Fetching GPG key $NGINX_GPGKEY from $server\"; \\\n",
      "\t\tapt-key adv --keyserver \"$server\" --keyserver-options timeout=10 --recv-keys \"$NGINX_GPGKEY\" && found=yes && break; \\\n",
      "\tdone; \\\n",
      "\ttest -z \"$found\" && echo >&2 \"error: failed to fetch GPG key $NGINX_GPGKEY\" && exit 1; \\\n",
      "\tapt-get remove --purge -y gnupg1 && apt-get -y --purge autoremove && rm -rf /var/lib/apt/lists/* \\\n",
      "\t&& echo \"deb http://nginx.org/packages/mainline/debian/ stretch nginx\" >> /etc/apt/sources.list \\\n",
      "\t&& apt-get update \\\n",
      "\t&& apt-get install --no-install-recommends --no-install-suggests -y \\\n",
      "\t\t\t\t\t\tnginx=${NGINX_VERSION} \\\n",
      "\t\t\t\t\t\tnginx-module-xslt=${NGINX_VERSION} \\\n",
      "\t\t\t\t\t\tnginx-module-geoip=${NGINX_VERSION} \\\n",
      "\t\t\t\t\t\tnginx-module-image-filter=${NGINX_VERSION} \\\n",
      "\t\t\t\t\t\tnginx-module-njs=${NJS_VERSION} \\\n",
      "\t\t\t\t\t\tgettext-base \\\n",
      "\t&& rm -rf /var/lib/apt/lists/*\n",
      "# optional commands to run at shell inside container at build time\n",
      "# this one adds package repo for nginx from nginx.org and installs it\n",
      "\n",
      "RUN ln -sf /dev/stdout /var/log/nginx/access.log \\\n",
      "\t&& ln -sf /dev/stderr /var/log/nginx/error.log\n",
      "# forward request and error logs to docker log collector\n",
      "\n",
      "EXPOSE 80 443\n",
      "# expose these ports on the docker virtual network\n",
      "# you still need to use -p or -P to open/forward these ports on host\n",
      "\n",
      "CMD [\"nginx\", \"-g\", \"daemon off;\"]\n",
      "# required: run this command when container is launched\n",
      "# only one CMD allowed, so if there are multiple, last one wins\n"
     ]
    }
   ],
   "source": [
    "cat Dockerfile"
   ]
  },
  {
   "cell_type": "code",
   "execution_count": null,
   "metadata": {},
   "outputs": [],
   "source": []
  }
 ],
 "metadata": {
  "kernelspec": {
   "display_name": "Python 3",
   "language": "python",
   "name": "python3"
  },
  "language_info": {
   "codemirror_mode": {
    "name": "ipython",
    "version": 3
   },
   "file_extension": ".py",
   "mimetype": "text/x-python",
   "name": "python",
   "nbconvert_exporter": "python",
   "pygments_lexer": "ipython3",
   "version": "3.8.3"
  }
 },
 "nbformat": 4,
 "nbformat_minor": 4
}
