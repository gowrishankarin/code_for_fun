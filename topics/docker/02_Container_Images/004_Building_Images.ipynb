{
 "cells": [
  {
   "cell_type": "markdown",
   "metadata": {},
   "source": [
    "# Building Images"
   ]
  },
  {
   "cell_type": "code",
   "execution_count": 1,
   "metadata": {
    "execution": {
     "iopub.execute_input": "2020-10-13T16:35:06.626772Z",
     "iopub.status.busy": "2020-10-13T16:35:06.626499Z",
     "iopub.status.idle": "2020-10-13T16:35:07.279213Z",
     "shell.execute_reply": "2020-10-13T16:35:07.277778Z",
     "shell.execute_reply.started": "2020-10-13T16:35:06.626744Z"
    }
   },
   "outputs": [
    {
     "name": "stdout",
     "output_type": "stream",
     "text": [
      "  % Total    % Received % Xferd  Average Speed   Time    Time     Time  Current\n",
      "                                 Dload  Upload   Total   Spent    Left  Speed\n",
      "100  2471  100  2471    0     0   4893      0 --:--:-- --:--:-- --:--:--  4883\n"
     ]
    }
   ],
   "source": [
    "!curl -O https://raw.githubusercontent.com/BretFisher/udemy-docker-mastery/main/dockerfile-sample-1/Dockerfile"
   ]
  },
  {
   "cell_type": "code",
   "execution_count": 2,
   "metadata": {
    "execution": {
     "iopub.execute_input": "2020-10-13T16:35:45.600092Z",
     "iopub.status.busy": "2020-10-13T16:35:45.599835Z",
     "iopub.status.idle": "2020-10-13T16:35:45.728406Z",
     "shell.execute_reply": "2020-10-13T16:35:45.727218Z",
     "shell.execute_reply.started": "2020-10-13T16:35:45.600061Z"
    }
   },
   "outputs": [
    {
     "name": "stdout",
     "output_type": "stream",
     "text": [
      "# NOTE: this example is taken from the default Dockerfile for the official nginx Docker Hub Repo\n",
      "# https://hub.docker.com/_/nginx/\n",
      "# NOTE: This file is slightly different than the video, because nginx versions have been updated \n",
      "#       to match the latest standards from docker hub... but it's doing the same thing as the video\n",
      "#       describes\n",
      "FROM debian:stretch-slim\n",
      "# all images must have a FROM\n",
      "# usually from a minimal Linux distribution like debian or (even better) alpine\n",
      "# if you truly want to start with an empty container, use FROM scratch\n",
      "\n",
      "ENV NGINX_VERSION 1.13.6-1~stretch\n",
      "ENV NJS_VERSION   1.13.6.0.1.14-1~stretch\n",
      "# optional environment variable that's used in later lines and set as envvar when container is running\n",
      "\n",
      "RUN apt-get update \\\n",
      "\t&& apt-get install --no-install-recommends --no-install-suggests -y gnupg1 \\\n",
      "\t&& \\\n",
      "\tNGINX_GPGKEY=573BFD6B3D8FBC641079A6ABABF5BD827BD9BF62; \\\n",
      "\tfound=''; \\\n",
      "\tfor server in \\\n",
      "\t\tha.pool.sks-keyservers.net \\\n",
      "\t\thkp://keyserver.ubuntu.com:80 \\\n",
      "\t\thkp://p80.pool.sks-keyservers.net:80 \\\n",
      "\t\tpgp.mit.edu \\\n",
      "\t; do \\\n",
      "\t\techo \"Fetching GPG key $NGINX_GPGKEY from $server\"; \\\n",
      "\t\tapt-key adv --keyserver \"$server\" --keyserver-options timeout=10 --recv-keys \"$NGINX_GPGKEY\" && found=yes && break; \\\n",
      "\tdone; \\\n",
      "\ttest -z \"$found\" && echo >&2 \"error: failed to fetch GPG key $NGINX_GPGKEY\" && exit 1; \\\n",
      "\tapt-get remove --purge -y gnupg1 && apt-get -y --purge autoremove && rm -rf /var/lib/apt/lists/* \\\n",
      "\t&& echo \"deb http://nginx.org/packages/mainline/debian/ stretch nginx\" >> /etc/apt/sources.list \\\n",
      "\t&& apt-get update \\\n",
      "\t&& apt-get install --no-install-recommends --no-install-suggests -y \\\n",
      "\t\t\t\t\t\tnginx=${NGINX_VERSION} \\\n",
      "\t\t\t\t\t\tnginx-module-xslt=${NGINX_VERSION} \\\n",
      "\t\t\t\t\t\tnginx-module-geoip=${NGINX_VERSION} \\\n",
      "\t\t\t\t\t\tnginx-module-image-filter=${NGINX_VERSION} \\\n",
      "\t\t\t\t\t\tnginx-module-njs=${NJS_VERSION} \\\n",
      "\t\t\t\t\t\tgettext-base \\\n",
      "\t&& rm -rf /var/lib/apt/lists/*\n",
      "# optional commands to run at shell inside container at build time\n",
      "# this one adds package repo for nginx from nginx.org and installs it\n",
      "\n",
      "RUN ln -sf /dev/stdout /var/log/nginx/access.log \\\n",
      "\t&& ln -sf /dev/stderr /var/log/nginx/error.log\n",
      "# forward request and error logs to docker log collector\n",
      "\n",
      "EXPOSE 80 443\n",
      "# expose these ports on the docker virtual network\n",
      "# you still need to use -p or -P to open/forward these ports on host\n",
      "\n",
      "CMD [\"nginx\", \"-g\", \"daemon off;\"]\n",
      "# required: run this command when container is launched\n",
      "# only one CMD allowed, so if there are multiple, last one wins\n"
     ]
    }
   ],
   "source": [
    "cat Dockerfile"
   ]
  },
  {
   "cell_type": "markdown",
   "metadata": {},
   "source": [
    "## Build Dockerfile"
   ]
  },
  {
   "cell_type": "code",
   "execution_count": 4,
   "metadata": {
    "execution": {
     "iopub.execute_input": "2020-10-13T16:39:37.142266Z",
     "iopub.status.busy": "2020-10-13T16:39:37.142013Z",
     "iopub.status.idle": "2020-10-13T16:40:46.526665Z",
     "shell.execute_reply": "2020-10-13T16:40:46.525681Z",
     "shell.execute_reply.started": "2020-10-13T16:39:37.142240Z"
    }
   },
   "outputs": [
    {
     "name": "stdout",
     "output_type": "stream",
     "text": [
      "Sending build context to Docker daemon  83.46kB\n",
      "Step 1/7 : FROM debian:stretch-slim\n",
      "stretch-slim: Pulling from library/debian\n",
      "\n",
      "\u001b[1BDigest: sha256:48c80bd359d917ad21e8010fdebe62adb78d6e521faf767524dbd5bba5d1f4df[1A\u001b[2K\u001b[1A\u001b[2K\u001b[1A\u001b[2K\u001b[1A\u001b[2K\u001b[1A\u001b[2K\u001b[1A\u001b[2K\u001b[1A\u001b[2K\u001b[1A\u001b[2K\u001b[1A\u001b[2K\u001b[1A\u001b[2K\u001b[1A\u001b[2K\u001b[1A\u001b[2K\u001b[1A\u001b[2K\u001b[1A\u001b[2K\u001b[1A\u001b[2K\u001b[1A\u001b[2K\u001b[1A\u001b[2K\u001b[1A\u001b[2K\u001b[1A\u001b[2K\u001b[1A\u001b[2K\u001b[1A\u001b[2K\u001b[1A\u001b[2KExtracting   15.6MB/22.52MB\u001b[1A\u001b[2K\u001b[1A\u001b[2K\u001b[1A\u001b[2K\u001b[1A\u001b[2K\u001b[1A\u001b[2K\u001b[1A\u001b[2K\u001b[1A\u001b[2K\n",
      "Status: Downloaded newer image for debian:stretch-slim\n",
      " ---> fd6779905c35\n",
      "Step 2/7 : ENV NGINX_VERSION 1.13.6-1~stretch\n",
      " ---> Running in cf2f1f7b9542\n",
      "Removing intermediate container cf2f1f7b9542\n",
      " ---> a3df89a18dbb\n",
      "Step 3/7 : ENV NJS_VERSION   1.13.6.0.1.14-1~stretch\n",
      " ---> Running in 4342caf11c55\n",
      "Removing intermediate container 4342caf11c55\n",
      " ---> 03c15c9be48e\n",
      "Step 4/7 : RUN apt-get update \t&& apt-get install --no-install-recommends --no-install-suggests -y gnupg1 \t&& \tNGINX_GPGKEY=573BFD6B3D8FBC641079A6ABABF5BD827BD9BF62; \tfound=''; \tfor server in \t\tha.pool.sks-keyservers.net \t\thkp://keyserver.ubuntu.com:80 \t\thkp://p80.pool.sks-keyservers.net:80 \t\tpgp.mit.edu \t; do \t\techo \"Fetching GPG key $NGINX_GPGKEY from $server\"; \t\tapt-key adv --keyserver \"$server\" --keyserver-options timeout=10 --recv-keys \"$NGINX_GPGKEY\" && found=yes && break; \tdone; \ttest -z \"$found\" && echo >&2 \"error: failed to fetch GPG key $NGINX_GPGKEY\" && exit 1; \tapt-get remove --purge -y gnupg1 && apt-get -y --purge autoremove && rm -rf /var/lib/apt/lists/* \t&& echo \"deb http://nginx.org/packages/mainline/debian/ stretch nginx\" >> /etc/apt/sources.list \t&& apt-get update \t&& apt-get install --no-install-recommends --no-install-suggests -y \t\t\t\t\t\tnginx=${NGINX_VERSION} \t\t\t\t\t\tnginx-module-xslt=${NGINX_VERSION} \t\t\t\t\t\tnginx-module-geoip=${NGINX_VERSION} \t\t\t\t\t\tnginx-module-image-filter=${NGINX_VERSION} \t\t\t\t\t\tnginx-module-njs=${NJS_VERSION} \t\t\t\t\t\tgettext-base \t&& rm -rf /var/lib/apt/lists/*\n",
      " ---> Running in 5ac616eddf35\n",
      "Get:1 http://security.debian.org/debian-security stretch/updates InRelease [53.0 kB]\n",
      "Get:2 http://security.debian.org/debian-security stretch/updates/main amd64 Packages [604 kB]\n",
      "Ign:3 http://deb.debian.org/debian stretch InRelease\n",
      "Get:4 http://deb.debian.org/debian stretch-updates InRelease [93.6 kB]\n",
      "Get:5 http://deb.debian.org/debian stretch Release [118 kB]\n",
      "Get:6 http://deb.debian.org/debian stretch-updates/main amd64 Packages [2596 B]\n",
      "Get:7 http://deb.debian.org/debian stretch Release.gpg [2410 B]\n",
      "Get:8 http://deb.debian.org/debian stretch/main amd64 Packages [7080 kB]\n",
      "Fetched 7953 kB in 5s (1433 kB/s)\n",
      "Reading package lists...\n",
      "Reading package lists...\n",
      "Building dependency tree...\n",
      "Reading state information...\n",
      "The following additional packages will be installed:\n",
      "  libreadline7 readline-common\n",
      "Suggested packages:\n",
      "  libpcsclite1 parcimonie xloadimage | imagemagick | eog readline-doc\n",
      "Recommended packages:\n",
      "  gnupg1-curl gnupg1-l10n libldap-2.4-2\n",
      "The following NEW packages will be installed:\n",
      "  gnupg1 libreadline7 readline-common\n",
      "0 upgraded, 3 newly installed, 0 to remove and 0 not upgraded.\n",
      "Need to get 822 kB of archives.\n",
      "After this operation, 1935 kB of additional disk space will be used.\n",
      "Get:1 http://deb.debian.org/debian stretch/main amd64 readline-common all 7.0-3 [70.4 kB]\n",
      "Get:2 http://deb.debian.org/debian stretch/main amd64 libreadline7 amd64 7.0-3 [151 kB]\n",
      "Get:3 http://deb.debian.org/debian stretch/main amd64 gnupg1 amd64 1.4.21-4+deb9u1 [601 kB]\n",
      "\u001b[91mdebconf: delaying package configuration, since apt-utils is not installed\n",
      "\u001b[0mFetched 822 kB in 3s (218 kB/s)\n",
      "Selecting previously unselected package readline-common.\n",
      "(Reading database ... 6320 files and directories currently installed.)\n",
      "Preparing to unpack .../readline-common_7.0-3_all.deb ...\n",
      "Unpacking readline-common (7.0-3) ...\n",
      "Selecting previously unselected package libreadline7:amd64.\n",
      "Preparing to unpack .../libreadline7_7.0-3_amd64.deb ...\n",
      "Unpacking libreadline7:amd64 (7.0-3) ...\n",
      "Selecting previously unselected package gnupg1.\n",
      "Preparing to unpack .../gnupg1_1.4.21-4+deb9u1_amd64.deb ...\n",
      "Unpacking gnupg1 (1.4.21-4+deb9u1) ...\n",
      "Setting up readline-common (7.0-3) ...\n",
      "Setting up libreadline7:amd64 (7.0-3) ...\n",
      "Setting up gnupg1 (1.4.21-4+deb9u1) ...\n",
      "Processing triggers for libc-bin (2.24-11+deb9u4) ...\n",
      "Fetching GPG key 573BFD6B3D8FBC641079A6ABABF5BD827BD9BF62 from ha.pool.sks-keyservers.net\n",
      "\u001b[91mWarning: apt-key output should not be parsed (stdout is not a terminal)\n",
      "\u001b[0mExecuting: /tmp/apt-key-gpghome.2DZQp8VXda/gpg.1.sh --keyserver ha.pool.sks-keyservers.net --keyserver-options timeout=10 --recv-keys 573BFD6B3D8FBC641079A6ABABF5BD827BD9BF62\n",
      "\u001b[91mgpg: requesting key 7BD9BF62 from hkp server ha.pool.sks-keyservers.net\n",
      "\u001b[0m\u001b[91mgpg: key 7BD9BF62: public key \"nginx signing key <signing-key@nginx.com>\" imported\n",
      "gpg: Total number processed: 1\n",
      "gpg:               imported: 1  (RSA: 1)\n",
      "\u001b[0mReading package lists...\n",
      "Building dependency tree...\n",
      "Reading state information...\n",
      "The following packages were automatically installed and are no longer required:\n",
      "  libreadline7 readline-common\n",
      "Use 'apt autoremove' to remove them.\n",
      "The following packages will be REMOVED:\n",
      "  gnupg1*\n",
      "0 upgraded, 0 newly installed, 1 to remove and 0 not upgraded.\n",
      "After this operation, 1418 kB disk space will be freed.\n",
      "(Reading database ... 6374 files and directories currently installed.)\n",
      "Removing gnupg1 (1.4.21-4+deb9u1) ...\n",
      "Reading package lists...\n",
      "Building dependency tree...\n",
      "Reading state information...\n",
      "The following packages will be REMOVED:\n",
      "  libreadline7* readline-common*\n",
      "0 upgraded, 0 newly installed, 2 to remove and 0 not upgraded.\n",
      "After this operation, 517 kB disk space will be freed.\n",
      "(Reading database ... 6344 files and directories currently installed.)\n",
      "Removing libreadline7:amd64 (7.0-3) ...\n",
      "Removing readline-common (7.0-3) ...\n",
      "Processing triggers for libc-bin (2.24-11+deb9u4) ...\n",
      "(Reading database ... 6320 files and directories currently installed.)\n",
      "Purging configuration files for readline-common (7.0-3) ...\n",
      "Get:1 http://security.debian.org/debian-security stretch/updates InRelease [53.0 kB]\n",
      "Get:2 http://security.debian.org/debian-security stretch/updates/main amd64 Packages [604 kB]\n",
      "Get:3 http://nginx.org/packages/mainline/debian stretch InRelease [2866 B]\n",
      "Ign:4 http://deb.debian.org/debian stretch InRelease\n",
      "Get:5 http://deb.debian.org/debian stretch-updates InRelease [93.6 kB]\n",
      "Get:6 http://nginx.org/packages/mainline/debian stretch/nginx amd64 Packages [81.0 kB]\n",
      "Get:7 http://deb.debian.org/debian stretch Release [118 kB]\n",
      "Get:8 http://deb.debian.org/debian stretch-updates/main amd64 Packages [2596 B]\n",
      "Get:9 http://deb.debian.org/debian stretch Release.gpg [2410 B]\n",
      "Get:10 http://deb.debian.org/debian stretch/main amd64 Packages [7080 kB]\n",
      "Fetched 8037 kB in 15s (523 kB/s)\n",
      "Reading package lists...\n",
      "Reading package lists...\n",
      "Building dependency tree...\n",
      "Reading state information...\n",
      "The following additional packages will be installed:\n",
      "  fontconfig-config fonts-dejavu-core libbsd0 libedit2 libexpat1\n",
      "  libfontconfig1 libfreetype6 libgd3 libgeoip1 libicu57 libjbig0\n",
      "  libjpeg62-turbo libncurses5 libpng16-16 libssl1.1 libtiff5 libwebp6 libx11-6\n",
      "  libx11-data libxau6 libxcb1 libxdmcp6 libxml2 libxpm4 libxslt1.1 ucf\n",
      "Suggested packages:\n",
      "  libgd-tools geoip-bin\n",
      "Recommended packages:\n",
      "  geoip-database libgpm2 xml-core\n",
      "The following NEW packages will be installed:\n",
      "  fontconfig-config fonts-dejavu-core gettext-base libbsd0 libedit2 libexpat1\n",
      "  libfontconfig1 libfreetype6 libgd3 libgeoip1 libicu57 libjbig0\n",
      "  libjpeg62-turbo libncurses5 libpng16-16 libssl1.1 libtiff5 libwebp6 libx11-6\n",
      "  libx11-data libxau6 libxcb1 libxdmcp6 libxml2 libxpm4 libxslt1.1 nginx\n",
      "  nginx-module-geoip nginx-module-image-filter nginx-module-njs\n",
      "  nginx-module-xslt ucf\n",
      "0 upgraded, 32 newly installed, 0 to remove and 0 not upgraded.\n",
      "Need to get 16.5 MB of archives.\n",
      "After this operation, 55.3 MB of additional disk space will be used.\n",
      "Get:1 http://security.debian.org/debian-security stretch/updates/main amd64 libxml2 amd64 2.9.4+dfsg1-2.2+deb9u3 [920 kB]\n",
      "Get:2 http://nginx.org/packages/mainline/debian stretch/nginx amd64 nginx amd64 1.13.6-1~stretch [799 kB]\n",
      "Get:3 http://deb.debian.org/debian stretch/main amd64 libxau6 amd64 1:1.0.8-1 [20.7 kB]\n",
      "Get:4 http://security.debian.org/debian-security stretch/updates/main amd64 libjpeg62-turbo amd64 1:1.5.1-2+deb9u1 [134 kB]\n",
      "Get:5 http://security.debian.org/debian-security stretch/updates/main amd64 libx11-data all 2:1.6.4-3+deb9u3 [291 kB]\n",
      "Get:6 http://security.debian.org/debian-security stretch/updates/main amd64 libx11-6 amd64 2:1.6.4-3+deb9u3 [749 kB]\n",
      "Get:7 http://deb.debian.org/debian stretch/main amd64 libssl1.1 amd64 1.1.0l-1~deb9u1 [1358 kB]\n",
      "Get:8 http://nginx.org/packages/mainline/debian stretch/nginx amd64 nginx-module-geoip amd64 1.13.6-1~stretch [71.9 kB]\n",
      "Get:9 http://nginx.org/packages/mainline/debian stretch/nginx amd64 nginx-module-image-filter amd64 1.13.6-1~stretch [75.9 kB]\n",
      "Get:10 http://nginx.org/packages/mainline/debian stretch/nginx amd64 nginx-module-njs amd64 1.13.6.0.1.14-1~stretch [213 kB]\n",
      "Get:11 http://nginx.org/packages/mainline/debian stretch/nginx amd64 nginx-module-xslt amd64 1.13.6-1~stretch [73.3 kB]\n",
      "Get:12 http://deb.debian.org/debian stretch/main amd64 gettext-base amd64 0.19.8.1-2+deb9u1 [122 kB]\n",
      "Get:13 http://deb.debian.org/debian stretch/main amd64 libbsd0 amd64 0.8.3-1 [83.0 kB]\n",
      "Get:14 http://deb.debian.org/debian stretch/main amd64 libncurses5 amd64 6.0+20161126-1+deb9u2 [93.4 kB]\n",
      "Get:15 http://deb.debian.org/debian stretch/main amd64 libedit2 amd64 3.1-20160903-3 [84.8 kB]\n",
      "Get:16 http://deb.debian.org/debian stretch/main amd64 libicu57 amd64 57.1-6+deb9u4 [7699 kB]\n",
      "Get:17 http://deb.debian.org/debian stretch/main amd64 ucf all 3.0036 [70.2 kB]\n",
      "Get:18 http://deb.debian.org/debian stretch/main amd64 fonts-dejavu-core all 2.37-1 [1068 kB]\n",
      "Get:19 http://deb.debian.org/debian stretch/main amd64 fontconfig-config all 2.11.0-6.7 [271 kB]\n",
      "Get:20 http://deb.debian.org/debian stretch/main amd64 libexpat1 amd64 2.2.0-2+deb9u3 [83.7 kB]\n",
      "Get:21 http://deb.debian.org/debian stretch/main amd64 libpng16-16 amd64 1.6.28-1+deb9u1 [280 kB]\n",
      "Get:22 http://deb.debian.org/debian stretch/main amd64 libfreetype6 amd64 2.6.3-3.2+deb9u1 [438 kB]\n",
      "Get:23 http://deb.debian.org/debian stretch/main amd64 libfontconfig1 amd64 2.11.0-6.7+b1 [331 kB]\n",
      "Get:24 http://deb.debian.org/debian stretch/main amd64 libjbig0 amd64 2.1-3.1+b2 [31.0 kB]\n",
      "Get:25 http://deb.debian.org/debian stretch/main amd64 libtiff5 amd64 4.0.8-2+deb9u5 [239 kB]\n",
      "Get:26 http://deb.debian.org/debian stretch/main amd64 libwebp6 amd64 0.5.2-1 [235 kB]\n",
      "Get:27 http://deb.debian.org/debian stretch/main amd64 libxdmcp6 amd64 1:1.1.2-3 [26.3 kB]\n",
      "Get:28 http://deb.debian.org/debian stretch/main amd64 libxcb1 amd64 1.12-1 [133 kB]\n",
      "Get:29 http://deb.debian.org/debian stretch/main amd64 libxpm4 amd64 1:3.5.12-1 [49.1 kB]\n",
      "Get:30 http://deb.debian.org/debian stretch/main amd64 libgd3 amd64 2.2.4-2+deb9u5 [132 kB]\n",
      "Get:31 http://deb.debian.org/debian stretch/main amd64 libgeoip1 amd64 1.6.9-4 [90.5 kB]\n",
      "Get:32 http://deb.debian.org/debian stretch/main amd64 libxslt1.1 amd64 1.1.29-2.1+deb9u2 [233 kB]\n",
      "\u001b[91mdebconf: delaying package configuration, since apt-utils is not installed\n",
      "\u001b[0mFetched 16.5 MB in 14s (1155 kB/s)\n",
      "Selecting previously unselected package libxau6:amd64.\n",
      "(Reading database ... 6320 files and directories currently installed.)\n",
      "Preparing to unpack .../00-libxau6_1%3a1.0.8-1_amd64.deb ...\n",
      "Unpacking libxau6:amd64 (1:1.0.8-1) ...\n",
      "Selecting previously unselected package libssl1.1:amd64.\n",
      "Preparing to unpack .../01-libssl1.1_1.1.0l-1~deb9u1_amd64.deb ...\n",
      "Unpacking libssl1.1:amd64 (1.1.0l-1~deb9u1) ...\n",
      "Selecting previously unselected package gettext-base.\n",
      "Preparing to unpack .../02-gettext-base_0.19.8.1-2+deb9u1_amd64.deb ...\n",
      "Unpacking gettext-base (0.19.8.1-2+deb9u1) ...\n",
      "Selecting previously unselected package libbsd0:amd64.\n",
      "Preparing to unpack .../03-libbsd0_0.8.3-1_amd64.deb ...\n",
      "Unpacking libbsd0:amd64 (0.8.3-1) ...\n",
      "Selecting previously unselected package libncurses5:amd64.\n",
      "Preparing to unpack .../04-libncurses5_6.0+20161126-1+deb9u2_amd64.deb ...\n",
      "Unpacking libncurses5:amd64 (6.0+20161126-1+deb9u2) ...\n",
      "Selecting previously unselected package libedit2:amd64.\n",
      "Preparing to unpack .../05-libedit2_3.1-20160903-3_amd64.deb ...\n",
      "Unpacking libedit2:amd64 (3.1-20160903-3) ...\n",
      "Selecting previously unselected package libicu57:amd64.\n",
      "Preparing to unpack .../06-libicu57_57.1-6+deb9u4_amd64.deb ...\n",
      "Unpacking libicu57:amd64 (57.1-6+deb9u4) ...\n",
      "Selecting previously unselected package libxml2:amd64.\n",
      "Preparing to unpack .../07-libxml2_2.9.4+dfsg1-2.2+deb9u3_amd64.deb ...\n",
      "Unpacking libxml2:amd64 (2.9.4+dfsg1-2.2+deb9u3) ...\n",
      "Selecting previously unselected package ucf.\n",
      "Preparing to unpack .../08-ucf_3.0036_all.deb ...\n",
      "Moving old data out of the way\n",
      "Unpacking ucf (3.0036) ...\n",
      "Selecting previously unselected package fonts-dejavu-core.\n",
      "Preparing to unpack .../09-fonts-dejavu-core_2.37-1_all.deb ...\n",
      "Unpacking fonts-dejavu-core (2.37-1) ...\n",
      "Selecting previously unselected package fontconfig-config.\n",
      "Preparing to unpack .../10-fontconfig-config_2.11.0-6.7_all.deb ...\n",
      "Unpacking fontconfig-config (2.11.0-6.7) ...\n",
      "Selecting previously unselected package libexpat1:amd64.\n",
      "Preparing to unpack .../11-libexpat1_2.2.0-2+deb9u3_amd64.deb ...\n",
      "Unpacking libexpat1:amd64 (2.2.0-2+deb9u3) ...\n",
      "Selecting previously unselected package libpng16-16:amd64.\n",
      "Preparing to unpack .../12-libpng16-16_1.6.28-1+deb9u1_amd64.deb ...\n",
      "Unpacking libpng16-16:amd64 (1.6.28-1+deb9u1) ...\n",
      "Selecting previously unselected package libfreetype6:amd64.\n",
      "Preparing to unpack .../13-libfreetype6_2.6.3-3.2+deb9u1_amd64.deb ...\n",
      "Unpacking libfreetype6:amd64 (2.6.3-3.2+deb9u1) ...\n",
      "Selecting previously unselected package libfontconfig1:amd64.\n",
      "Preparing to unpack .../14-libfontconfig1_2.11.0-6.7+b1_amd64.deb ...\n",
      "Unpacking libfontconfig1:amd64 (2.11.0-6.7+b1) ...\n",
      "Selecting previously unselected package libjpeg62-turbo:amd64.\n",
      "Preparing to unpack .../15-libjpeg62-turbo_1%3a1.5.1-2+deb9u1_amd64.deb ...\n",
      "Unpacking libjpeg62-turbo:amd64 (1:1.5.1-2+deb9u1) ...\n",
      "Selecting previously unselected package libjbig0:amd64.\n",
      "Preparing to unpack .../16-libjbig0_2.1-3.1+b2_amd64.deb ...\n",
      "Unpacking libjbig0:amd64 (2.1-3.1+b2) ...\n",
      "Selecting previously unselected package libtiff5:amd64.\n",
      "Preparing to unpack .../17-libtiff5_4.0.8-2+deb9u5_amd64.deb ...\n",
      "Unpacking libtiff5:amd64 (4.0.8-2+deb9u5) ...\n",
      "Selecting previously unselected package libwebp6:amd64.\n",
      "Preparing to unpack .../18-libwebp6_0.5.2-1_amd64.deb ...\n",
      "Unpacking libwebp6:amd64 (0.5.2-1) ...\n",
      "Selecting previously unselected package libxdmcp6:amd64.\n",
      "Preparing to unpack .../19-libxdmcp6_1%3a1.1.2-3_amd64.deb ...\n",
      "Unpacking libxdmcp6:amd64 (1:1.1.2-3) ...\n",
      "Selecting previously unselected package libxcb1:amd64.\n",
      "Preparing to unpack .../20-libxcb1_1.12-1_amd64.deb ...\n",
      "Unpacking libxcb1:amd64 (1.12-1) ...\n",
      "Selecting previously unselected package libx11-data.\n",
      "Preparing to unpack .../21-libx11-data_2%3a1.6.4-3+deb9u3_all.deb ...\n",
      "Unpacking libx11-data (2:1.6.4-3+deb9u3) ...\n",
      "Selecting previously unselected package libx11-6:amd64.\n",
      "Preparing to unpack .../22-libx11-6_2%3a1.6.4-3+deb9u3_amd64.deb ...\n",
      "Unpacking libx11-6:amd64 (2:1.6.4-3+deb9u3) ...\n",
      "Selecting previously unselected package libxpm4:amd64.\n",
      "Preparing to unpack .../23-libxpm4_1%3a3.5.12-1_amd64.deb ...\n",
      "Unpacking libxpm4:amd64 (1:3.5.12-1) ...\n",
      "Selecting previously unselected package libgd3:amd64.\n",
      "Preparing to unpack .../24-libgd3_2.2.4-2+deb9u5_amd64.deb ...\n",
      "Unpacking libgd3:amd64 (2.2.4-2+deb9u5) ...\n",
      "Selecting previously unselected package libgeoip1:amd64.\n",
      "Preparing to unpack .../25-libgeoip1_1.6.9-4_amd64.deb ...\n",
      "Unpacking libgeoip1:amd64 (1.6.9-4) ...\n",
      "Selecting previously unselected package libxslt1.1:amd64.\n",
      "Preparing to unpack .../26-libxslt1.1_1.1.29-2.1+deb9u2_amd64.deb ...\n",
      "Unpacking libxslt1.1:amd64 (1.1.29-2.1+deb9u2) ...\n",
      "Selecting previously unselected package nginx.\n",
      "Preparing to unpack .../27-nginx_1.13.6-1~stretch_amd64.deb ...\n",
      "----------------------------------------------------------------------\n",
      "\n",
      "Thanks for using nginx!\n",
      "\n",
      "Please find the official documentation for nginx here:\n",
      "* http://nginx.org/en/docs/\n",
      "\n",
      "Please subscribe to nginx-announce mailing list to get\n",
      "the most important news about nginx:\n",
      "* http://nginx.org/en/support.html\n",
      "\n",
      "Commercial subscriptions for nginx are available on:\n",
      "* http://nginx.com/products/\n",
      "\n",
      "----------------------------------------------------------------------\n",
      "Unpacking nginx (1.13.6-1~stretch) ...\n",
      "Selecting previously unselected package nginx-module-geoip.\n",
      "Preparing to unpack .../28-nginx-module-geoip_1.13.6-1~stretch_amd64.deb ...\n",
      "Unpacking nginx-module-geoip (1.13.6-1~stretch) ...\n",
      "Selecting previously unselected package nginx-module-image-filter.\n",
      "Preparing to unpack .../29-nginx-module-image-filter_1.13.6-1~stretch_amd64.deb ...\n",
      "Unpacking nginx-module-image-filter (1.13.6-1~stretch) ...\n",
      "Selecting previously unselected package nginx-module-njs.\n",
      "Preparing to unpack .../30-nginx-module-njs_1.13.6.0.1.14-1~stretch_amd64.deb ...\n",
      "Unpacking nginx-module-njs (1.13.6.0.1.14-1~stretch) ...\n",
      "Selecting previously unselected package nginx-module-xslt.\n",
      "Preparing to unpack .../31-nginx-module-xslt_1.13.6-1~stretch_amd64.deb ...\n",
      "Unpacking nginx-module-xslt (1.13.6-1~stretch) ...\n",
      "Setting up libncurses5:amd64 (6.0+20161126-1+deb9u2) ...\n",
      "Setting up libexpat1:amd64 (2.2.0-2+deb9u3) ...\n",
      "Setting up libjpeg62-turbo:amd64 (1:1.5.1-2+deb9u1) ...\n",
      "Setting up libpng16-16:amd64 (1.6.28-1+deb9u1) ...\n",
      "Setting up libjbig0:amd64 (2.1-3.1+b2) ...\n",
      "Setting up fonts-dejavu-core (2.37-1) ...\n",
      "Setting up libtiff5:amd64 (4.0.8-2+deb9u5) ...\n",
      "Setting up gettext-base (0.19.8.1-2+deb9u1) ...\n",
      "Setting up libgeoip1:amd64 (1.6.9-4) ...\n",
      "Setting up libicu57:amd64 (57.1-6+deb9u4) ...\n",
      "Setting up libbsd0:amd64 (0.8.3-1) ...\n",
      "Setting up ucf (3.0036) ...\n",
      "debconf: unable to initialize frontend: Dialog\n",
      "debconf: (TERM is not set, so the dialog frontend is not usable.)\n",
      "debconf: falling back to frontend: Readline\n",
      "debconf: unable to initialize frontend: Readline\n",
      "debconf: (Can't locate Term/ReadLine.pm in @INC (you may need to install the Term::ReadLine module) (@INC contains: /etc/perl /usr/local/lib/x86_64-linux-gnu/perl/5.24.1 /usr/local/share/perl/5.24.1 /usr/lib/x86_64-linux-gnu/perl5/5.24 /usr/share/perl5 /usr/lib/x86_64-linux-gnu/perl/5.24 /usr/share/perl/5.24 /usr/local/lib/site_perl /usr/lib/x86_64-linux-gnu/perl-base .) at /usr/share/perl5/Debconf/FrontEnd/Readline.pm line 7.)\n",
      "debconf: falling back to frontend: Teletype\n",
      "Setting up libxml2:amd64 (2.9.4+dfsg1-2.2+deb9u3) ...\n",
      "Setting up libfreetype6:amd64 (2.6.3-3.2+deb9u1) ...\n",
      "Setting up libxslt1.1:amd64 (1.1.29-2.1+deb9u2) ...\n",
      "Processing triggers for libc-bin (2.24-11+deb9u4) ...\n",
      "Setting up libssl1.1:amd64 (1.1.0l-1~deb9u1) ...\n",
      "debconf: unable to initialize frontend: Dialog\n",
      "debconf: (TERM is not set, so the dialog frontend is not usable.)\n",
      "debconf: falling back to frontend: Readline\n",
      "debconf: unable to initialize frontend: Readline\n",
      "debconf: (Can't locate Term/ReadLine.pm in @INC (you may need to install the Term::ReadLine module) (@INC contains: /etc/perl /usr/local/lib/x86_64-linux-gnu/perl/5.24.1 /usr/local/share/perl/5.24.1 /usr/lib/x86_64-linux-gnu/perl5/5.24 /usr/share/perl5 /usr/lib/x86_64-linux-gnu/perl/5.24 /usr/share/perl/5.24 /usr/local/lib/site_perl /usr/lib/x86_64-linux-gnu/perl-base .) at /usr/share/perl5/Debconf/FrontEnd/Readline.pm line 7.)\n",
      "debconf: falling back to frontend: Teletype\n",
      "Setting up libxdmcp6:amd64 (1:1.1.2-3) ...\n",
      "Setting up libx11-data (2:1.6.4-3+deb9u3) ...\n",
      "Setting up libxau6:amd64 (1:1.0.8-1) ...\n",
      "Setting up libwebp6:amd64 (0.5.2-1) ...\n",
      "Setting up libedit2:amd64 (3.1-20160903-3) ...\n",
      "Setting up fontconfig-config (2.11.0-6.7) ...\n",
      "debconf: unable to initialize frontend: Dialog\n",
      "debconf: (TERM is not set, so the dialog frontend is not usable.)\n",
      "debconf: falling back to frontend: Readline\n",
      "debconf: unable to initialize frontend: Readline\n",
      "debconf: (Can't locate Term/ReadLine.pm in @INC (you may need to install the Term::ReadLine module) (@INC contains: /etc/perl /usr/local/lib/x86_64-linux-gnu/perl/5.24.1 /usr/local/share/perl/5.24.1 /usr/lib/x86_64-linux-gnu/perl5/5.24 /usr/share/perl5 /usr/lib/x86_64-linux-gnu/perl/5.24 /usr/share/perl/5.24 /usr/local/lib/site_perl /usr/lib/x86_64-linux-gnu/perl-base .) at /usr/share/perl5/Debconf/FrontEnd/Readline.pm line 7.)\n",
      "debconf: falling back to frontend: Teletype\n",
      "Setting up nginx (1.13.6-1~stretch) ...\n",
      "invoke-rc.d: could not determine current runlevel\n",
      "invoke-rc.d: policy-rc.d denied execution of start.\n",
      "Setting up nginx-module-xslt (1.13.6-1~stretch) ...\n",
      "----------------------------------------------------------------------\n",
      "\n",
      "The xslt dynamic module for nginx has been installed.\n",
      "To enable this module, add the following to /etc/nginx/nginx.conf\n",
      "and reload nginx:\n",
      "\n",
      "    load_module modules/ngx_http_xslt_filter_module.so;\n",
      "\n",
      "Please refer to the module documentation for further details:\n",
      "http://nginx.org/en/docs/http/ngx_http_xslt_module.html\n",
      "\n",
      "----------------------------------------------------------------------\n",
      "Setting up libxcb1:amd64 (1.12-1) ...\n",
      "Setting up libfontconfig1:amd64 (2.11.0-6.7+b1) ...\n",
      "Setting up nginx-module-njs (1.13.6.0.1.14-1~stretch) ...\n",
      "----------------------------------------------------------------------\n",
      "\n",
      "The nginScript dynamic modules for nginx have been installed.\n",
      "To enable these modules, add the following to /etc/nginx/nginx.conf\n",
      "and reload nginx:\n",
      "\n",
      "    load_module modules/ngx_http_js_module.so;\n",
      "    load_module modules/ngx_stream_js_module.so;\n",
      "\n",
      "Please refer to the modules documentation for further details:\n",
      "http://nginx.org/en/docs/njs_about.html\n",
      "http://nginx.org/en/docs/http/ngx_http_js_module.html\n",
      "http://nginx.org/en/docs/stream/ngx_stream_js_module.html\n",
      "\n",
      "----------------------------------------------------------------------\n",
      "Setting up libx11-6:amd64 (2:1.6.4-3+deb9u3) ...\n",
      "Setting up nginx-module-geoip (1.13.6-1~stretch) ...\n",
      "----------------------------------------------------------------------\n",
      "\n",
      "The GeoIP dynamic modules for nginx have been installed.\n",
      "To enable these modules, add the following to /etc/nginx/nginx.conf\n",
      "and reload nginx:\n",
      "\n",
      "    load_module modules/ngx_http_geoip_module.so;\n",
      "    load_module modules/ngx_stream_geoip_module.so;\n",
      "\n",
      "Please refer to the modules documentation for further details:\n",
      "http://nginx.org/en/docs/http/ngx_http_geoip_module.html\n",
      "http://nginx.org/en/docs/stream/ngx_stream_geoip_module.html\n",
      "\n",
      "----------------------------------------------------------------------\n",
      "Setting up libxpm4:amd64 (1:3.5.12-1) ...\n",
      "Setting up libgd3:amd64 (2.2.4-2+deb9u5) ...\n",
      "Setting up nginx-module-image-filter (1.13.6-1~stretch) ...\n",
      "----------------------------------------------------------------------\n",
      "\n",
      "The image filter dynamic module for nginx has been installed.\n",
      "To enable this module, add the following to /etc/nginx/nginx.conf\n",
      "and reload nginx:\n",
      "\n",
      "    load_module modules/ngx_http_image_filter_module.so;\n",
      "\n",
      "Please refer to the module documentation for further details:\n",
      "http://nginx.org/en/docs/http/ngx_http_image_filter_module.html\n",
      "\n",
      "----------------------------------------------------------------------\n",
      "Processing triggers for libc-bin (2.24-11+deb9u4) ...\n",
      "Removing intermediate container 5ac616eddf35\n",
      " ---> 0f517f3c116f\n",
      "Step 5/7 : RUN ln -sf /dev/stdout /var/log/nginx/access.log \t&& ln -sf /dev/stderr /var/log/nginx/error.log\n",
      " ---> Running in 08bab5cb6176\n",
      "Removing intermediate container 08bab5cb6176\n",
      " ---> aaa38ea6d42f\n",
      "Step 6/7 : EXPOSE 80 443\n",
      " ---> Running in 4c7496dc25a0\n",
      "Removing intermediate container 4c7496dc25a0\n",
      " ---> 941a33b5f1a3\n",
      "Step 7/7 : CMD [\"nginx\", \"-g\", \"daemon off;\"]\n",
      " ---> Running in dd868c0c7757\n",
      "Removing intermediate container dd868c0c7757\n",
      " ---> 794983472e9a\n",
      "Successfully built 794983472e9a\n",
      "Successfully tagged customnginx:latest\n"
     ]
    }
   ],
   "source": [
    "!docker image build -t customnginx ."
   ]
  },
  {
   "cell_type": "markdown",
   "metadata": {},
   "source": [
    "## Change the Configuration"
   ]
  },
  {
   "cell_type": "code",
   "execution_count": 5,
   "metadata": {
    "execution": {
     "iopub.execute_input": "2020-10-13T16:42:11.113052Z",
     "iopub.status.busy": "2020-10-13T16:42:11.112771Z",
     "iopub.status.idle": "2020-10-13T16:42:11.788602Z",
     "shell.execute_reply": "2020-10-13T16:42:11.787868Z",
     "shell.execute_reply.started": "2020-10-13T16:42:11.113022Z"
    }
   },
   "outputs": [
    {
     "data": {
      "text/plain": [
       "['Sending build context to Docker daemon  146.9kB',\n",
       " '',\n",
       " 'Step 1/7 : FROM debian:stretch-slim',\n",
       " ' ---> fd6779905c35',\n",
       " 'Step 2/7 : ENV NGINX_VERSION 1.13.6-1~stretch',\n",
       " ' ---> Using cache',\n",
       " ' ---> a3df89a18dbb',\n",
       " 'Step 3/7 : ENV NJS_VERSION   1.13.6.0.1.14-1~stretch',\n",
       " ' ---> Using cache',\n",
       " ' ---> 03c15c9be48e',\n",
       " 'Step 4/7 : RUN apt-get update \\t&& apt-get install --no-install-recommends --no-install-suggests -y gnupg1 \\t&& \\tNGINX_GPGKEY=573BFD6B3D8FBC641079A6ABABF5BD827BD9BF62; \\tfound=\\'\\'; \\tfor server in \\t\\tha.pool.sks-keyservers.net \\t\\thkp://keyserver.ubuntu.com:80 \\t\\thkp://p80.pool.sks-keyservers.net:80 \\t\\tpgp.mit.edu \\t; do \\t\\techo \"Fetching GPG key $NGINX_GPGKEY from $server\"; \\t\\tapt-key adv --keyserver \"$server\" --keyserver-options timeout=10 --recv-keys \"$NGINX_GPGKEY\" && found=yes && break; \\tdone; \\ttest -z \"$found\" && echo >&2 \"error: failed to fetch GPG key $NGINX_GPGKEY\" && exit 1; \\tapt-get remove --purge -y gnupg1 && apt-get -y --purge autoremove && rm -rf /var/lib/apt/lists/* \\t&& echo \"deb http://nginx.org/packages/mainline/debian/ stretch nginx\" >> /etc/apt/sources.list \\t&& apt-get update \\t&& apt-get install --no-install-recommends --no-install-suggests -y \\t\\t\\t\\t\\t\\tnginx=${NGINX_VERSION} \\t\\t\\t\\t\\t\\tnginx-module-xslt=${NGINX_VERSION} \\t\\t\\t\\t\\t\\tnginx-module-geoip=${NGINX_VERSION} \\t\\t\\t\\t\\t\\tnginx-module-image-filter=${NGINX_VERSION} \\t\\t\\t\\t\\t\\tnginx-module-njs=${NJS_VERSION} \\t\\t\\t\\t\\t\\tgettext-base \\t&& rm -rf /var/lib/apt/lists/*',\n",
       " ' ---> Using cache',\n",
       " ' ---> 0f517f3c116f',\n",
       " 'Step 5/7 : RUN ln -sf /dev/stdout /var/log/nginx/access.log \\t&& ln -sf /dev/stderr /var/log/nginx/error.log',\n",
       " ' ---> Using cache',\n",
       " ' ---> aaa38ea6d42f',\n",
       " 'Step 6/7 : EXPOSE 80 443 8080',\n",
       " ' ---> Running in d4bd903e2aa6',\n",
       " 'Removing intermediate container d4bd903e2aa6',\n",
       " ' ---> e89c3413ac3e',\n",
       " 'Step 7/7 : CMD [\"nginx\", \"-g\", \"daemon off;\"]',\n",
       " ' ---> Running in 654b4dbb4b86',\n",
       " 'Removing intermediate container 654b4dbb4b86',\n",
       " ' ---> b221bc1e7206',\n",
       " 'Successfully built b221bc1e7206',\n",
       " 'Successfully tagged customnginx:latest']"
      ]
     },
     "execution_count": 5,
     "metadata": {},
     "output_type": "execute_result"
    }
   ],
   "source": [
    "!!docker image build -t customnginx ."
   ]
  },
  {
   "cell_type": "code",
   "execution_count": 6,
   "metadata": {
    "execution": {
     "iopub.execute_input": "2020-10-13T16:44:33.848514Z",
     "iopub.status.busy": "2020-10-13T16:44:33.848233Z",
     "iopub.status.idle": "2020-10-13T16:44:33.979973Z",
     "shell.execute_reply": "2020-10-13T16:44:33.978835Z",
     "shell.execute_reply.started": "2020-10-13T16:44:33.848483Z"
    }
   },
   "outputs": [
    {
     "name": "stdout",
     "output_type": "stream",
     "text": [
      "total 160\n",
      "drwxr-xr-x  6 shankar  staff    192 Oct 13 14:23 \u001b[1m\u001b[36m..\u001b[m\u001b[m\n",
      "-rw-r--r--  1 shankar  staff   3357 Oct 13 14:54 001_Introduction.ipynb\n",
      "-rw-r--r--  1 shankar  staff  14028 Oct 13 15:13 002_Images_And_Layers.ipynb\n",
      "-rw-r--r--  1 shankar  staff  16162 Oct 13 21:55 003_Tags.ipynb\n",
      "drwxr-xr-x  7 shankar  staff    224 Oct 13 22:05 \u001b[1m\u001b[36m.ipynb_checkpoints\u001b[m\u001b[m\n",
      "-rw-r--r--  1 shankar  staff   2476 Oct 13 22:11 Dockerfile\n",
      "-rw-r--r--  1 shankar  staff  37665 Oct 13 22:13 004_Building_Images.ipynb\n",
      "drwxr-xr-x  8 shankar  staff    256 Oct 13 22:13 \u001b[1m\u001b[36m.\u001b[m\u001b[m\n"
     ]
    }
   ],
   "source": [
    "!ls -ltra"
   ]
  },
  {
   "cell_type": "code",
   "execution_count": 9,
   "metadata": {
    "execution": {
     "iopub.execute_input": "2020-10-13T16:53:12.305359Z",
     "iopub.status.busy": "2020-10-13T16:53:12.305086Z",
     "iopub.status.idle": "2020-10-13T16:53:12.892625Z",
     "shell.execute_reply": "2020-10-13T16:53:12.891710Z",
     "shell.execute_reply.started": "2020-10-13T16:53:12.305329Z"
    }
   },
   "outputs": [
    {
     "name": "stderr",
     "output_type": "stream",
     "text": [
      "  % Total    % Received % Xferd  Average Speed   Time    Time     Time  Current\n",
      "                                 Dload  Upload   Total   Spent    Left  Speed\n",
      "100   410  100   410    0     0   2971      0 --:--:-- --:--:-- --:--:--  2971\n",
      "  % Total    % Received % Xferd  Average Speed   Time    Time     Time  Current\n",
      "                                 Dload  Upload   Total   Spent    Left  Speed\n",
      "100   249  100   249    0     0    595      0 --:--:-- --:--:-- --:--:--   594\n"
     ]
    }
   ],
   "source": [
    "%%bash\n",
    "cd sample-2\n",
    "curl -O https://raw.githubusercontent.com/BretFisher/udemy-docker-mastery/main/dockerfile-sample-2/Dockerfile\n",
    "curl -O https://raw.githubusercontent.com/BretFisher/udemy-docker-mastery/main/dockerfile-sample-2/index.html"
   ]
  },
  {
   "cell_type": "markdown",
   "metadata": {},
   "source": [
    "## Default nginx Server"
   ]
  },
  {
   "cell_type": "code",
   "execution_count": 10,
   "metadata": {
    "execution": {
     "iopub.execute_input": "2020-10-13T16:55:06.226755Z",
     "iopub.status.busy": "2020-10-13T16:55:06.226499Z",
     "iopub.status.idle": "2020-10-13T16:57:04.672264Z",
     "shell.execute_reply": "2020-10-13T16:57:04.671248Z",
     "shell.execute_reply.started": "2020-10-13T16:55:06.226727Z"
    }
   },
   "outputs": [
    {
     "name": "stdout",
     "output_type": "stream",
     "text": [
      "/docker-entrypoint.sh: /docker-entrypoint.d/ is not empty, will attempt to perform configuration\n",
      "/docker-entrypoint.sh: Looking for shell scripts in /docker-entrypoint.d/\n",
      "/docker-entrypoint.sh: Launching /docker-entrypoint.d/10-listen-on-ipv6-by-default.sh\n",
      "10-listen-on-ipv6-by-default.sh: Getting the checksum of /etc/nginx/conf.d/default.conf\n",
      "10-listen-on-ipv6-by-default.sh: Enabled listen on IPv6 in /etc/nginx/conf.d/default.conf\n",
      "/docker-entrypoint.sh: Launching /docker-entrypoint.d/20-envsubst-on-templates.sh\n",
      "/docker-entrypoint.sh: Configuration complete; ready for start up\n",
      "172.17.0.1 - - [13/Oct/2020:16:55:18 +0000] \"GET / HTTP/1.1\" 200 612 \"-\" \"Mozilla/5.0 (Macintosh; Intel Mac OS X 10.15; rv:81.0) Gecko/20100101 Firefox/81.0\" \"-\"\n",
      "2020/10/13 16:55:18 [error] 29#29: *1 open() \"/usr/share/nginx/html/favicon.ico\" failed (2: No such file or directory), client: 172.17.0.1, server: localhost, request: \"GET /favicon.ico HTTP/1.1\", host: \"localhost\", referrer: \"http://localhost/\"\n",
      "172.17.0.1 - - [13/Oct/2020:16:55:18 +0000] \"GET /favicon.ico HTTP/1.1\" 404 153 \"http://localhost/\" \"Mozilla/5.0 (Macintosh; Intel Mac OS X 10.15; rv:81.0) Gecko/20100101 Firefox/81.0\" \"-\"\n",
      "^C\n"
     ]
    }
   ],
   "source": [
    "!docker container run -p 80:80 --rm nginx"
   ]
  },
  {
   "cell_type": "markdown",
   "metadata": {},
   "source": [
    "## Our nginx"
   ]
  },
  {
   "cell_type": "code",
   "execution_count": 13,
   "metadata": {
    "execution": {
     "iopub.execute_input": "2020-10-13T16:57:49.143515Z",
     "iopub.status.busy": "2020-10-13T16:57:49.143240Z",
     "iopub.status.idle": "2020-10-13T16:57:49.813449Z",
     "shell.execute_reply": "2020-10-13T16:57:49.811986Z",
     "shell.execute_reply.started": "2020-10-13T16:57:49.143484Z"
    }
   },
   "outputs": [
    {
     "name": "stdout",
     "output_type": "stream",
     "text": [
      "/Users/shankar/dev/code/studies/gen/code_for_fun/topics/docker/02_Container_Images\n",
      "Sending build context to Docker daemon  157.2kB\n",
      "Step 1/3 : FROM nginx:latest\n",
      " ---> 4bb46517cac3\n",
      "Step 2/3 : WORKDIR /usr/share/nginx/html\n",
      " ---> Using cache\n",
      " ---> 4ba5f1eddd05\n",
      "Step 3/3 : COPY index.html index.html\n",
      "COPY failed: stat /var/lib/docker/tmp/docker-builder288724010/index.html: no such file or directory\n"
     ]
    }
   ],
   "source": [
    "!cd sample-2\n",
    "!pwd\n",
    "!docker image build -t nginx-with-html ."
   ]
  },
  {
   "cell_type": "code",
   "execution_count": null,
   "metadata": {
    "execution": {
     "iopub.execute_input": "2020-10-13T16:59:17.184059Z",
     "iopub.status.busy": "2020-10-13T16:59:17.183796Z"
    }
   },
   "outputs": [
    {
     "name": "stdout",
     "output_type": "stream",
     "text": [
      "/docker-entrypoint.sh: /docker-entrypoint.d/ is not empty, will attempt to perform configuration\n",
      "/docker-entrypoint.sh: Looking for shell scripts in /docker-entrypoint.d/\n",
      "/docker-entrypoint.sh: Launching /docker-entrypoint.d/10-listen-on-ipv6-by-default.sh\n",
      "10-listen-on-ipv6-by-default.sh: Getting the checksum of /etc/nginx/conf.d/default.conf\n",
      "10-listen-on-ipv6-by-default.sh: Enabled listen on IPv6 in /etc/nginx/conf.d/default.conf\n",
      "/docker-entrypoint.sh: Launching /docker-entrypoint.d/20-envsubst-on-templates.sh\n",
      "/docker-entrypoint.sh: Configuration complete; ready for start up\n",
      "172.17.0.1 - - [13/Oct/2020:16:59:27 +0000] \"GET / HTTP/1.1\" 200 249 \"-\" \"Mozilla/5.0 (Macintosh; Intel Mac OS X 10.15; rv:81.0) Gecko/20100101 Firefox/81.0\" \"-\"\n",
      "2020/10/13 16:59:27 [error] 29#29: *1 open() \"/usr/share/nginx/html/favicon.ico\" failed (2: No such file or directory), client: 172.17.0.1, server: localhost, request: \"GET /favicon.ico HTTP/1.1\", host: \"localhost\", referrer: \"http://localhost/\"\n",
      "172.17.0.1 - - [13/Oct/2020:16:59:27 +0000] \"GET /favicon.ico HTTP/1.1\" 404 153 \"http://localhost/\" \"Mozilla/5.0 (Macintosh; Intel Mac OS X 10.15; rv:81.0) Gecko/20100101 Firefox/81.0\" \"-\"\n"
     ]
    }
   ],
   "source": [
    "!docker container run -p 80:80 --rm nginx-with-html"
   ]
  },
  {
   "cell_type": "code",
   "execution_count": null,
   "metadata": {},
   "outputs": [],
   "source": []
  }
 ],
 "metadata": {
  "kernelspec": {
   "display_name": "Python 3",
   "language": "python",
   "name": "python3"
  },
  "language_info": {
   "codemirror_mode": {
    "name": "ipython",
    "version": 3
   },
   "file_extension": ".py",
   "mimetype": "text/x-python",
   "name": "python",
   "nbconvert_exporter": "python",
   "pygments_lexer": "ipython3",
   "version": "3.8.3"
  }
 },
 "nbformat": 4,
 "nbformat_minor": 4
}
