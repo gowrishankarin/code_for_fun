{
 "cells": [
  {
   "cell_type": "markdown",
   "metadata": {},
   "source": [
    "# Images\n",
    "\n",
    "Images and Versions"
   ]
  },
  {
   "cell_type": "code",
   "execution_count": 3,
   "metadata": {
    "execution": {
     "iopub.execute_input": "2020-10-13T09:22:17.548712Z",
     "iopub.status.busy": "2020-10-13T09:22:17.548460Z",
     "iopub.status.idle": "2020-10-13T09:22:22.240752Z",
     "shell.execute_reply": "2020-10-13T09:22:22.239865Z",
     "shell.execute_reply.started": "2020-10-13T09:22:17.548685Z"
    }
   },
   "outputs": [
    {
     "name": "stdout",
     "output_type": "stream",
     "text": [
      "REPOSITORY          TAG                 IMAGE ID            CREATED             SIZE\n",
      "nginx               1.19.3              f35646e83998        42 minutes ago      133MB\n",
      "ubuntu              20.04               9140108b62dc        2 weeks ago         72.9MB\n",
      "ubuntu              latest              4e2eef94cd6b        7 weeks ago         73.9MB\n",
      "nginx               alpine              6f715d38cfe0        2 months ago        22.1MB\n",
      "nginx               latest              4bb46517cac3        2 months ago        133MB\n",
      "centos              7                   7e6257c9f8d8        2 months ago        203MB\n",
      "centos              latest              0d120b6ccaa8        2 months ago        215MB\n",
      "httpd               latest              a6ea92c35c43        2 months ago        166MB\n",
      "mysql               latest              0d64f46acfd1        2 months ago        544MB\n",
      "alpine              latest              a24bb4013296        4 months ago        5.57MB\n",
      "elasticsearch       2                   5e9d896dc62c        2 years ago         479MB\n",
      "1.19.3: Pulling from library/nginx\n",
      "Digest: sha256:5f756c4e3c17635fe2e806ef59c8d247fc0cb4b34e981e08193b87298859e0c5\n",
      "Status: Image is up to date for nginx:1.19.3\n",
      "docker.io/library/nginx:1.19.3\n"
     ]
    }
   ],
   "source": [
    "%%bash\n",
    "docker image ls\n",
    "docker pull nginx:1.19.3"
   ]
  },
  {
   "cell_type": "code",
   "execution_count": 4,
   "metadata": {
    "execution": {
     "iopub.execute_input": "2020-10-13T09:22:25.648629Z",
     "iopub.status.busy": "2020-10-13T09:22:25.648379Z",
     "iopub.status.idle": "2020-10-13T09:23:19.243680Z",
     "shell.execute_reply": "2020-10-13T09:23:19.242429Z",
     "shell.execute_reply.started": "2020-10-13T09:22:25.648601Z"
    }
   },
   "outputs": [
    {
     "name": "stdout",
     "output_type": "stream",
     "text": [
      "\u001b[Kroot@22b99293198a:/# ^C\n",
      "\n",
      "root@22b99293198a:/# "
     ]
    }
   ],
   "source": [
    "!docker container run --rm -it nginx bash"
   ]
  },
  {
   "cell_type": "code",
   "execution_count": null,
   "metadata": {},
   "outputs": [],
   "source": []
  }
 ],
 "metadata": {
  "kernelspec": {
   "display_name": "Python 3",
   "language": "python",
   "name": "python3"
  },
  "language_info": {
   "codemirror_mode": {
    "name": "ipython",
    "version": 3
   },
   "file_extension": ".py",
   "mimetype": "text/x-python",
   "name": "python",
   "nbconvert_exporter": "python",
   "pygments_lexer": "ipython3",
   "version": "3.8.3"
  }
 },
 "nbformat": 4,
 "nbformat_minor": 4
}
