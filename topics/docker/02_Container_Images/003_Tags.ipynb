{
 "cells": [
  {
   "cell_type": "markdown",
   "metadata": {},
   "source": [
    "# Tags"
   ]
  },
  {
   "cell_type": "code",
   "execution_count": 1,
   "metadata": {
    "execution": {
     "iopub.execute_input": "2020-10-13T14:12:32.415062Z",
     "iopub.status.busy": "2020-10-13T14:12:32.414801Z",
     "iopub.status.idle": "2020-10-13T14:12:33.179890Z",
     "shell.execute_reply": "2020-10-13T14:12:33.178647Z",
     "shell.execute_reply.started": "2020-10-13T14:12:32.415033Z"
    }
   },
   "outputs": [
    {
     "name": "stdout",
     "output_type": "stream",
     "text": [
      "\n",
      "Usage:\tdocker image tag SOURCE_IMAGE[:TAG] TARGET_IMAGE[:TAG]\n",
      "\n",
      "Create a tag TARGET_IMAGE that refers to SOURCE_IMAGE\n"
     ]
    }
   ],
   "source": [
    "!docker image tag --help"
   ]
  },
  {
   "cell_type": "code",
   "execution_count": 2,
   "metadata": {
    "execution": {
     "iopub.execute_input": "2020-10-13T14:13:28.579516Z",
     "iopub.status.busy": "2020-10-13T14:13:28.579255Z",
     "iopub.status.idle": "2020-10-13T14:13:28.883907Z",
     "shell.execute_reply": "2020-10-13T14:13:28.882766Z",
     "shell.execute_reply.started": "2020-10-13T14:13:28.579485Z"
    }
   },
   "outputs": [
    {
     "name": "stdout",
     "output_type": "stream",
     "text": [
      "REPOSITORY          TAG                 IMAGE ID            CREATED             SIZE\n",
      "nginx               1.19.3              f35646e83998        6 hours ago         133MB\n",
      "ubuntu              20.04               9140108b62dc        2 weeks ago         72.9MB\n",
      "ubuntu              latest              4e2eef94cd6b        7 weeks ago         73.9MB\n",
      "nginx               alpine              6f715d38cfe0        2 months ago        22.1MB\n",
      "nginx               latest              4bb46517cac3        2 months ago        133MB\n",
      "centos              7                   7e6257c9f8d8        2 months ago        203MB\n",
      "centos              latest              0d120b6ccaa8        2 months ago        215MB\n",
      "httpd               latest              a6ea92c35c43        2 months ago        166MB\n",
      "mysql               latest              0d64f46acfd1        2 months ago        544MB\n",
      "alpine              latest              a24bb4013296        4 months ago        5.57MB\n",
      "elasticsearch       2                   5e9d896dc62c        2 years ago         479MB\n"
     ]
    }
   ],
   "source": [
    "!docker image ls"
   ]
  },
  {
   "cell_type": "code",
   "execution_count": 3,
   "metadata": {
    "execution": {
     "iopub.execute_input": "2020-10-13T14:17:32.076432Z",
     "iopub.status.busy": "2020-10-13T14:17:32.076179Z",
     "iopub.status.idle": "2020-10-13T14:17:37.178047Z",
     "shell.execute_reply": "2020-10-13T14:17:37.176843Z",
     "shell.execute_reply.started": "2020-10-13T14:17:32.076403Z"
    }
   },
   "outputs": [
    {
     "name": "stdout",
     "output_type": "stream",
     "text": [
      "mainline: Pulling from library/nginx\n",
      "Digest: sha256:3ab19e254ae6fc3a72b379b7f9a8a6905a891c02b0b8ae1537d8fd021fd46e02\n",
      "Status: Downloaded newer image for nginx:mainline\n",
      "docker.io/library/nginx:mainline\n"
     ]
    }
   ],
   "source": [
    "!docker pull nginx:mainline"
   ]
  },
  {
   "cell_type": "code",
   "execution_count": 4,
   "metadata": {
    "execution": {
     "iopub.execute_input": "2020-10-13T14:17:44.834478Z",
     "iopub.status.busy": "2020-10-13T14:17:44.834218Z",
     "iopub.status.idle": "2020-10-13T14:17:45.124283Z",
     "shell.execute_reply": "2020-10-13T14:17:45.123340Z",
     "shell.execute_reply.started": "2020-10-13T14:17:44.834448Z"
    }
   },
   "outputs": [
    {
     "name": "stdout",
     "output_type": "stream",
     "text": [
      "REPOSITORY          TAG                 IMAGE ID            CREATED             SIZE\n",
      "nginx               1.19.3              f35646e83998        6 hours ago         133MB\n",
      "nginx               mainline            f35646e83998        6 hours ago         133MB\n",
      "ubuntu              20.04               9140108b62dc        2 weeks ago         72.9MB\n",
      "ubuntu              latest              4e2eef94cd6b        7 weeks ago         73.9MB\n",
      "nginx               alpine              6f715d38cfe0        2 months ago        22.1MB\n",
      "nginx               latest              4bb46517cac3        2 months ago        133MB\n",
      "centos              7                   7e6257c9f8d8        2 months ago        203MB\n",
      "centos              latest              0d120b6ccaa8        2 months ago        215MB\n",
      "httpd               latest              a6ea92c35c43        2 months ago        166MB\n",
      "mysql               latest              0d64f46acfd1        2 months ago        544MB\n",
      "alpine              latest              a24bb4013296        4 months ago        5.57MB\n",
      "elasticsearch       2                   5e9d896dc62c        2 years ago         479MB\n"
     ]
    }
   ],
   "source": [
    "!docker image ls"
   ]
  },
  {
   "cell_type": "markdown",
   "metadata": {},
   "source": [
    "## Tagging an image\n",
    "docker image tag `source_tag` `target_tag`"
   ]
  },
  {
   "cell_type": "code",
   "execution_count": 5,
   "metadata": {
    "execution": {
     "iopub.execute_input": "2020-10-13T14:19:01.739681Z",
     "iopub.status.busy": "2020-10-13T14:19:01.739433Z",
     "iopub.status.idle": "2020-10-13T14:19:02.037175Z",
     "shell.execute_reply": "2020-10-13T14:19:02.035470Z",
     "shell.execute_reply.started": "2020-10-13T14:19:01.739653Z"
    }
   },
   "outputs": [],
   "source": [
    "!docker image tag nginx gowrishankarin/nginx\n"
   ]
  },
  {
   "cell_type": "code",
   "execution_count": 6,
   "metadata": {
    "execution": {
     "iopub.execute_input": "2020-10-13T14:19:09.316911Z",
     "iopub.status.busy": "2020-10-13T14:19:09.316644Z",
     "iopub.status.idle": "2020-10-13T14:19:09.611839Z",
     "shell.execute_reply": "2020-10-13T14:19:09.610588Z",
     "shell.execute_reply.started": "2020-10-13T14:19:09.316880Z"
    }
   },
   "outputs": [
    {
     "name": "stdout",
     "output_type": "stream",
     "text": [
      "REPOSITORY             TAG                 IMAGE ID            CREATED             SIZE\n",
      "nginx                  1.19.3              f35646e83998        6 hours ago         133MB\n",
      "nginx                  mainline            f35646e83998        6 hours ago         133MB\n",
      "ubuntu                 20.04               9140108b62dc        2 weeks ago         72.9MB\n",
      "ubuntu                 latest              4e2eef94cd6b        7 weeks ago         73.9MB\n",
      "nginx                  alpine              6f715d38cfe0        2 months ago        22.1MB\n",
      "gowrishankarin/nginx   latest              4bb46517cac3        2 months ago        133MB\n",
      "nginx                  latest              4bb46517cac3        2 months ago        133MB\n",
      "centos                 7                   7e6257c9f8d8        2 months ago        203MB\n",
      "centos                 latest              0d120b6ccaa8        2 months ago        215MB\n",
      "httpd                  latest              a6ea92c35c43        2 months ago        166MB\n",
      "mysql                  latest              0d64f46acfd1        2 months ago        544MB\n",
      "alpine                 latest              a24bb4013296        4 months ago        5.57MB\n",
      "elasticsearch          2                   5e9d896dc62c        2 years ago         479MB\n"
     ]
    }
   ],
   "source": [
    "!docker image ls"
   ]
  },
  {
   "cell_type": "markdown",
   "metadata": {},
   "source": [
    "## Push to Docker Hub"
   ]
  },
  {
   "cell_type": "code",
   "execution_count": 7,
   "metadata": {
    "execution": {
     "iopub.execute_input": "2020-10-13T14:22:49.501645Z",
     "iopub.status.busy": "2020-10-13T14:22:49.501393Z",
     "iopub.status.idle": "2020-10-13T14:23:08.310676Z",
     "shell.execute_reply": "2020-10-13T14:23:08.309460Z",
     "shell.execute_reply.started": "2020-10-13T14:22:49.501615Z"
    }
   },
   "outputs": [
    {
     "name": "stdout",
     "output_type": "stream",
     "text": [
      "The push refers to repository [docker.io/gowrishankarin/nginx]\n",
      "\n",
      "\u001b[1B33325e31: Preparing \n",
      "\u001b[1B89b1a816: Preparing \n",
      "\u001b[1B93caa5c9: Preparing \n",
      "\u001b[1Bdb614b95: Preparing \n",
      "\u001b[1B04dc0a1f: Mounted from library/httpd \u001b[4A\u001b[2K\u001b[1A\u001b[2Klatest: digest: sha256:179412c42fe3336e7cdc253ad4a2e03d32f50e3037a860cf5edbeb1aaddb915c size: 1362\n"
     ]
    }
   ],
   "source": [
    "!docker image push gowrishankarin/nginx"
   ]
  },
  {
   "cell_type": "code",
   "execution_count": 8,
   "metadata": {
    "execution": {
     "iopub.execute_input": "2020-10-13T16:15:41.146405Z",
     "iopub.status.busy": "2020-10-13T16:15:41.146157Z",
     "iopub.status.idle": "2020-10-13T16:15:41.277434Z",
     "shell.execute_reply": "2020-10-13T16:15:41.276849Z",
     "shell.execute_reply.started": "2020-10-13T16:15:41.146375Z"
    }
   },
   "outputs": [
    {
     "name": "stdout",
     "output_type": "stream",
     "text": [
      "{\n",
      "  \"credSstore\" : \"osxkeychain\",\n",
      "  \"auths\" : {\n",
      "    \"https://index.docker.io/v1/\" : {\n",
      "\n",
      "    }\n",
      "  },\n",
      "  \"stackOrchestrator\" : \"swarm\",\n",
      "  \"experimental\" : \"disabled\",\n",
      "  \"credsStore\" : \"desktop\"\n",
      "}\n"
     ]
    }
   ],
   "source": [
    "cat ~/.docker/config.json"
   ]
  },
  {
   "cell_type": "markdown",
   "metadata": {},
   "source": [
    "$`docker login`  \n",
    "$`docker logout`"
   ]
  },
  {
   "cell_type": "code",
   "execution_count": 9,
   "metadata": {
    "execution": {
     "iopub.execute_input": "2020-10-13T16:18:18.215361Z",
     "iopub.status.busy": "2020-10-13T16:18:18.215074Z",
     "iopub.status.idle": "2020-10-13T16:18:18.674684Z",
     "shell.execute_reply": "2020-10-13T16:18:18.673798Z",
     "shell.execute_reply.started": "2020-10-13T16:18:18.215320Z"
    }
   },
   "outputs": [],
   "source": [
    "!docker image tag gowrishankarin/nginx gowrishankarin/nginx-testing"
   ]
  },
  {
   "cell_type": "code",
   "execution_count": 10,
   "metadata": {
    "execution": {
     "iopub.execute_input": "2020-10-13T16:18:33.127591Z",
     "iopub.status.busy": "2020-10-13T16:18:33.127316Z",
     "iopub.status.idle": "2020-10-13T16:18:53.743422Z",
     "shell.execute_reply": "2020-10-13T16:18:53.742342Z",
     "shell.execute_reply.started": "2020-10-13T16:18:33.127562Z"
    }
   },
   "outputs": [
    {
     "name": "stdout",
     "output_type": "stream",
     "text": [
      "The push refers to repository [docker.io/gowrishankarin/nginx-testing]\n",
      "\n",
      "\u001b[1B33325e31: Preparing \n",
      "\u001b[1B89b1a816: Preparing \n",
      "\u001b[1B93caa5c9: Preparing \n",
      "\u001b[1Bdb614b95: Preparing \n",
      "\u001b[3B93caa5c9: Mounted from gowrishankarin/nginx \u001b[3A\u001b[2Klatest: digest: sha256:179412c42fe3336e7cdc253ad4a2e03d32f50e3037a860cf5edbeb1aaddb915c size: 1362\n"
     ]
    }
   ],
   "source": [
    "!docker image push gowrishankarin/nginx-testing"
   ]
  },
  {
   "cell_type": "code",
   "execution_count": 13,
   "metadata": {
    "execution": {
     "iopub.execute_input": "2020-10-13T16:21:15.907656Z",
     "iopub.status.busy": "2020-10-13T16:21:15.907438Z",
     "iopub.status.idle": "2020-10-13T16:21:16.181753Z",
     "shell.execute_reply": "2020-10-13T16:21:16.180153Z",
     "shell.execute_reply.started": "2020-10-13T16:21:15.907632Z"
    }
   },
   "outputs": [],
   "source": [
    "!docker image tag gowrishankarin/nginx gowrishankarin/nginx:testing"
   ]
  },
  {
   "cell_type": "code",
   "execution_count": 15,
   "metadata": {
    "execution": {
     "iopub.execute_input": "2020-10-13T16:21:38.506551Z",
     "iopub.status.busy": "2020-10-13T16:21:38.506278Z",
     "iopub.status.idle": "2020-10-13T16:21:47.780821Z",
     "shell.execute_reply": "2020-10-13T16:21:47.779942Z",
     "shell.execute_reply.started": "2020-10-13T16:21:38.506520Z"
    }
   },
   "outputs": [
    {
     "name": "stdout",
     "output_type": "stream",
     "text": [
      "The push refers to repository [docker.io/gowrishankarin/nginx]\n",
      "\n",
      "\u001b[1B33325e31: Preparing \n",
      "\u001b[1B89b1a816: Preparing \n",
      "\u001b[1B93caa5c9: Preparing \n",
      "\u001b[1Bdb614b95: Preparing \n",
      "\u001b[5B33325e31: Layer already exists \u001b[1A\u001b[2K\u001b[5A\u001b[2Klatest: digest: sha256:179412c42fe3336e7cdc253ad4a2e03d32f50e3037a860cf5edbeb1aaddb915c size: 1362\n",
      "\n",
      "\u001b[1B33325e31: Preparing \n",
      "\u001b[1B89b1a816: Preparing \n",
      "\u001b[1B93caa5c9: Preparing \n",
      "\u001b[1Bdb614b95: Preparing \n",
      "\u001b[1B04dc0a1f: Layer already exists testing: digest: sha256:179412c42fe3336e7cdc253ad4a2e03d32f50e3037a860cf5edbeb1aaddb915c size: 1362\n"
     ]
    }
   ],
   "source": [
    "!docker image push gowrishankarin/nginx"
   ]
  },
  {
   "cell_type": "code",
   "execution_count": 16,
   "metadata": {
    "execution": {
     "iopub.execute_input": "2020-10-13T16:23:18.023162Z",
     "iopub.status.busy": "2020-10-13T16:23:18.022746Z",
     "iopub.status.idle": "2020-10-13T16:23:18.325959Z",
     "shell.execute_reply": "2020-10-13T16:23:18.325087Z",
     "shell.execute_reply.started": "2020-10-13T16:23:18.023127Z"
    }
   },
   "outputs": [
    {
     "name": "stdout",
     "output_type": "stream",
     "text": [
      "REPOSITORY                     TAG                 IMAGE ID            CREATED             SIZE\n",
      "nginx                          1.19.3              f35646e83998        8 hours ago         133MB\n",
      "nginx                          mainline            f35646e83998        8 hours ago         133MB\n",
      "ubuntu                         20.04               9140108b62dc        2 weeks ago         72.9MB\n",
      "ubuntu                         latest              4e2eef94cd6b        7 weeks ago         73.9MB\n",
      "nginx                          alpine              6f715d38cfe0        2 months ago        22.1MB\n",
      "gowrishankarin/nginx-testing   latest              4bb46517cac3        2 months ago        133MB\n",
      "gowrishankarin/nginx           latest              4bb46517cac3        2 months ago        133MB\n",
      "gowrishankarin/nginx           testing             4bb46517cac3        2 months ago        133MB\n",
      "nginx                          latest              4bb46517cac3        2 months ago        133MB\n",
      "centos                         7                   7e6257c9f8d8        2 months ago        203MB\n",
      "centos                         latest              0d120b6ccaa8        2 months ago        215MB\n",
      "httpd                          latest              a6ea92c35c43        2 months ago        166MB\n",
      "mysql                          latest              0d64f46acfd1        2 months ago        544MB\n",
      "alpine                         latest              a24bb4013296        4 months ago        5.57MB\n",
      "elasticsearch                  2                   5e9d896dc62c        2 years ago         479MB\n"
     ]
    }
   ],
   "source": [
    "!docker image ls"
   ]
  },
  {
   "cell_type": "code",
   "execution_count": null,
   "metadata": {},
   "outputs": [],
   "source": []
  }
 ],
 "metadata": {
  "kernelspec": {
   "display_name": "Python 3",
   "language": "python",
   "name": "python3"
  },
  "language_info": {
   "codemirror_mode": {
    "name": "ipython",
    "version": 3
   },
   "file_extension": ".py",
   "mimetype": "text/x-python",
   "name": "python",
   "nbconvert_exporter": "python",
   "pygments_lexer": "ipython3",
   "version": "3.8.3"
  }
 },
 "nbformat": 4,
 "nbformat_minor": 4
}
