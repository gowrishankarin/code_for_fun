{
 "cells": [
  {
   "cell_type": "markdown",
   "metadata": {},
   "source": [
    "# Overview\n",
    "\n",
    "- Defining the problem of persistent data\n",
    "- Key concepts with containers: immutable, ephemeral\n",
    "- Learning and using Data Volumes\n",
    "- Learning and using Bind Mounts\n",
    "\n",
    "## Container Lifetime and Pesistent Data\n",
    "- Containers are usually immutable and ephemeral\n",
    "- \"Immutable Infrastructure\": Only re-deploy containers, never change\n",
    "- This is the ideal scenario, but what about databases or unique data\n",
    "- Docker gives us features to ensure these \"Separation of Concerns\"\n",
    "- This is known as \"Persistent Data\"\n",
    "- Two ways: Volume and Bind Mounts\n",
    "- Volumes: Make special location outside of container UFS\n",
    "- Bind Mounts: link container path to host path"
   ]
  },
  {
   "cell_type": "markdown",
   "metadata": {},
   "source": [
    "### Volumes\n",
    "\n",
    "**Prune Volumes**  \n",
    "- `>docker prune volumes`"
   ]
  },
  {
   "cell_type": "code",
   "execution_count": 3,
   "metadata": {
    "execution": {
     "iopub.execute_input": "2020-11-07T04:41:16.927274Z",
     "iopub.status.busy": "2020-11-07T04:41:16.927014Z",
     "iopub.status.idle": "2020-11-07T04:41:17.216213Z",
     "shell.execute_reply": "2020-11-07T04:41:17.214785Z",
     "shell.execute_reply.started": "2020-11-07T04:41:16.927245Z"
    }
   },
   "outputs": [
    {
     "name": "stdout",
     "output_type": "stream",
     "text": [
      "[\n",
      "    {\n",
      "        \"Id\": \"sha256:db2b37ec6181ee1f367363432f841bf3819d4a9f61d26e42ac16e5bd7ff2ec18\",\n",
      "        \"RepoTags\": [\n",
      "            \"mysql:latest\"\n",
      "        ],\n",
      "        \"RepoDigests\": [\n",
      "            \"mysql@sha256:8c17271df53ee3b843d6e16d46cff13f22c9c04d6982eb15a9a47bd5c9ac7e2d\"\n",
      "        ],\n",
      "        \"Parent\": \"\",\n",
      "        \"Comment\": \"\",\n",
      "        \"Created\": \"2020-10-22T22:28:20.110788809Z\",\n",
      "        \"Container\": \"4cd656b8935175a8fa44d9ad18c4e33a272c4b88a6362d2680e724ae059a619e\",\n",
      "        \"ContainerConfig\": {\n",
      "            \"Hostname\": \"4cd656b89351\",\n",
      "            \"Domainname\": \"\",\n",
      "            \"User\": \"\",\n",
      "            \"AttachStdin\": false,\n",
      "            \"AttachStdout\": false,\n",
      "            \"AttachStderr\": false,\n",
      "            \"ExposedPorts\": {\n",
      "                \"3306/tcp\": {},\n",
      "                \"33060/tcp\": {}\n",
      "            },\n",
      "            \"Tty\": false,\n",
      "            \"OpenStdin\": false,\n",
      "            \"StdinOnce\": false,\n",
      "            \"Env\": [\n",
      "                \"PATH=/usr/local/sbin:/usr/local/bin:/usr/sbin:/usr/bin:/sbin:/bin\",\n",
      "                \"GOSU_VERSION=1.12\",\n",
      "                \"MYSQL_MAJOR=8.0\",\n",
      "                \"MYSQL_VERSION=8.0.22-1debian10\"\n",
      "            ],\n",
      "            \"Cmd\": [\n",
      "                \"/bin/sh\",\n",
      "                \"-c\",\n",
      "                \"#(nop) \",\n",
      "                \"CMD [\\\"mysqld\\\"]\"\n",
      "            ],\n",
      "            \"ArgsEscaped\": true,\n",
      "            \"Image\": \"sha256:2486dc7b2ebef4af0137258bdd6c309837aaad33203765e79f5183aa4d34609f\",\n",
      "            \"Volumes\": {\n",
      "                \"/var/lib/mysql\": {}\n",
      "            },\n",
      "            \"WorkingDir\": \"\",\n",
      "            \"Entrypoint\": [\n",
      "                \"docker-entrypoint.sh\"\n",
      "            ],\n",
      "            \"OnBuild\": null,\n",
      "            \"Labels\": {}\n",
      "        },\n",
      "        \"DockerVersion\": \"18.09.7\",\n",
      "        \"Author\": \"\",\n",
      "        \"Config\": {\n",
      "            \"Hostname\": \"\",\n",
      "            \"Domainname\": \"\",\n",
      "            \"User\": \"\",\n",
      "            \"AttachStdin\": false,\n",
      "            \"AttachStdout\": false,\n",
      "            \"AttachStderr\": false,\n",
      "            \"ExposedPorts\": {\n",
      "                \"3306/tcp\": {},\n",
      "                \"33060/tcp\": {}\n",
      "            },\n",
      "            \"Tty\": false,\n",
      "            \"OpenStdin\": false,\n",
      "            \"StdinOnce\": false,\n",
      "            \"Env\": [\n",
      "                \"PATH=/usr/local/sbin:/usr/local/bin:/usr/sbin:/usr/bin:/sbin:/bin\",\n",
      "                \"GOSU_VERSION=1.12\",\n",
      "                \"MYSQL_MAJOR=8.0\",\n",
      "                \"MYSQL_VERSION=8.0.22-1debian10\"\n",
      "            ],\n",
      "            \"Cmd\": [\n",
      "                \"mysqld\"\n",
      "            ],\n",
      "            \"ArgsEscaped\": true,\n",
      "            \"Image\": \"sha256:2486dc7b2ebef4af0137258bdd6c309837aaad33203765e79f5183aa4d34609f\",\n",
      "            \"Volumes\": {\n",
      "                \"/var/lib/mysql\": {}\n",
      "            },\n",
      "            \"WorkingDir\": \"\",\n",
      "            \"Entrypoint\": [\n",
      "                \"docker-entrypoint.sh\"\n",
      "            ],\n",
      "            \"OnBuild\": null,\n",
      "            \"Labels\": null\n",
      "        },\n",
      "        \"Architecture\": \"amd64\",\n",
      "        \"Os\": \"linux\",\n",
      "        \"Size\": 545281119,\n",
      "        \"VirtualSize\": 545281119,\n",
      "        \"GraphDriver\": {\n",
      "            \"Data\": {\n",
      "                \"LowerDir\": \"/var/lib/docker/overlay2/b6f5cf8fa52299d255389c487dfa1821284bde970817a64fc34e96c31bb18db0/diff:/var/lib/docker/overlay2/c7600d250fd3e7fd674828e6366c799a856a173487fa2269ae5b9bda4d92084e/diff:/var/lib/docker/overlay2/3cb2c35f1ba0bec0fe75dae581881028bd42844fa365328b6649cfc173367b4b/diff:/var/lib/docker/overlay2/d34a7ffe04d265deab9b3785a5eecd78cb78513739429c8083f91af4f46fd336/diff:/var/lib/docker/overlay2/060bca056ef76fa5018f9baa9408c57040653e1ff390afdeffc65fa83be84101/diff:/var/lib/docker/overlay2/17dfec523969f2a614a768dd9592ad2d278bb3791e84e2ef5887678e27569811/diff:/var/lib/docker/overlay2/1d3c0fcd9cec857ddb331a194e0a8ee25331819f4cc8548d6d361e29fe7fea0f/diff:/var/lib/docker/overlay2/826206ed85b38855065353fdd8319afcc5a8625fa5658b5904afdc60f81568c1/diff:/var/lib/docker/overlay2/4ce01b7ea016ef312f6278774c54497b9d1cf4cb0c478603d8242b10c70b83b7/diff:/var/lib/docker/overlay2/1cc5bf4133eeae0472d3b11f55e443ca4484ed303825e8c40834a5a702487af2/diff:/var/lib/docker/overlay2/56ebd25bbc71b6bdb0ec9a8dbb04c059a8019b6edd98cef31c81057aa32d152a/diff\",\n",
      "                \"MergedDir\": \"/var/lib/docker/overlay2/88a0eff3f374d1d4f4eb305595b964dcbf4167279ad3a47edd7511e76b4bef6f/merged\",\n",
      "                \"UpperDir\": \"/var/lib/docker/overlay2/88a0eff3f374d1d4f4eb305595b964dcbf4167279ad3a47edd7511e76b4bef6f/diff\",\n",
      "                \"WorkDir\": \"/var/lib/docker/overlay2/88a0eff3f374d1d4f4eb305595b964dcbf4167279ad3a47edd7511e76b4bef6f/work\"\n",
      "            },\n",
      "            \"Name\": \"overlay2\"\n",
      "        },\n",
      "        \"RootFS\": {\n",
      "            \"Type\": \"layers\",\n",
      "            \"Layers\": [\n",
      "                \"sha256:d0fe97fa8b8cefdffcef1d62b65aba51a6c87b6679628a2b50fc6a7a579f764c\",\n",
      "                \"sha256:329fe06a30f03f9131ce8d9db2e8a9f725b18efe3457d6f015e1c4d8a3f41a0a\",\n",
      "                \"sha256:ec8c80284c72bcf47ffedc0dde4d5792de761d52f974c30d37d52b9ac00e8a2a\",\n",
      "                \"sha256:9dae2565e824235798981525d6ff9114817b7139c073e0d216b00ae9e58f74d0\",\n",
      "                \"sha256:36b89ee4c647b9c21de8b5476b4922efc873aba69705c169e1a3edcf9128679b\",\n",
      "                \"sha256:c21e35e55228365b268f57fac382a6e991db216cb03d9b7079496f5498956ab0\",\n",
      "                \"sha256:15b463db445cb750fa6bc908a41fd18e38c4d2a02a978b66beb598c4f3f57b95\",\n",
      "                \"sha256:7832ac00d41eda3a773a18408dea0b8e05ddbdd3a1e94afef3b6e3dc6444b7bb\",\n",
      "                \"sha256:7f893b7c04ac2f939737d2da4e15af796c7acc0fd10c2951d9ae5bf33ceec2dc\",\n",
      "                \"sha256:060fef62a228fff7e9dc3b7008bc9089e642ef29dc699f7e90c36ced5b2e75c6\",\n",
      "                \"sha256:af6e790b82373cc65ca73efe5cc8945731525a9dcae6deeea2a5a5802561a72a\",\n",
      "                \"sha256:9b0377a95c0e0bd5aa5b220449d17333faaa0e2bd7e8b93565beeadbf3906646\"\n",
      "            ]\n",
      "        },\n",
      "        \"Metadata\": {\n",
      "            \"LastTagTime\": \"0001-01-01T00:00:00Z\"\n",
      "        }\n",
      "    }\n",
      "]\n"
     ]
    }
   ],
   "source": [
    "!docker image inspect mysql"
   ]
  },
  {
   "cell_type": "code",
   "execution_count": 4,
   "metadata": {
    "execution": {
     "iopub.execute_input": "2020-11-07T04:43:00.084769Z",
     "iopub.status.busy": "2020-11-07T04:43:00.084500Z",
     "iopub.status.idle": "2020-11-07T04:43:00.853285Z",
     "shell.execute_reply": "2020-11-07T04:43:00.852102Z",
     "shell.execute_reply.started": "2020-11-07T04:43:00.084740Z"
    }
   },
   "outputs": [
    {
     "name": "stdout",
     "output_type": "stream",
     "text": [
      "224b5b064ec6ff2b52e29cba78b480cd010a646ffdacba95690a53671d4f9393\n"
     ]
    }
   ],
   "source": [
    "!docker container run -d --name mysql -e MYSQL_ALLOW_EMPTY_PASSWORD=True mysql"
   ]
  },
  {
   "cell_type": "code",
   "execution_count": 5,
   "metadata": {
    "execution": {
     "iopub.execute_input": "2020-11-07T04:43:09.443512Z",
     "iopub.status.busy": "2020-11-07T04:43:09.443154Z",
     "iopub.status.idle": "2020-11-07T04:43:09.797246Z",
     "shell.execute_reply": "2020-11-07T04:43:09.796304Z",
     "shell.execute_reply.started": "2020-11-07T04:43:09.443466Z"
    }
   },
   "outputs": [
    {
     "name": "stdout",
     "output_type": "stream",
     "text": [
      "CONTAINER ID        IMAGE                 COMMAND                  CREATED             STATUS              PORTS                  NAMES\n",
      "224b5b064ec6        mysql                 \"docker-entrypoint.s…\"   9 seconds ago       Up 8 seconds        3306/tcp, 33060/tcp    mysql\n",
      "498ec070b0e3        cvat/ui               \"/docker-entrypoint.…\"   7 days ago          Up 2 hours          80/tcp                 cvat_ui\n",
      "9710bbd9e905        nginx:stable-alpine   \"/docker-entrypoint.…\"   7 days ago          Up 2 hours          0.0.0.0:8080->80/tcp   cvat_proxy\n",
      "d9f68ac2b68e        cvat/server           \"/usr/bin/supervisord\"   7 days ago          Up 2 hours          8080/tcp, 8443/tcp     cvat\n",
      "2b8a2aa219d5        redis:4.0-alpine      \"docker-entrypoint.s…\"   7 days ago          Up 2 hours          6379/tcp               cvat_redis\n",
      "47c63fc28748        postgres:10-alpine    \"docker-entrypoint.s…\"   7 days ago          Up 2 hours          5432/tcp               cvat_db\n"
     ]
    }
   ],
   "source": [
    "!docker container ls"
   ]
  },
  {
   "cell_type": "code",
   "execution_count": 6,
   "metadata": {
    "execution": {
     "iopub.execute_input": "2020-11-07T04:44:03.478070Z",
     "iopub.status.busy": "2020-11-07T04:44:03.477768Z",
     "iopub.status.idle": "2020-11-07T04:44:03.758138Z",
     "shell.execute_reply": "2020-11-07T04:44:03.757287Z",
     "shell.execute_reply.started": "2020-11-07T04:44:03.478037Z"
    }
   },
   "outputs": [
    {
     "name": "stdout",
     "output_type": "stream",
     "text": [
      "[\n",
      "    {\n",
      "        \"Id\": \"224b5b064ec6ff2b52e29cba78b480cd010a646ffdacba95690a53671d4f9393\",\n",
      "        \"Created\": \"2020-11-07T04:43:00.296528087Z\",\n",
      "        \"Path\": \"docker-entrypoint.sh\",\n",
      "        \"Args\": [\n",
      "            \"mysqld\"\n",
      "        ],\n",
      "        \"State\": {\n",
      "            \"Status\": \"running\",\n",
      "            \"Running\": true,\n",
      "            \"Paused\": false,\n",
      "            \"Restarting\": false,\n",
      "            \"OOMKilled\": false,\n",
      "            \"Dead\": false,\n",
      "            \"Pid\": 3159,\n",
      "            \"ExitCode\": 0,\n",
      "            \"Error\": \"\",\n",
      "            \"StartedAt\": \"2020-11-07T04:43:00.737416733Z\",\n",
      "            \"FinishedAt\": \"0001-01-01T00:00:00Z\"\n",
      "        },\n",
      "        \"Image\": \"sha256:db2b37ec6181ee1f367363432f841bf3819d4a9f61d26e42ac16e5bd7ff2ec18\",\n",
      "        \"ResolvConfPath\": \"/var/lib/docker/containers/224b5b064ec6ff2b52e29cba78b480cd010a646ffdacba95690a53671d4f9393/resolv.conf\",\n",
      "        \"HostnamePath\": \"/var/lib/docker/containers/224b5b064ec6ff2b52e29cba78b480cd010a646ffdacba95690a53671d4f9393/hostname\",\n",
      "        \"HostsPath\": \"/var/lib/docker/containers/224b5b064ec6ff2b52e29cba78b480cd010a646ffdacba95690a53671d4f9393/hosts\",\n",
      "        \"LogPath\": \"/var/lib/docker/containers/224b5b064ec6ff2b52e29cba78b480cd010a646ffdacba95690a53671d4f9393/224b5b064ec6ff2b52e29cba78b480cd010a646ffdacba95690a53671d4f9393-json.log\",\n",
      "        \"Name\": \"/mysql\",\n",
      "        \"RestartCount\": 0,\n",
      "        \"Driver\": \"overlay2\",\n",
      "        \"Platform\": \"linux\",\n",
      "        \"MountLabel\": \"\",\n",
      "        \"ProcessLabel\": \"\",\n",
      "        \"AppArmorProfile\": \"\",\n",
      "        \"ExecIDs\": null,\n",
      "        \"HostConfig\": {\n",
      "            \"Binds\": null,\n",
      "            \"ContainerIDFile\": \"\",\n",
      "            \"LogConfig\": {\n",
      "                \"Type\": \"json-file\",\n",
      "                \"Config\": {}\n",
      "            },\n",
      "            \"NetworkMode\": \"default\",\n",
      "            \"PortBindings\": {},\n",
      "            \"RestartPolicy\": {\n",
      "                \"Name\": \"no\",\n",
      "                \"MaximumRetryCount\": 0\n",
      "            },\n",
      "            \"AutoRemove\": false,\n",
      "            \"VolumeDriver\": \"\",\n",
      "            \"VolumesFrom\": null,\n",
      "            \"CapAdd\": null,\n",
      "            \"CapDrop\": null,\n",
      "            \"Capabilities\": null,\n",
      "            \"Dns\": [],\n",
      "            \"DnsOptions\": [],\n",
      "            \"DnsSearch\": [],\n",
      "            \"ExtraHosts\": null,\n",
      "            \"GroupAdd\": null,\n",
      "            \"IpcMode\": \"private\",\n",
      "            \"Cgroup\": \"\",\n",
      "            \"Links\": null,\n",
      "            \"OomScoreAdj\": 0,\n",
      "            \"PidMode\": \"\",\n",
      "            \"Privileged\": false,\n",
      "            \"PublishAllPorts\": false,\n",
      "            \"ReadonlyRootfs\": false,\n",
      "            \"SecurityOpt\": null,\n",
      "            \"UTSMode\": \"\",\n",
      "            \"UsernsMode\": \"\",\n",
      "            \"ShmSize\": 67108864,\n",
      "            \"Runtime\": \"runc\",\n",
      "            \"ConsoleSize\": [\n",
      "                0,\n",
      "                0\n",
      "            ],\n",
      "            \"Isolation\": \"\",\n",
      "            \"CpuShares\": 0,\n",
      "            \"Memory\": 0,\n",
      "            \"NanoCpus\": 0,\n",
      "            \"CgroupParent\": \"\",\n",
      "            \"BlkioWeight\": 0,\n",
      "            \"BlkioWeightDevice\": [],\n",
      "            \"BlkioDeviceReadBps\": null,\n",
      "            \"BlkioDeviceWriteBps\": null,\n",
      "            \"BlkioDeviceReadIOps\": null,\n",
      "            \"BlkioDeviceWriteIOps\": null,\n",
      "            \"CpuPeriod\": 0,\n",
      "            \"CpuQuota\": 0,\n",
      "            \"CpuRealtimePeriod\": 0,\n",
      "            \"CpuRealtimeRuntime\": 0,\n",
      "            \"CpusetCpus\": \"\",\n",
      "            \"CpusetMems\": \"\",\n",
      "            \"Devices\": [],\n",
      "            \"DeviceCgroupRules\": null,\n",
      "            \"DeviceRequests\": null,\n",
      "            \"KernelMemory\": 0,\n",
      "            \"KernelMemoryTCP\": 0,\n",
      "            \"MemoryReservation\": 0,\n",
      "            \"MemorySwap\": 0,\n",
      "            \"MemorySwappiness\": null,\n",
      "            \"OomKillDisable\": false,\n",
      "            \"PidsLimit\": null,\n",
      "            \"Ulimits\": null,\n",
      "            \"CpuCount\": 0,\n",
      "            \"CpuPercent\": 0,\n",
      "            \"IOMaximumIOps\": 0,\n",
      "            \"IOMaximumBandwidth\": 0,\n",
      "            \"MaskedPaths\": [\n",
      "                \"/proc/asound\",\n",
      "                \"/proc/acpi\",\n",
      "                \"/proc/kcore\",\n",
      "                \"/proc/keys\",\n",
      "                \"/proc/latency_stats\",\n",
      "                \"/proc/timer_list\",\n",
      "                \"/proc/timer_stats\",\n",
      "                \"/proc/sched_debug\",\n",
      "                \"/proc/scsi\",\n",
      "                \"/sys/firmware\"\n",
      "            ],\n",
      "            \"ReadonlyPaths\": [\n",
      "                \"/proc/bus\",\n",
      "                \"/proc/fs\",\n",
      "                \"/proc/irq\",\n",
      "                \"/proc/sys\",\n",
      "                \"/proc/sysrq-trigger\"\n",
      "            ]\n",
      "        },\n",
      "        \"GraphDriver\": {\n",
      "            \"Data\": {\n",
      "                \"LowerDir\": \"/var/lib/docker/overlay2/3751d8b6852e7524437012b4eba045fce61b5746a43fbdc4e353f1281b6d4e9e-init/diff:/var/lib/docker/overlay2/88a0eff3f374d1d4f4eb305595b964dcbf4167279ad3a47edd7511e76b4bef6f/diff:/var/lib/docker/overlay2/b6f5cf8fa52299d255389c487dfa1821284bde970817a64fc34e96c31bb18db0/diff:/var/lib/docker/overlay2/c7600d250fd3e7fd674828e6366c799a856a173487fa2269ae5b9bda4d92084e/diff:/var/lib/docker/overlay2/3cb2c35f1ba0bec0fe75dae581881028bd42844fa365328b6649cfc173367b4b/diff:/var/lib/docker/overlay2/d34a7ffe04d265deab9b3785a5eecd78cb78513739429c8083f91af4f46fd336/diff:/var/lib/docker/overlay2/060bca056ef76fa5018f9baa9408c57040653e1ff390afdeffc65fa83be84101/diff:/var/lib/docker/overlay2/17dfec523969f2a614a768dd9592ad2d278bb3791e84e2ef5887678e27569811/diff:/var/lib/docker/overlay2/1d3c0fcd9cec857ddb331a194e0a8ee25331819f4cc8548d6d361e29fe7fea0f/diff:/var/lib/docker/overlay2/826206ed85b38855065353fdd8319afcc5a8625fa5658b5904afdc60f81568c1/diff:/var/lib/docker/overlay2/4ce01b7ea016ef312f6278774c54497b9d1cf4cb0c478603d8242b10c70b83b7/diff:/var/lib/docker/overlay2/1cc5bf4133eeae0472d3b11f55e443ca4484ed303825e8c40834a5a702487af2/diff:/var/lib/docker/overlay2/56ebd25bbc71b6bdb0ec9a8dbb04c059a8019b6edd98cef31c81057aa32d152a/diff\",\n",
      "                \"MergedDir\": \"/var/lib/docker/overlay2/3751d8b6852e7524437012b4eba045fce61b5746a43fbdc4e353f1281b6d4e9e/merged\",\n",
      "                \"UpperDir\": \"/var/lib/docker/overlay2/3751d8b6852e7524437012b4eba045fce61b5746a43fbdc4e353f1281b6d4e9e/diff\",\n",
      "                \"WorkDir\": \"/var/lib/docker/overlay2/3751d8b6852e7524437012b4eba045fce61b5746a43fbdc4e353f1281b6d4e9e/work\"\n",
      "            },\n",
      "            \"Name\": \"overlay2\"\n",
      "        },\n",
      "        \"Mounts\": [\n",
      "            {\n",
      "                \"Type\": \"volume\",\n",
      "                \"Name\": \"7515f955645cd93fc7ed5a87175ea4afd24341b57c12f214bd244a32f235a5e6\",\n",
      "                \"Source\": \"/var/lib/docker/volumes/7515f955645cd93fc7ed5a87175ea4afd24341b57c12f214bd244a32f235a5e6/_data\",\n",
      "                \"Destination\": \"/var/lib/mysql\",\n",
      "                \"Driver\": \"local\",\n",
      "                \"Mode\": \"\",\n",
      "                \"RW\": true,\n",
      "                \"Propagation\": \"\"\n",
      "            }\n",
      "        ],\n",
      "        \"Config\": {\n",
      "            \"Hostname\": \"224b5b064ec6\",\n",
      "            \"Domainname\": \"\",\n",
      "            \"User\": \"\",\n",
      "            \"AttachStdin\": false,\n",
      "            \"AttachStdout\": false,\n",
      "            \"AttachStderr\": false,\n",
      "            \"ExposedPorts\": {\n",
      "                \"3306/tcp\": {},\n",
      "                \"33060/tcp\": {}\n",
      "            },\n",
      "            \"Tty\": false,\n",
      "            \"OpenStdin\": false,\n",
      "            \"StdinOnce\": false,\n",
      "            \"Env\": [\n",
      "                \"MYSQL_ALLOW_EMPTY_PASSWORD=True\",\n",
      "                \"PATH=/usr/local/sbin:/usr/local/bin:/usr/sbin:/usr/bin:/sbin:/bin\",\n",
      "                \"GOSU_VERSION=1.12\",\n",
      "                \"MYSQL_MAJOR=8.0\",\n",
      "                \"MYSQL_VERSION=8.0.22-1debian10\"\n",
      "            ],\n",
      "            \"Cmd\": [\n",
      "                \"mysqld\"\n",
      "            ],\n",
      "            \"Image\": \"mysql\",\n",
      "            \"Volumes\": {\n",
      "                \"/var/lib/mysql\": {}\n",
      "            },\n",
      "            \"WorkingDir\": \"\",\n",
      "            \"Entrypoint\": [\n",
      "                \"docker-entrypoint.sh\"\n",
      "            ],\n",
      "            \"OnBuild\": null,\n",
      "            \"Labels\": {}\n",
      "        },\n",
      "        \"NetworkSettings\": {\n",
      "            \"Bridge\": \"\",\n",
      "            \"SandboxID\": \"3887673bba133bcaf23ed25a59ccbf8532845da4be22dcf415a10c0007fc3d2d\",\n",
      "            \"HairpinMode\": false,\n",
      "            \"LinkLocalIPv6Address\": \"\",\n",
      "            \"LinkLocalIPv6PrefixLen\": 0,\n",
      "            \"Ports\": {\n",
      "                \"3306/tcp\": null,\n",
      "                \"33060/tcp\": null\n",
      "            },\n",
      "            \"SandboxKey\": \"/var/run/docker/netns/3887673bba13\",\n",
      "            \"SecondaryIPAddresses\": null,\n",
      "            \"SecondaryIPv6Addresses\": null,\n",
      "            \"EndpointID\": \"afb50b407bcf6747a9678e5739ea451700fa6fdceca90edd580efaae4529f0c5\",\n",
      "            \"Gateway\": \"172.17.0.1\",\n",
      "            \"GlobalIPv6Address\": \"\",\n",
      "            \"GlobalIPv6PrefixLen\": 0,\n",
      "            \"IPAddress\": \"172.17.0.2\",\n",
      "            \"IPPrefixLen\": 16,\n",
      "            \"IPv6Gateway\": \"\",\n",
      "            \"MacAddress\": \"02:42:ac:11:00:02\",\n",
      "            \"Networks\": {\n",
      "                \"bridge\": {\n",
      "                    \"IPAMConfig\": null,\n",
      "                    \"Links\": null,\n",
      "                    \"Aliases\": null,\n",
      "                    \"NetworkID\": \"2f01c8a2d189822fd5e9222d80a832b0bb43a30dd9a77e6236246bd7dfdaed20\",\n",
      "                    \"EndpointID\": \"afb50b407bcf6747a9678e5739ea451700fa6fdceca90edd580efaae4529f0c5\",\n",
      "                    \"Gateway\": \"172.17.0.1\",\n",
      "                    \"IPAddress\": \"172.17.0.2\",\n",
      "                    \"IPPrefixLen\": 16,\n",
      "                    \"IPv6Gateway\": \"\",\n",
      "                    \"GlobalIPv6Address\": \"\",\n",
      "                    \"GlobalIPv6PrefixLen\": 0,\n",
      "                    \"MacAddress\": \"02:42:ac:11:00:02\",\n",
      "                    \"DriverOpts\": null\n",
      "                }\n",
      "            }\n",
      "        }\n",
      "    }\n",
      "]\n"
     ]
    }
   ],
   "source": [
    "!docker container inspect mysql"
   ]
  },
  {
   "cell_type": "code",
   "execution_count": 7,
   "metadata": {
    "execution": {
     "iopub.execute_input": "2020-11-07T04:45:21.700602Z",
     "iopub.status.busy": "2020-11-07T04:45:21.700287Z",
     "iopub.status.idle": "2020-11-07T04:45:22.011001Z",
     "shell.execute_reply": "2020-11-07T04:45:22.010134Z",
     "shell.execute_reply.started": "2020-11-07T04:45:21.700572Z"
    }
   },
   "outputs": [
    {
     "name": "stdout",
     "output_type": "stream",
     "text": [
      "DRIVER              VOLUME NAME\n",
      "local               1db34a8dc27f864e89c217ffecb07ed2014a7c5b23d95f4a58f8e74fe5b3b60a\n",
      "local               7515f955645cd93fc7ed5a87175ea4afd24341b57c12f214bd244a32f235a5e6\n",
      "local               cvat_cvat_data\n",
      "local               cvat_cvat_db\n",
      "local               cvat_cvat_keys\n",
      "local               cvat_cvat_logs\n",
      "local               cvat_cvat_models\n"
     ]
    }
   ],
   "source": [
    "!docker volume ls"
   ]
  },
  {
   "cell_type": "code",
   "execution_count": 8,
   "metadata": {
    "execution": {
     "iopub.execute_input": "2020-11-07T04:45:52.411555Z",
     "iopub.status.busy": "2020-11-07T04:45:52.411307Z",
     "iopub.status.idle": "2020-11-07T04:45:52.693461Z",
     "shell.execute_reply": "2020-11-07T04:45:52.692254Z",
     "shell.execute_reply.started": "2020-11-07T04:45:52.411527Z"
    }
   },
   "outputs": [
    {
     "name": "stdout",
     "output_type": "stream",
     "text": [
      "[\n",
      "    {\n",
      "        \"CreatedAt\": \"2020-11-07T04:40:35Z\",\n",
      "        \"Driver\": \"local\",\n",
      "        \"Labels\": null,\n",
      "        \"Mountpoint\": \"/var/lib/docker/volumes/1db34a8dc27f864e89c217ffecb07ed2014a7c5b23d95f4a58f8e74fe5b3b60a/_data\",\n",
      "        \"Name\": \"1db34a8dc27f864e89c217ffecb07ed2014a7c5b23d95f4a58f8e74fe5b3b60a\",\n",
      "        \"Options\": null,\n",
      "        \"Scope\": \"local\"\n",
      "    }\n",
      "]\n"
     ]
    }
   ],
   "source": [
    "!docker volume inspect 1db34a8dc27f864e89c217ffecb07ed2014a7c5b23d95f4a58f8e74fe5b3b60a"
   ]
  },
  {
   "cell_type": "code",
   "execution_count": 9,
   "metadata": {
    "execution": {
     "iopub.execute_input": "2020-11-07T04:46:06.650937Z",
     "iopub.status.busy": "2020-11-07T04:46:06.650712Z",
     "iopub.status.idle": "2020-11-07T04:46:06.929956Z",
     "shell.execute_reply": "2020-11-07T04:46:06.929108Z",
     "shell.execute_reply.started": "2020-11-07T04:46:06.650912Z"
    }
   },
   "outputs": [
    {
     "name": "stdout",
     "output_type": "stream",
     "text": [
      "[\n",
      "    {\n",
      "        \"CreatedAt\": \"2020-11-07T04:43:16Z\",\n",
      "        \"Driver\": \"local\",\n",
      "        \"Labels\": null,\n",
      "        \"Mountpoint\": \"/var/lib/docker/volumes/7515f955645cd93fc7ed5a87175ea4afd24341b57c12f214bd244a32f235a5e6/_data\",\n",
      "        \"Name\": \"7515f955645cd93fc7ed5a87175ea4afd24341b57c12f214bd244a32f235a5e6\",\n",
      "        \"Options\": null,\n",
      "        \"Scope\": \"local\"\n",
      "    }\n",
      "]\n"
     ]
    }
   ],
   "source": [
    "!docker volume inspect 7515f955645cd93fc7ed5a87175ea4afd24341b57c12f214bd244a32f235a5e6"
   ]
  },
  {
   "cell_type": "code",
   "execution_count": 10,
   "metadata": {
    "execution": {
     "iopub.execute_input": "2020-11-07T04:48:28.119951Z",
     "iopub.status.busy": "2020-11-07T04:48:28.119633Z",
     "iopub.status.idle": "2020-11-07T04:48:29.596865Z",
     "shell.execute_reply": "2020-11-07T04:48:29.595511Z",
     "shell.execute_reply.started": "2020-11-07T04:48:28.119915Z"
    }
   },
   "outputs": [
    {
     "name": "stdout",
     "output_type": "stream",
     "text": [
      "mysql\n",
      "CONTAINER ID        IMAGE                 COMMAND                  CREATED             STATUS                              PORTS                  NAMES\n",
      "224b5b064ec6        mysql                 \"docker-entrypoint.s…\"   5 minutes ago       Exited (0) Less than a second ago                          mysql\n",
      "498ec070b0e3        cvat/ui               \"/docker-entrypoint.…\"   7 days ago          Up 2 hours                          80/tcp                 cvat_ui\n",
      "9710bbd9e905        nginx:stable-alpine   \"/docker-entrypoint.…\"   7 days ago          Up 2 hours                          0.0.0.0:8080->80/tcp   cvat_proxy\n",
      "d9f68ac2b68e        cvat/server           \"/usr/bin/supervisord\"   7 days ago          Up 2 hours                          8080/tcp, 8443/tcp     cvat\n",
      "2b8a2aa219d5        redis:4.0-alpine      \"docker-entrypoint.s…\"   7 days ago          Up 2 hours                          6379/tcp               cvat_redis\n",
      "47c63fc28748        postgres:10-alpine    \"docker-entrypoint.s…\"   7 days ago          Up 2 hours                          5432/tcp               cvat_db\n",
      "4851e9d30551        7c7951307f89          \"/bin/sh -c 'npm run…\"   7 days ago          Exited (2) 7 days ago                                      affectionate_newton\n"
     ]
    }
   ],
   "source": [
    "!docker container stop mysql\n",
    "!docker container ls -a"
   ]
  },
  {
   "cell_type": "code",
   "execution_count": 12,
   "metadata": {
    "execution": {
     "iopub.execute_input": "2020-11-07T04:48:53.935984Z",
     "iopub.status.busy": "2020-11-07T04:48:53.935752Z",
     "iopub.status.idle": "2020-11-07T04:48:54.211606Z",
     "shell.execute_reply": "2020-11-07T04:48:54.210264Z",
     "shell.execute_reply.started": "2020-11-07T04:48:53.935960Z"
    }
   },
   "outputs": [
    {
     "name": "stdout",
     "output_type": "stream",
     "text": [
      "DRIVER              VOLUME NAME\n",
      "local               1db34a8dc27f864e89c217ffecb07ed2014a7c5b23d95f4a58f8e74fe5b3b60a\n",
      "local               7515f955645cd93fc7ed5a87175ea4afd24341b57c12f214bd244a32f235a5e6\n",
      "local               cvat_cvat_data\n",
      "local               cvat_cvat_db\n",
      "local               cvat_cvat_keys\n",
      "local               cvat_cvat_logs\n",
      "local               cvat_cvat_models\n"
     ]
    }
   ],
   "source": [
    "!docker volume ls"
   ]
  },
  {
   "cell_type": "code",
   "execution_count": 13,
   "metadata": {
    "execution": {
     "iopub.execute_input": "2020-11-07T04:50:34.356900Z",
     "iopub.status.busy": "2020-11-07T04:50:34.356628Z",
     "iopub.status.idle": "2020-11-07T04:50:34.647491Z",
     "shell.execute_reply": "2020-11-07T04:50:34.646909Z",
     "shell.execute_reply.started": "2020-11-07T04:50:34.356870Z"
    }
   },
   "outputs": [
    {
     "name": "stdout",
     "output_type": "stream",
     "text": [
      "mysql\n"
     ]
    }
   ],
   "source": [
    "!docker container rm mysql"
   ]
  },
  {
   "cell_type": "markdown",
   "metadata": {},
   "source": [
    "### Named Volume"
   ]
  },
  {
   "cell_type": "code",
   "execution_count": 14,
   "metadata": {
    "execution": {
     "iopub.execute_input": "2020-11-07T04:52:09.092605Z",
     "iopub.status.busy": "2020-11-07T04:52:09.092329Z",
     "iopub.status.idle": "2020-11-07T04:52:09.784366Z",
     "shell.execute_reply": "2020-11-07T04:52:09.783618Z",
     "shell.execute_reply.started": "2020-11-07T04:52:09.092573Z"
    }
   },
   "outputs": [
    {
     "name": "stdout",
     "output_type": "stream",
     "text": [
      "9879bbfd4d11a72f31bfe663726055a68cc4bc752f6d5290d811b98b534a0ac4\n"
     ]
    }
   ],
   "source": [
    "!docker container run -d --name mysql -e MYSQL_ALLOW_EMPTY_PASSWORD=True -v mysql-db:/var/lib/mysql mysql"
   ]
  },
  {
   "cell_type": "code",
   "execution_count": 16,
   "metadata": {
    "execution": {
     "iopub.execute_input": "2020-11-07T04:52:25.854072Z",
     "iopub.status.busy": "2020-11-07T04:52:25.853729Z",
     "iopub.status.idle": "2020-11-07T04:52:26.150080Z",
     "shell.execute_reply": "2020-11-07T04:52:26.149042Z",
     "shell.execute_reply.started": "2020-11-07T04:52:25.854043Z"
    }
   },
   "outputs": [
    {
     "name": "stdout",
     "output_type": "stream",
     "text": [
      "DRIVER              VOLUME NAME\n",
      "local               1db34a8dc27f864e89c217ffecb07ed2014a7c5b23d95f4a58f8e74fe5b3b60a\n",
      "local               7515f955645cd93fc7ed5a87175ea4afd24341b57c12f214bd244a32f235a5e6\n",
      "local               cvat_cvat_data\n",
      "local               cvat_cvat_db\n",
      "local               cvat_cvat_keys\n",
      "local               cvat_cvat_logs\n",
      "local               cvat_cvat_models\n",
      "local               mysql-db\n"
     ]
    }
   ],
   "source": [
    "!docker volume ls"
   ]
  },
  {
   "cell_type": "code",
   "execution_count": null,
   "metadata": {},
   "outputs": [],
   "source": []
  }
 ],
 "metadata": {
  "kernelspec": {
   "display_name": "Python 3",
   "language": "python",
   "name": "python3"
  },
  "language_info": {
   "codemirror_mode": {
    "name": "ipython",
    "version": 3
   },
   "file_extension": ".py",
   "mimetype": "text/x-python",
   "name": "python",
   "nbconvert_exporter": "python",
   "pygments_lexer": "ipython3",
   "version": "3.8.3"
  }
 },
 "nbformat": 4,
 "nbformat_minor": 4
}
