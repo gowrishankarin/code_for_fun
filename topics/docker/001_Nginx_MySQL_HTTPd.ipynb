{
 "cells": [
  {
   "cell_type": "markdown",
   "metadata": {},
   "source": [
    "# Manage Multiple Containers\n",
    "- Run a `nginx`, a `mysql` and a `httpd` server\n",
    "- Run all of them `--detach`, name them with `--name`\n",
    "- nginx to listen on `80:80`, httpd on `8080:80`, mysql on `3306:3306`\n",
    "- When running `mysql` sue the `--env` option to pass in `MYSQL_RANDOM_ROOT_PASSWORD=yes`\n",
    "- Use `docker container logs` on mysql to find the random password it created on startup\n",
    "- Clean it all up with `docker container stop` and `docker container rm`\n",
    "- Use `docker container ls` to ensure everything is correct before and after cleanup"
   ]
  },
  {
   "cell_type": "markdown",
   "metadata": {},
   "source": [
    "### `NGINX`\n",
    "<pre><code>\n",
    "docker container run --publish 80:80 -detach --name webhost_1 nginx\n",
    "</code></pre>"
   ]
  },
  {
   "cell_type": "markdown",
   "metadata": {},
   "source": [
    "### `MySQL`\n",
    "<pre><code>\n",
    "docker container run --publish 8080:80 -detach --name mysql_1 mysql\n",
    "</code></pre>\n",
    "\n",
    "**With environment variable**.  \n",
    "<pre><code>\n",
    "docker container run --publish 8080:80 -detach  --env MYSQL_RANDOM_ROOT_PASSWORD=yes --name mysql_1 mysql\n",
    "</code></pre>\n",
    "\n",
    "**Get Password**.  \n",
    "<pre><code>\n",
    "docker container logs mysql_1\n",
    "</code></pre>\n",
    "`2020-08-18 15:22:39+00:00 [Note] [Entrypoint]: GENERATED ROOT PASSWORD: xai7Rais5Ahng3phofo2ieW6ahmiDiPh`"
   ]
  },
  {
   "cell_type": "markdown",
   "metadata": {},
   "source": [
    "### `HTTPd`\n",
    "<pre><code>\n",
    "docker container run --publish 3306:80 -detach --name httpd_1 httpd\n",
    "</code></pre>"
   ]
  },
  {
   "cell_type": "markdown",
   "metadata": {},
   "source": [
    "### `Images`\n",
    "#### 'List Images'\n",
    "<pre><code>\n",
    "docker images -a\n",
    "</code></pre>\n",
    "\n",
    "#### 'Delete Images'\n",
    "<pre><code>\n",
    "docker image rm ${image_id}\n",
    "</code></pre>"
   ]
  },
  {
   "cell_type": "code",
   "execution_count": null,
   "metadata": {},
   "outputs": [],
   "source": []
  }
 ],
 "metadata": {
  "kernelspec": {
   "display_name": "Python 3",
   "language": "python",
   "name": "python3"
  },
  "language_info": {
   "codemirror_mode": {
    "name": "ipython",
    "version": 3
   },
   "file_extension": ".py",
   "mimetype": "text/x-python",
   "name": "python",
   "nbconvert_exporter": "python",
   "pygments_lexer": "ipython3",
   "version": "3.8.3"
  }
 },
 "nbformat": 4,
 "nbformat_minor": 4
}
