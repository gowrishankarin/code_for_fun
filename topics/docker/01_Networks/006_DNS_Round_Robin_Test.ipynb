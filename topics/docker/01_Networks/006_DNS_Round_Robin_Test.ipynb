{
 "cells": [
  {
   "cell_type": "markdown",
   "metadata": {},
   "source": [
    "# DNS Round Robin Test\n",
    "- Docker 1.1, Since then we can have multiple containers on a created network respond to the same DNS address\n",
    "- Create a new virtual network (default bridge driver)\n",
    "- Create two containers from `elasticsearch:2` image\n",
    "- Research and use `--network-alias-search` when creating them to give them an additional DNS name to respond to\n",
    "- Run `alpine nslookup search` with `--net` to see the two containers list for the same DNS name\n",
    "- Run `centos curl -s search:9200` with `--net` multiple times until you see both name fields show"
   ]
  },
  {
   "cell_type": "markdown",
   "metadata": {},
   "source": [
    "Steps:  \n",
    "    1. Create a netwrok `dude`  \n",
    "    2. Create 2 elasticsearch containers  \n",
    "    3. Interospect  "
   ]
  },
  {
   "cell_type": "markdown",
   "metadata": {},
   "source": [
    "$`docker network create dude`  \n",
    "$`docker container run -d --net dude --net-alias search elasticsearch:2`  \n",
    "$`docker container run -d --net dude --net-alias search elasticsearch:2`  \n",
    "\n",
    "$`docker container run  --rm --net dude alpine nslookup search`  \n",
    "**Output**"
   ]
  },
  {
   "cell_type": "raw",
   "metadata": {},
   "source": [
    "Server:\t\t127.0.0.11\n",
    "Address:\t127.0.0.11:53\n",
    "\n",
    "Non-authoritative answer:\n",
    "Non-authoritative answer:\n",
    "Name:\tsearch\n",
    "Address: 172.19.0.3\n",
    "Name:\tsearch\n",
    "Address: 172.19.0.2"
   ]
  },
  {
   "cell_type": "markdown",
   "metadata": {},
   "source": [
    "$`docker container run --rm --net dude centos curl -s search:9200`"
   ]
  },
  {
   "cell_type": "raw",
   "metadata": {},
   "source": [
    "Unable to find image 'centos:latest' locally\n",
    "latest: Pulling from library/centos\n",
    "3c72a8ed6814: Pull complete\n",
    "Digest: sha256:76d24f3ba3317fa945743bb3746fbaf3a0b752f10b10376960de01da70685fbd\n",
    "Status: Downloaded newer image for centos:latest\n",
    "{\n",
    "  \"name\" : \"Ancient One\",\n",
    "  \"cluster_name\" : \"elasticsearch\",\n",
    "  \"cluster_uuid\" : \"Ew_KQHvUTLCgSPZTu3v9_A\",\n",
    "  \"version\" : {\n",
    "    \"number\" : \"2.4.6\",\n",
    "    \"build_hash\" : \"5376dca9f70f3abef96a77f4bb22720ace8240fd\",\n",
    "    \"build_timestamp\" : \"2017-07-18T12:17:44Z\",\n",
    "    \"build_snapshot\" : false,\n",
    "    \"lucene_version\" : \"5.5.4\"\n",
    "  },\n",
    "  \"tagline\" : \"You Know, for Search\"\n",
    "}"
   ]
  },
  {
   "cell_type": "code",
   "execution_count": 1,
   "metadata": {
    "execution": {
     "iopub.execute_input": "2020-10-13T08:00:07.143562Z",
     "iopub.status.busy": "2020-10-13T08:00:07.143301Z",
     "iopub.status.idle": "2020-10-13T08:00:08.145403Z",
     "shell.execute_reply": "2020-10-13T08:00:08.144096Z",
     "shell.execute_reply.started": "2020-10-13T08:00:07.143535Z"
    }
   },
   "outputs": [
    {
     "name": "stdout",
     "output_type": "stream",
     "text": [
      "{\n",
      "  \"name\" : \"Robert Kelly\",\n",
      "  \"cluster_name\" : \"elasticsearch\",\n",
      "  \"cluster_uuid\" : \"ZQ3HjPXpR_qn18ChzwgYZg\",\n",
      "  \"version\" : {\n",
      "    \"number\" : \"2.4.6\",\n",
      "    \"build_hash\" : \"5376dca9f70f3abef96a77f4bb22720ace8240fd\",\n",
      "    \"build_timestamp\" : \"2017-07-18T12:17:44Z\",\n",
      "    \"build_snapshot\" : false,\n",
      "    \"lucene_version\" : \"5.5.4\"\n",
      "  },\n",
      "  \"tagline\" : \"You Know, for Search\"\n",
      "}\n"
     ]
    }
   ],
   "source": [
    "!docker container run --rm --net dude centos curl -s search:9200"
   ]
  },
  {
   "cell_type": "code",
   "execution_count": 2,
   "metadata": {
    "execution": {
     "iopub.execute_input": "2020-10-13T08:48:45.017321Z",
     "iopub.status.busy": "2020-10-13T08:48:45.017062Z",
     "iopub.status.idle": "2020-10-13T08:48:45.892849Z",
     "shell.execute_reply": "2020-10-13T08:48:45.891586Z",
     "shell.execute_reply.started": "2020-10-13T08:48:45.017294Z"
    }
   },
   "outputs": [
    {
     "name": "stdout",
     "output_type": "stream",
     "text": [
      "{\n",
      "  \"name\" : \"Robert Kelly\",\n",
      "  \"cluster_name\" : \"elasticsearch\",\n",
      "  \"cluster_uuid\" : \"ZQ3HjPXpR_qn18ChzwgYZg\",\n",
      "  \"version\" : {\n",
      "    \"number\" : \"2.4.6\",\n",
      "    \"build_hash\" : \"5376dca9f70f3abef96a77f4bb22720ace8240fd\",\n",
      "    \"build_timestamp\" : \"2017-07-18T12:17:44Z\",\n",
      "    \"build_snapshot\" : false,\n",
      "    \"lucene_version\" : \"5.5.4\"\n",
      "  },\n",
      "  \"tagline\" : \"You Know, for Search\"\n",
      "}\n"
     ]
    }
   ],
   "source": [
    "!docker container run --rm --net dude centos curl -s search:9200"
   ]
  },
  {
   "cell_type": "code",
   "execution_count": 3,
   "metadata": {
    "execution": {
     "iopub.execute_input": "2020-10-13T08:48:52.191652Z",
     "iopub.status.busy": "2020-10-13T08:48:52.191388Z",
     "iopub.status.idle": "2020-10-13T08:48:53.064110Z",
     "shell.execute_reply": "2020-10-13T08:48:53.062875Z",
     "shell.execute_reply.started": "2020-10-13T08:48:52.191626Z"
    }
   },
   "outputs": [
    {
     "name": "stdout",
     "output_type": "stream",
     "text": [
      "{\n",
      "  \"name\" : \"Robert Kelly\",\n",
      "  \"cluster_name\" : \"elasticsearch\",\n",
      "  \"cluster_uuid\" : \"ZQ3HjPXpR_qn18ChzwgYZg\",\n",
      "  \"version\" : {\n",
      "    \"number\" : \"2.4.6\",\n",
      "    \"build_hash\" : \"5376dca9f70f3abef96a77f4bb22720ace8240fd\",\n",
      "    \"build_timestamp\" : \"2017-07-18T12:17:44Z\",\n",
      "    \"build_snapshot\" : false,\n",
      "    \"lucene_version\" : \"5.5.4\"\n",
      "  },\n",
      "  \"tagline\" : \"You Know, for Search\"\n",
      "}\n"
     ]
    }
   ],
   "source": [
    "!docker container run --rm --net dude centos curl -s search:9200"
   ]
  },
  {
   "cell_type": "code",
   "execution_count": 4,
   "metadata": {
    "execution": {
     "iopub.execute_input": "2020-10-13T08:48:58.784844Z",
     "iopub.status.busy": "2020-10-13T08:48:58.784581Z",
     "iopub.status.idle": "2020-10-13T08:49:04.728562Z",
     "shell.execute_reply": "2020-10-13T08:49:04.727484Z",
     "shell.execute_reply.started": "2020-10-13T08:48:58.784816Z"
    }
   },
   "outputs": [
    {
     "name": "stdout",
     "output_type": "stream",
     "text": [
      "{\n",
      "  \"name\" : \"Ancient One\",\n",
      "  \"cluster_name\" : \"elasticsearch\",\n",
      "  \"cluster_uuid\" : \"Ew_KQHvUTLCgSPZTu3v9_A\",\n",
      "  \"version\" : {\n",
      "    \"number\" : \"2.4.6\",\n",
      "    \"build_hash\" : \"5376dca9f70f3abef96a77f4bb22720ace8240fd\",\n",
      "    \"build_timestamp\" : \"2017-07-18T12:17:44Z\",\n",
      "    \"build_snapshot\" : false,\n",
      "    \"lucene_version\" : \"5.5.4\"\n",
      "  },\n",
      "  \"tagline\" : \"You Know, for Search\"\n",
      "}\n"
     ]
    }
   ],
   "source": [
    "!docker container run --rm --net dude centos curl -s search:9200"
   ]
  },
  {
   "cell_type": "code",
   "execution_count": null,
   "metadata": {},
   "outputs": [],
   "source": []
  }
 ],
 "metadata": {
  "kernelspec": {
   "display_name": "Python 3",
   "language": "python",
   "name": "python3"
  },
  "language_info": {
   "codemirror_mode": {
    "name": "ipython",
    "version": 3
   },
   "file_extension": ".py",
   "mimetype": "text/x-python",
   "name": "python",
   "nbconvert_exporter": "python",
   "pygments_lexer": "ipython3",
   "version": "3.8.3"
  }
 },
 "nbformat": 4,
 "nbformat_minor": 4
}
