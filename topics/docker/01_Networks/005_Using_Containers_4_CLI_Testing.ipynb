{
 "cells": [
  {
   "cell_type": "markdown",
   "metadata": {
    "execution": {
     "iopub.execute_input": "2020-10-13T05:57:47.149208Z",
     "iopub.status.busy": "2020-10-13T05:57:47.148973Z",
     "iopub.status.idle": "2020-10-13T05:57:47.152541Z",
     "shell.execute_reply": "2020-10-13T05:57:47.151779Z",
     "shell.execute_reply.started": "2020-10-13T05:57:47.149183Z"
    }
   },
   "source": [
    "# Using Containers for CLI Testing"
   ]
  },
  {
   "cell_type": "markdown",
   "metadata": {},
   "source": [
    "- Know hot wo use -it to get shell in container\n",
    "- Understand basics of what a Linux distribution is like Ubuntu and CentOS\n",
    "- Know how to run a container\n",
    "- Understand basics of DNS records\n",
    "\n",
    "1. Use different Linux distro containers to check `curl` cli tool version\n",
    "2. Use two different terminal windows to strat bash in both `centos:7` and `ubuntu:20.04` using -it\n",
    "3. Learn `docker container --rm` option so you can save cleanup"
   ]
  },
  {
   "cell_type": "markdown",
   "metadata": {
    "execution": {
     "iopub.execute_input": "2020-10-13T06:22:19.380382Z",
     "iopub.status.busy": "2020-10-13T06:22:19.380146Z",
     "iopub.status.idle": "2020-10-13T06:22:19.385732Z",
     "shell.execute_reply": "2020-10-13T06:22:19.384647Z",
     "shell.execute_reply.started": "2020-10-13T06:22:19.380357Z"
    }
   },
   "source": [
    "Shell 1  \n",
    "$`docker container run --rm -it centos:7 bash`  \n",
    "$`yum update curl`  \n",
    "$`curl --version`\n",
    "\n",
    "Shell 2  \n",
    "$`docker container run --rm -it ubuntu:20.04 bash`  \n",
    "$`apt update && apt install curl`  \n",
    "$`curl --version`  "
   ]
  },
  {
   "cell_type": "code",
   "execution_count": null,
   "metadata": {},
   "outputs": [],
   "source": []
  }
 ],
 "metadata": {
  "kernelspec": {
   "display_name": "Python 3",
   "language": "python",
   "name": "python3"
  },
  "language_info": {
   "codemirror_mode": {
    "name": "ipython",
    "version": 3
   },
   "file_extension": ".py",
   "mimetype": "text/x-python",
   "name": "python",
   "nbconvert_exporter": "python",
   "pygments_lexer": "ipython3",
   "version": "3.8.3"
  }
 },
 "nbformat": 4,
 "nbformat_minor": 4
}
