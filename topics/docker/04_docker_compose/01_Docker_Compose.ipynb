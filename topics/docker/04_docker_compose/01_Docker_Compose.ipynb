{
 "cells": [
  {
   "cell_type": "markdown",
   "metadata": {},
   "source": [
    "# Docker Compose CLI\n",
    "- docker-compose up: Start a container set\n",
    "- docker-compose logs: Examine the logs of the container set\n",
    "- !docker-compose ps "
   ]
  },
  {
   "cell_type": "code",
   "execution_count": 1,
   "metadata": {
    "execution": {
     "iopub.execute_input": "2020-11-12T15:37:29.456911Z",
     "iopub.status.busy": "2020-11-12T15:37:29.456644Z",
     "iopub.status.idle": "2020-11-12T15:37:29.582021Z",
     "shell.execute_reply": "2020-11-12T15:37:29.580990Z",
     "shell.execute_reply.started": "2020-11-12T15:37:29.456885Z"
    }
   },
   "outputs": [
    {
     "name": "stdout",
     "output_type": "stream",
     "text": [
      "/Users/shankar/dev/code/studies/gen/code_for_fun/topics/docker/04_docker_compose/exercise-1\n"
     ]
    }
   ],
   "source": [
    "import os\n",
    "os.chdir('exercise-1')\n",
    "!pwd"
   ]
  },
  {
   "cell_type": "code",
   "execution_count": 3,
   "metadata": {
    "execution": {
     "iopub.execute_input": "2020-11-12T16:26:28.877907Z",
     "iopub.status.busy": "2020-11-12T16:26:28.877644Z",
     "iopub.status.idle": "2020-11-12T16:26:29.166415Z",
     "shell.execute_reply": "2020-11-12T16:26:29.165539Z",
     "shell.execute_reply.started": "2020-11-12T16:26:28.877877Z"
    }
   },
   "outputs": [
    {
     "name": "stdout",
     "output_type": "stream",
     "text": [
      "CONTAINER ID        IMAGE               COMMAND             CREATED             STATUS              PORTS               NAMES\n"
     ]
    }
   ],
   "source": [
    "!docker container ls"
   ]
  },
  {
   "cell_type": "code",
   "execution_count": 4,
   "metadata": {
    "execution": {
     "iopub.execute_input": "2020-11-12T16:27:19.524822Z",
     "iopub.status.busy": "2020-11-12T16:27:19.524506Z",
     "iopub.status.idle": "2020-11-12T16:29:34.359579Z",
     "shell.execute_reply": "2020-11-12T16:29:34.358222Z",
     "shell.execute_reply.started": "2020-11-12T16:27:19.524786Z"
    }
   },
   "outputs": [
    {
     "name": "stdout",
     "output_type": "stream",
     "text": [
      "Creating network \"exercise-1_default\" with the default driver\n",
      "Pulling proxy (nginx:1.13)...\n",
      "1.13: Pulling from library/nginx\n",
      "\n",
      "\u001b[1B67a397c4: Pulling fs layer\n",
      "\u001b[1B1c23e29d: Pulling fs layer\n",
      "Digest: sha256:b1d09e9718890e6ebbbd2bc319ef1611559e30ce1b6f56b2e3b479d9da51dc35    201B/201B1MBB\u001b[2A\u001b[2K\u001b[2A\u001b[2K\u001b[2A\u001b[2K\u001b[2A\u001b[2K\u001b[2A\u001b[2K\u001b[2A\u001b[2K\u001b[2A\u001b[2K\u001b[2A\u001b[2K\u001b[2A\u001b[2K\u001b[2A\u001b[2K\u001b[2A\u001b[2K\u001b[2A\u001b[2K\u001b[2A\u001b[2K\u001b[2A\u001b[2K\u001b[2A\u001b[2K\u001b[1A\u001b[2K\u001b[2A\u001b[2K\u001b[2A\u001b[2K\u001b[2A\u001b[2K\u001b[3A\u001b[2K\u001b[2A\u001b[2K\u001b[2A\u001b[2K\u001b[3A\u001b[2K\u001b[2A\u001b[2K\u001b[2A\u001b[2K\u001b[2A\u001b[2K\u001b[2A\u001b[2K\u001b[3A\u001b[2K\u001b[2A\u001b[2K\u001b[3A\u001b[2K\u001b[2A\u001b[2K\u001b[2A\u001b[2K\u001b[3A\u001b[2K\u001b[3A\u001b[2K\u001b[3A\u001b[2K\u001b[2A\u001b[2K\u001b[3A\u001b[2K\u001b[2A\u001b[2K\u001b[2A\u001b[2K\u001b[3A\u001b[2K\u001b[2A\u001b[2K\u001b[3A\u001b[2K\u001b[2A\u001b[2K\u001b[2A\u001b[2K\u001b[3A\u001b[2K\u001b[2A\u001b[2K\u001b[3A\u001b[2K\u001b[3A\u001b[2K\u001b[2A\u001b[2K\u001b[3A\u001b[2K\u001b[2A\u001b[2K\u001b[2A\u001b[2K\u001b[3A\u001b[2K\u001b[3A\u001b[2K\u001b[3A\u001b[2K\u001b[2A\u001b[2K\u001b[2A\u001b[2K\u001b[3A\u001b[2K\u001b[3A\u001b[2K\u001b[3A\u001b[2K\u001b[3A\u001b[2K\u001b[3A\u001b[2K\u001b[3A\u001b[2K\u001b[3A\u001b[2K\u001b[3A\u001b[2K\u001b[3A\u001b[2K\u001b[3A\u001b[2K\u001b[3A\u001b[2K\u001b[3A\u001b[2K\u001b[3A\u001b[2K\u001b[3A\u001b[2K\u001b[3A\u001b[2K\u001b[3A\u001b[2K\u001b[3A\u001b[2K\u001b[3A\u001b[2K\u001b[3A\u001b[2K\u001b[3A\u001b[2K\u001b[3A\u001b[2K\u001b[3A\u001b[2K\u001b[3A\u001b[2K\u001b[3A\u001b[2K\u001b[3A\u001b[2K\u001b[3A\u001b[2K\u001b[3A\u001b[2K\u001b[3A\u001b[2K\u001b[3A\u001b[2K\u001b[3A\u001b[2K\u001b[3A\u001b[2K\u001b[3A\u001b[2K\u001b[3A\u001b[2K\u001b[3A\u001b[2K\u001b[3A\u001b[2K\u001b[3A\u001b[2K\u001b[3A\u001b[2K\u001b[3A\u001b[2K\u001b[3A\u001b[2K\u001b[2A\u001b[2K\u001b[2A\u001b[2K\u001b[2A\u001b[2K\u001b[2A\u001b[2K\u001b[2A\u001b[2K\u001b[2A\u001b[2K\u001b[2A\u001b[2K\u001b[2A\u001b[2K\u001b[2A\u001b[2K\u001b[2A\u001b[2K\u001b[2A\u001b[2K\u001b[2A\u001b[2K\u001b[1A\u001b[2K\n",
      "Status: Downloaded newer image for nginx:1.13\n",
      "Pulling web (httpd:)...\n",
      "latest: Pulling from library/httpd\n",
      "\n",
      "\u001b[1Bb6b2107f: Already exists\n",
      "\u001b[1B4ef5449a: Pulling fs layer\n",
      "\u001b[1B101950dd: Pulling fs layer\n",
      "\u001b[1B9f2696f2: Pulling fs layer\n",
      "Digest: sha256:b82fb56847fcbcca9f8f162a3232acb4a302af96b1b2af1c4c3ac45ef0c9b968    298B/298B7MBB\u001b[3A\u001b[2K\u001b[3A\u001b[2K\u001b[3A\u001b[2K\u001b[3A\u001b[2K\u001b[3A\u001b[2K\u001b[2A\u001b[2K\u001b[2A\u001b[2K\u001b[2A\u001b[2K\u001b[2A\u001b[2K\u001b[2A\u001b[2K\u001b[2A\u001b[2K\u001b[2A\u001b[2K\u001b[2A\u001b[2K\u001b[2A\u001b[2K\u001b[2A\u001b[2K\u001b[2A\u001b[2K\u001b[2A\u001b[2K\u001b[2A\u001b[2K\u001b[2A\u001b[2K\u001b[2A\u001b[2K\u001b[1A\u001b[2K\u001b[2A\u001b[2K\u001b[4A\u001b[2K\u001b[2A\u001b[2K\u001b[3A\u001b[2K\u001b[3A\u001b[2K\u001b[2A\u001b[2K\u001b[2A\u001b[2K\u001b[2A\u001b[2K\u001b[2A\u001b[2K\u001b[2A\u001b[2K\u001b[2A\u001b[2K\u001b[2A\u001b[2K\u001b[2A\u001b[2K\u001b[2A\u001b[2K\u001b[2A\u001b[2K\u001b[2A\u001b[2K\u001b[2A\u001b[2K\u001b[2A\u001b[2K\u001b[2A\u001b[2K\u001b[2A\u001b[2K\u001b[2A\u001b[2K\u001b[2A\u001b[2K\u001b[2A\u001b[2K\u001b[2A\u001b[2K\u001b[2A\u001b[2K\u001b[2A\u001b[2K\u001b[2A\u001b[2K\u001b[2A\u001b[2K\u001b[2A\u001b[2K\u001b[2A\u001b[2K\u001b[2A\u001b[2K\u001b[2A\u001b[2K\u001b[2A\u001b[2K\u001b[2A\u001b[2K\u001b[2A\u001b[2K\u001b[1A\u001b[2K\u001b[2K\n",
      "Status: Downloaded newer image for httpd:latest\n",
      "Creating exercise-1_web_1 ... \n",
      "Creating exercise-1_proxy_1 ... \n",
      "\u001b[1BAttaching to exercise-1_web_1, exercise-1_proxy_1\n",
      "\u001b[33mweb_1    |\u001b[0m AH00558: httpd: Could not reliably determine the server's fully qualified domain name, using 172.18.0.2. Set the 'ServerName' directive globally to suppress this message\n",
      "\u001b[33mweb_1    |\u001b[0m AH00558: httpd: Could not reliably determine the server's fully qualified domain name, using 172.18.0.2. Set the 'ServerName' directive globally to suppress this message\n",
      "\u001b[33mweb_1    |\u001b[0m [Thu Nov 12 16:27:54.435271 2020] [mpm_event:notice] [pid 1:tid 140590117667968] AH00489: Apache/2.4.46 (Unix) configured -- resuming normal operations\n",
      "\u001b[33mweb_1    |\u001b[0m [Thu Nov 12 16:27:54.448315 2020] [core:notice] [pid 1:tid 140590117667968] AH00094: Command line: 'httpd -D FOREGROUND'\n",
      "\u001b[36mproxy_1  |\u001b[0m 172.18.0.1 - - [12/Nov/2020:16:28:27 +0000] \"GET / HTTP/1.1\" 200 45 \"-\" \"Mozilla/5.0 (Macintosh; Intel Mac OS X 10_15_7) AppleWebKit/537.36 (KHTML, like Gecko) Chrome/86.0.4240.183 Safari/537.36\" \"-\"\n",
      "\u001b[33mweb_1    |\u001b[0m 172.18.0.3 - - [12/Nov/2020:16:28:27 +0000] \"GET / HTTP/1.0\" 200 45\n",
      "\u001b[33mweb_1    |\u001b[0m 172.18.0.3 - - [12/Nov/2020:16:28:27 +0000] \"GET /favicon.ico HTTP/1.0\" 404 196\n",
      "\u001b[36mproxy_1  |\u001b[0m 172.18.0.1 - - [12/Nov/2020:16:28:27 +0000] \"GET /favicon.ico HTTP/1.1\" 404 196 \"http://localhost/\" \"Mozilla/5.0 (Macintosh; Intel Mac OS X 10_15_7) AppleWebKit/537.36 (KHTML, like Gecko) Chrome/86.0.4240.183 Safari/537.36\" \"-\"\n",
      "^C\n",
      "Gracefully stopping... (press Ctrl+C again to force)\n",
      "Stopping exercise-1_proxy_1 ... \n",
      "Stopping exercise-1_web_1   ... \n"
     ]
    }
   ],
   "source": [
    "!docker-compose up"
   ]
  },
  {
   "cell_type": "code",
   "execution_count": 5,
   "metadata": {
    "execution": {
     "iopub.execute_input": "2020-11-12T16:29:47.117428Z",
     "iopub.status.busy": "2020-11-12T16:29:47.117154Z",
     "iopub.status.idle": "2020-11-12T16:29:48.706013Z",
     "shell.execute_reply": "2020-11-12T16:29:48.704638Z",
     "shell.execute_reply.started": "2020-11-12T16:29:47.117397Z"
    }
   },
   "outputs": [
    {
     "name": "stdout",
     "output_type": "stream",
     "text": [
      "Starting exercise-1_web_1 ... \n",
      "Starting exercise-1_proxy_1 ... \n",
      "\u001b[1Bting exercise-1_proxy_1 ... \u001b[32mdone\u001b[0m\u001b[1A\u001b[2K"
     ]
    }
   ],
   "source": [
    "!docker-compose up -d"
   ]
  },
  {
   "cell_type": "code",
   "execution_count": 6,
   "metadata": {
    "execution": {
     "iopub.execute_input": "2020-11-12T16:30:05.806220Z",
     "iopub.status.busy": "2020-11-12T16:30:05.805789Z",
     "iopub.status.idle": "2020-11-12T16:30:06.689299Z",
     "shell.execute_reply": "2020-11-12T16:30:06.688365Z",
     "shell.execute_reply.started": "2020-11-12T16:30:05.806147Z"
    }
   },
   "outputs": [
    {
     "name": "stdout",
     "output_type": "stream",
     "text": [
      "Attaching to exercise-1_proxy_1, exercise-1_web_1\n",
      "\u001b[33mweb_1    |\u001b[0m AH00558: httpd: Could not reliably determine the server's fully qualified domain name, using 172.18.0.2. Set the 'ServerName' directive globally to suppress this message\n",
      "\u001b[33mweb_1    |\u001b[0m AH00558: httpd: Could not reliably determine the server's fully qualified domain name, using 172.18.0.2. Set the 'ServerName' directive globally to suppress this message\n",
      "\u001b[33mweb_1    |\u001b[0m [Thu Nov 12 16:27:54.435271 2020] [mpm_event:notice] [pid 1:tid 140590117667968] AH00489: Apache/2.4.46 (Unix) configured -- resuming normal operations\n",
      "\u001b[33mweb_1    |\u001b[0m [Thu Nov 12 16:27:54.448315 2020] [core:notice] [pid 1:tid 140590117667968] AH00094: Command line: 'httpd -D FOREGROUND'\n",
      "\u001b[33mweb_1    |\u001b[0m 172.18.0.3 - - [12/Nov/2020:16:28:27 +0000] \"GET / HTTP/1.0\" 200 45\n",
      "\u001b[33mweb_1    |\u001b[0m 172.18.0.3 - - [12/Nov/2020:16:28:27 +0000] \"GET /favicon.ico HTTP/1.0\" 404 196\n",
      "\u001b[33mweb_1    |\u001b[0m [Thu Nov 12 16:29:34.059424 2020] [mpm_event:notice] [pid 1:tid 140590117667968] AH00492: caught SIGWINCH, shutting down gracefully\n",
      "\u001b[33mweb_1    |\u001b[0m AH00558: httpd: Could not reliably determine the server's fully qualified domain name, using 172.18.0.2. Set the 'ServerName' directive globally to suppress this message\n",
      "\u001b[33mweb_1    |\u001b[0m AH00558: httpd: Could not reliably determine the server's fully qualified domain name, using 172.18.0.2. Set the 'ServerName' directive globally to suppress this message\n",
      "\u001b[33mweb_1    |\u001b[0m [Thu Nov 12 16:29:48.557588 2020] [mpm_event:notice] [pid 1:tid 140469380023424] AH00489: Apache/2.4.46 (Unix) configured -- resuming normal operations\n",
      "\u001b[33mweb_1    |\u001b[0m [Thu Nov 12 16:29:48.557970 2020] [core:notice] [pid 1:tid 140469380023424] AH00094: Command line: 'httpd -D FOREGROUND'\n",
      "\u001b[33mweb_1    |\u001b[0m 172.18.0.3 - - [12/Nov/2020:16:29:53 +0000] \"GET / HTTP/1.0\" 304 -\n",
      "\u001b[36mproxy_1  |\u001b[0m 172.18.0.1 - - [12/Nov/2020:16:28:27 +0000] \"GET / HTTP/1.1\" 200 45 \"-\" \"Mozilla/5.0 (Macintosh; Intel Mac OS X 10_15_7) AppleWebKit/537.36 (KHTML, like Gecko) Chrome/86.0.4240.183 Safari/537.36\" \"-\"\n",
      "\u001b[36mproxy_1  |\u001b[0m 172.18.0.1 - - [12/Nov/2020:16:28:27 +0000] \"GET /favicon.ico HTTP/1.1\" 404 196 \"http://localhost/\" \"Mozilla/5.0 (Macintosh; Intel Mac OS X 10_15_7) AppleWebKit/537.36 (KHTML, like Gecko) Chrome/86.0.4240.183 Safari/537.36\" \"-\"\n",
      "\u001b[36mproxy_1  |\u001b[0m 172.18.0.1 - - [12/Nov/2020:16:29:53 +0000] \"GET / HTTP/1.1\" 304 0 \"-\" \"Mozilla/5.0 (Macintosh; Intel Mac OS X 10_15_7) AppleWebKit/537.36 (KHTML, like Gecko) Chrome/86.0.4240.183 Safari/537.36\" \"-\"\n"
     ]
    }
   ],
   "source": [
    "!docker-compose logs"
   ]
  },
  {
   "cell_type": "code",
   "execution_count": 7,
   "metadata": {
    "execution": {
     "iopub.execute_input": "2020-11-12T16:31:07.197781Z",
     "iopub.status.busy": "2020-11-12T16:31:07.197407Z",
     "iopub.status.idle": "2020-11-12T16:31:07.997114Z",
     "shell.execute_reply": "2020-11-12T16:31:07.996141Z",
     "shell.execute_reply.started": "2020-11-12T16:31:07.197748Z"
    }
   },
   "outputs": [
    {
     "name": "stdout",
     "output_type": "stream",
     "text": [
      "       Name                Command          State         Ports       \n",
      "----------------------------------------------------------------------\n",
      "exercise-1_proxy_1   nginx -g daemon off;   Up      0.0.0.0:80->80/tcp\n",
      "exercise-1_web_1     httpd-foreground       Up      80/tcp            \n"
     ]
    }
   ],
   "source": [
    "!docker-compose ps"
   ]
  },
  {
   "cell_type": "code",
   "execution_count": 8,
   "metadata": {
    "execution": {
     "iopub.execute_input": "2020-11-12T16:31:15.342129Z",
     "iopub.status.busy": "2020-11-12T16:31:15.341850Z",
     "iopub.status.idle": "2020-11-12T16:31:16.330783Z",
     "shell.execute_reply": "2020-11-12T16:31:16.329881Z",
     "shell.execute_reply.started": "2020-11-12T16:31:15.342098Z"
    }
   },
   "outputs": [
    {
     "name": "stdout",
     "output_type": "stream",
     "text": [
      "exercise-1_proxy_1\n",
      "PID    USER   TIME                    COMMAND                  \n",
      "---------------------------------------------------------------\n",
      "4210   root   0:00   nginx: master process nginx -g daemon off;\n",
      "4318   101    0:00   nginx: worker process                     \n",
      "\n",
      "exercise-1_web_1\n",
      "PID    USER   TIME        COMMAND      \n",
      "---------------------------------------\n",
      "4189   root   0:00   httpd -DFOREGROUND\n",
      "4319   bin    0:00   httpd -DFOREGROUND\n",
      "4320   bin    0:00   httpd -DFOREGROUND\n",
      "4321   bin    0:00   httpd -DFOREGROUND\n"
     ]
    }
   ],
   "source": [
    "!docker-compose top"
   ]
  },
  {
   "cell_type": "code",
   "execution_count": 9,
   "metadata": {
    "execution": {
     "iopub.execute_input": "2020-11-12T16:31:30.205411Z",
     "iopub.status.busy": "2020-11-12T16:31:30.205127Z",
     "iopub.status.idle": "2020-11-12T16:31:32.442697Z",
     "shell.execute_reply": "2020-11-12T16:31:32.441636Z",
     "shell.execute_reply.started": "2020-11-12T16:31:30.205380Z"
    }
   },
   "outputs": [
    {
     "name": "stdout",
     "output_type": "stream",
     "text": [
      "Stopping exercise-1_proxy_1 ... \n",
      "Stopping exercise-1_web_1   ... \n",
      "\u001b[1Bping exercise-1_web_1   ... \u001b[32mdone\u001b[0m\u001b[1A\u001b[2KRemoving exercise-1_proxy_1 ... \n",
      "Removing exercise-1_web_1   ... \n",
      "\u001b[1BRemoving network exercise-1_defaultne\u001b[0m\n"
     ]
    }
   ],
   "source": [
    "!docker-compose down"
   ]
  },
  {
   "cell_type": "code",
   "execution_count": 10,
   "metadata": {
    "execution": {
     "iopub.execute_input": "2020-11-12T16:31:42.011653Z",
     "iopub.status.busy": "2020-11-12T16:31:42.011390Z",
     "iopub.status.idle": "2020-11-12T16:31:42.752549Z",
     "shell.execute_reply": "2020-11-12T16:31:42.751392Z",
     "shell.execute_reply.started": "2020-11-12T16:31:42.011622Z"
    }
   },
   "outputs": [
    {
     "name": "stdout",
     "output_type": "stream",
     "text": [
      "Name   Command   State   Ports\n",
      "------------------------------\n"
     ]
    }
   ],
   "source": [
    "!docker-compose ps"
   ]
  },
  {
   "cell_type": "code",
   "execution_count": null,
   "metadata": {},
   "outputs": [],
   "source": []
  }
 ],
 "metadata": {
  "kernelspec": {
   "display_name": "Python 3",
   "language": "python",
   "name": "python3"
  },
  "language_info": {
   "codemirror_mode": {
    "name": "ipython",
    "version": 3
   },
   "file_extension": ".py",
   "mimetype": "text/x-python",
   "name": "python",
   "nbconvert_exporter": "python",
   "pygments_lexer": "ipython3",
   "version": "3.8.3"
  }
 },
 "nbformat": 4,
 "nbformat_minor": 4
}
