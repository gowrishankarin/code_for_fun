{
 "cells": [
  {
   "cell_type": "markdown",
   "metadata": {},
   "source": [
    "# Build and Run Compose\n",
    "- Building custom `drupal` image for local testing\n",
    "- Compose isn't just for developers. Testing apps is easy/fun\n",
    "- May be you are learning Drupal admin, or are a software tester\n",
    "- Start with compose file from previous assignment \n",
    "- Make your `Dockerfile` and `docker-compose.yml` in dir `compose-assignment-2`\n",
    "- Use the `drupal` image along with the `postgres` image as before \n",
    "- Use `README.md` in that dir for details"
   ]
  },
  {
   "cell_type": "code",
   "execution_count": 1,
   "metadata": {
    "execution": {
     "iopub.execute_input": "2020-11-13T06:12:35.935283Z",
     "iopub.status.busy": "2020-11-13T06:12:35.935015Z",
     "iopub.status.idle": "2020-11-13T06:12:36.188839Z",
     "shell.execute_reply": "2020-11-13T06:12:36.187759Z",
     "shell.execute_reply.started": "2020-11-13T06:12:35.935255Z"
    }
   },
   "outputs": [
    {
     "name": "stdout",
     "output_type": "stream",
     "text": [
      "/Users/shankar/dev/code/studies/gen/code_for_fun/topics/docker/04_docker_compose/exercise-4\n"
     ]
    }
   ],
   "source": [
    "!mkdir exercise-4\n",
    "import os\n",
    "os.chdir('exercise-4')\n",
    "!pwd"
   ]
  },
  {
   "cell_type": "code",
   "execution_count": 2,
   "metadata": {
    "execution": {
     "iopub.execute_input": "2020-11-13T06:13:10.686939Z",
     "iopub.status.busy": "2020-11-13T06:13:10.686662Z",
     "iopub.status.idle": "2020-11-13T06:13:10.816051Z",
     "shell.execute_reply": "2020-11-13T06:13:10.814652Z",
     "shell.execute_reply.started": "2020-11-13T06:13:10.686910Z"
    }
   },
   "outputs": [],
   "source": [
    "!touch Dockerfile README.md docker-compose.yml"
   ]
  },
  {
   "cell_type": "code",
   "execution_count": 3,
   "metadata": {
    "execution": {
     "iopub.execute_input": "2020-11-13T06:25:27.995938Z",
     "iopub.status.busy": "2020-11-13T06:25:27.995560Z",
     "iopub.status.idle": "2020-11-13T06:25:28.696844Z",
     "shell.execute_reply": "2020-11-13T06:25:28.695786Z",
     "shell.execute_reply.started": "2020-11-13T06:25:27.995862Z"
    }
   },
   "outputs": [
    {
     "name": "stdout",
     "output_type": "stream",
     "text": [
      "\u001b[31mERROR\u001b[0m: Named volume \"drupal-data:/var/lib/postgresql/data:rw\" is used in service \"postgres\" but no declaration was found in the volumes section.\n"
     ]
    }
   ],
   "source": [
    "!docker-compose up -d"
   ]
  },
  {
   "cell_type": "code",
   "execution_count": 6,
   "metadata": {
    "execution": {
     "iopub.execute_input": "2020-11-13T06:32:30.852842Z",
     "iopub.status.busy": "2020-11-13T06:32:30.852579Z",
     "iopub.status.idle": "2020-11-13T06:38:08.992587Z",
     "shell.execute_reply": "2020-11-13T06:38:08.991337Z",
     "shell.execute_reply.started": "2020-11-13T06:32:30.852812Z"
    }
   },
   "outputs": [
    {
     "name": "stdout",
     "output_type": "stream",
     "text": [
      "Building drupal\n",
      "Step 1/5 : FROM drupal:8.2\n",
      "8.2: Pulling from library/drupal\n",
      "\n",
      "\u001b[1B80f84d05: Already exists\n",
      "\u001b[1B534ff315: Already exists\n",
      "\u001b[1B1f6ddd8d: Already exists\n",
      "\u001b[1Bb0c1871f: Waiting fs layer\n",
      "\u001b[1B756f5f08: Pulling fs layer\n",
      "\u001b[1Ba1686b17: Pulling fs layer\n",
      "\u001b[1B20a8291d: Pulling fs layer\n",
      "\u001b[1B35492a16: Pulling fs layer\n",
      "\u001b[1B6d914b8a: Pulling fs layer\n",
      "\u001b[1B32d3206b: Pulling fs layer\n",
      "\u001b[1Baa92a921: Pulling fs layer\n",
      "\u001b[1Be1fce8f9: Pulling fs layer\n",
      "\u001b[1Bafb09b55: Pulling fs layer\n",
      "\u001b[1B1196d577: Pulling fs layer\n",
      "\u001b[1B97ab419a: Pulling fs layer\n",
      "\u001b[1Bf4526083: Pulling fs layer\n",
      "Digest: sha256:f2dc3f325da9c9e017f5e2ee0e22a72781cdded21955e533c412d35e09304f8c 12.19MB/12.19MBB\u001b[12A\u001b[2K\u001b[14A\u001b[2K\u001b[14A\u001b[2K\u001b[14A\u001b[2K\u001b[13A\u001b[2K\u001b[14A\u001b[2K\u001b[14A\u001b[2K\u001b[14A\u001b[2K\u001b[14A\u001b[2K\u001b[14A\u001b[2K\u001b[14A\u001b[2K\u001b[13A\u001b[2K\u001b[13A\u001b[2K\u001b[12A\u001b[2K\u001b[12A\u001b[2K\u001b[11A\u001b[2K\u001b[11A\u001b[2K\u001b[10A\u001b[2K\u001b[10A\u001b[2K\u001b[10A\u001b[2K\u001b[9A\u001b[2K\u001b[9A\u001b[2K\u001b[9A\u001b[2K\u001b[9A\u001b[2K\u001b[9A\u001b[2K\u001b[9A\u001b[2K\u001b[9A\u001b[2K\u001b[9A\u001b[2K\u001b[8A\u001b[2K\u001b[8A\u001b[2K\u001b[9A\u001b[2K\u001b[9A\u001b[2K\u001b[9A\u001b[2K\u001b[9A\u001b[2K\u001b[9A\u001b[2K\u001b[7A\u001b[2K\u001b[7A\u001b[2K\u001b[9A\u001b[2K\u001b[7A\u001b[2K\u001b[9A\u001b[2K\u001b[9A\u001b[2K\u001b[9A\u001b[2K\u001b[9A\u001b[2K\u001b[8A\u001b[2K\u001b[7A\u001b[2K\u001b[7A\u001b[2K\u001b[7A\u001b[2K\u001b[7A\u001b[2K\u001b[7A\u001b[2K\u001b[7A\u001b[2K\u001b[7A\u001b[2K\u001b[7A\u001b[2K\u001b[7A\u001b[2K\u001b[7A\u001b[2K\u001b[7A\u001b[2K\u001b[7A\u001b[2K\u001b[6A\u001b[2K\u001b[7A\u001b[2K\u001b[7A\u001b[2K\u001b[7A\u001b[2K\u001b[7A\u001b[2K\u001b[7A\u001b[2K\u001b[7A\u001b[2K\u001b[6A\u001b[2K\u001b[6A\u001b[2K\u001b[5A\u001b[2K\u001b[5A\u001b[2K\u001b[5A\u001b[2K\u001b[4A\u001b[2K\u001b[4A\u001b[2K\u001b[3A\u001b[2K\u001b[3A\u001b[2K\u001b[3A\u001b[2K\u001b[3A\u001b[2K\u001b[3A\u001b[2K\u001b[3A\u001b[2K\u001b[3A\u001b[2K\u001b[3A\u001b[2K\u001b[3A\u001b[2K\u001b[1A\u001b[2K\u001b[1A\u001b[2K\u001b[1A\u001b[2K\u001b[1A\u001b[2K\u001b[1A\u001b[2K\u001b[1A\u001b[2K\u001b[1A\u001b[2K\u001b[1A\u001b[2K\u001b[1A\u001b[2K\u001b[2A\u001b[2K\u001b[2A\u001b[2K\u001b[1A\u001b[2K\u001b[1A\u001b[2K\u001b[1A\u001b[2K\u001b[1A\u001b[2K\u001b[1A\u001b[2K\u001b[1A\u001b[2K\u001b[1A\u001b[2K\u001b[1A\u001b[2K\u001b[1A\u001b[2K\u001b[1A\u001b[2K\u001b[1A\u001b[2K\u001b[1A\u001b[2K\u001b[1A\u001b[2K\u001b[1A\u001b[2K\u001b[1A\u001b[2K\u001b[1A\u001b[2K\u001b[1A\u001b[2K\u001b[1A\u001b[2K\u001b[1A\u001b[2K\u001b[1A\u001b[2K\u001b[1A\u001b[2K\u001b[1A\u001b[2K\u001b[1A\u001b[2K\u001b[1A\u001b[2K\u001b[1A\u001b[2K\u001b[1A\u001b[2K\u001b[1A\u001b[2K\u001b[1A\u001b[2K\u001b[1A\u001b[2K\u001b[1A\u001b[2K\u001b[1A\u001b[2K\u001b[1A\u001b[2K\u001b[1A\u001b[2K\u001b[1A\u001b[2K\u001b[1A\u001b[2K\u001b[1A\u001b[2K\u001b[1A\u001b[2K\u001b[1A\u001b[2K\u001b[1A\u001b[2K\u001b[1A\u001b[2K\u001b[1A\u001b[2K\u001b[1A\u001b[2K\u001b[1A\u001b[2K\n",
      "Status: Downloaded newer image for drupal:8.2\n",
      " ---> 68b9d32702ee\n",
      "Step 2/5 : RUN apt-get update && apt-get install -y git     && rm -rf /var/lib/apt/lists/*\n",
      " ---> Running in 9f76b86da528\n",
      "Get:1 http://security.debian.org jessie/updates InRelease [44.9 kB]\n",
      "Ign http://deb.debian.org jessie InRelease\n",
      "Get:2 http://deb.debian.org jessie-updates InRelease [16.3 kB]\n",
      "Get:3 http://deb.debian.org jessie Release.gpg [1652 B]\n",
      "Get:4 http://deb.debian.org jessie Release [77.3 kB]\n",
      "Get:5 http://security.debian.org jessie/updates/main amd64 Packages [992 kB]\n",
      "Get:6 http://deb.debian.org jessie-updates/main amd64 Packages [20 B]\n",
      "Get:7 http://deb.debian.org jessie/main amd64 Packages [9098 kB]\n",
      "Fetched 10.2 MB in 14s (688 kB/s)\n",
      "Reading package lists...\n",
      "\u001b[91mW: There is no public key available for the following key IDs:\n",
      "AA8E81B4331F7F50\n",
      "\u001b[0mReading package lists...\n",
      "Building dependency tree...\n",
      "Reading state information...\n",
      "The following extra packages will be installed:\n",
      "  git-man less libcurl3-gnutls liberror-perl libpopt0 libx11-6 libx11-data\n",
      "  libxau6 libxcb1 libxdmcp6 libxext6 libxmuu1 openssh-client rsync xauth\n",
      "Suggested packages:\n",
      "  gettext-base git-daemon-run git-daemon-sysvinit git-doc git-el git-email\n",
      "  git-gui gitk gitweb git-arch git-cvs git-mediawiki git-svn ssh-askpass\n",
      "  libpam-ssh keychain monkeysphere openssh-server\n",
      "Recommended packages:\n",
      "  ssh-client\n",
      "The following NEW packages will be installed:\n",
      "  git git-man less libcurl3-gnutls liberror-perl libpopt0 libx11-6 libx11-data\n",
      "  libxau6 libxcb1 libxdmcp6 libxext6 libxmuu1 openssh-client rsync xauth\n",
      "0 upgraded, 16 newly installed, 0 to remove and 94 not upgraded.\n",
      "Need to get 7092 kB of archives.\n",
      "After this operation, 33.3 MB of additional disk space will be used.\n",
      "Get:1 http://security.debian.org/ jessie/updates/main libcurl3-gnutls amd64 7.38.0-4+deb8u16 [253 kB]\n",
      "Get:2 http://security.debian.org/ jessie/updates/main libxdmcp6 amd64 1:1.1.1-1+deb8u1 [24.7 kB]\n",
      "Get:3 http://deb.debian.org/debian/ jessie/main libpopt0 amd64 1.16-10 [49.2 kB]\n",
      "Get:4 http://security.debian.org/ jessie/updates/main libx11-data all 2:1.6.2-3+deb8u2 [126 kB]\n",
      "Get:5 http://security.debian.org/ jessie/updates/main libx11-6 amd64 2:1.6.2-3+deb8u2 [729 kB]\n",
      "Get:6 http://deb.debian.org/debian/ jessie/main libxau6 amd64 1:1.0.8-1 [20.7 kB]\n",
      "Get:7 http://deb.debian.org/debian/ jessie/main libxcb1 amd64 1.10-3+b1 [44.4 kB]\n",
      "Get:8 http://deb.debian.org/debian/ jessie/main libxext6 amd64 2:1.3.3-1 [52.7 kB]\n",
      "Get:9 http://deb.debian.org/debian/ jessie/main libxmuu1 amd64 2:1.1.2-1 [23.3 kB]\n",
      "Get:10 http://security.debian.org/ jessie/updates/main openssh-client amd64 1:6.7p1-5+deb8u8 [696 kB]\n",
      "Get:11 http://deb.debian.org/debian/ jessie/main less amd64 458-3 [124 kB]\n",
      "Get:12 http://deb.debian.org/debian/ jessie/main liberror-perl all 0.17-1.1 [22.4 kB]\n",
      "Get:13 http://security.debian.org/ jessie/updates/main git-man all 1:2.1.4-2.1+deb8u10 [1271 kB]\n",
      "Get:14 http://deb.debian.org/debian/ jessie/main xauth amd64 1:1.0.9-1 [38.2 kB]\n",
      "Get:15 http://security.debian.org/ jessie/updates/main git amd64 1:2.1.4-2.1+deb8u10 [3227 kB]\n",
      "Get:16 http://security.debian.org/ jessie/updates/main rsync amd64 3.1.1-3+deb8u2 [390 kB]\n",
      "\u001b[91mdebconf: delaying package configuration, since apt-utils is not installed\n",
      "\u001b[0mFetched 7092 kB in 2s (3104 kB/s)\n",
      "Selecting previously unselected package libpopt0:amd64.\n",
      "(Reading database ... 13597 files and directories currently installed.)\n",
      "Preparing to unpack .../libpopt0_1.16-10_amd64.deb ...\n",
      "Unpacking libpopt0:amd64 (1.16-10) ...\n",
      "Selecting previously unselected package libcurl3-gnutls:amd64.\n",
      "Preparing to unpack .../libcurl3-gnutls_7.38.0-4+deb8u16_amd64.deb ...\n",
      "Unpacking libcurl3-gnutls:amd64 (7.38.0-4+deb8u16) ...\n",
      "Selecting previously unselected package libxau6:amd64.\n",
      "Preparing to unpack .../libxau6_1%3a1.0.8-1_amd64.deb ...\n",
      "Unpacking libxau6:amd64 (1:1.0.8-1) ...\n",
      "Selecting previously unselected package libxdmcp6:amd64.\n",
      "Preparing to unpack .../libxdmcp6_1%3a1.1.1-1+deb8u1_amd64.deb ...\n",
      "Unpacking libxdmcp6:amd64 (1:1.1.1-1+deb8u1) ...\n",
      "Selecting previously unselected package libxcb1:amd64.\n",
      "Preparing to unpack .../libxcb1_1.10-3+b1_amd64.deb ...\n",
      "Unpacking libxcb1:amd64 (1.10-3+b1) ...\n",
      "Selecting previously unselected package libx11-data.\n",
      "Preparing to unpack .../libx11-data_2%3a1.6.2-3+deb8u2_all.deb ...\n",
      "Unpacking libx11-data (2:1.6.2-3+deb8u2) ...\n",
      "Selecting previously unselected package libx11-6:amd64.\n",
      "Preparing to unpack .../libx11-6_2%3a1.6.2-3+deb8u2_amd64.deb ...\n",
      "Unpacking libx11-6:amd64 (2:1.6.2-3+deb8u2) ...\n",
      "Selecting previously unselected package libxext6:amd64.\n",
      "Preparing to unpack .../libxext6_2%3a1.3.3-1_amd64.deb ...\n",
      "Unpacking libxext6:amd64 (2:1.3.3-1) ...\n",
      "Selecting previously unselected package libxmuu1:amd64.\n",
      "Preparing to unpack .../libxmuu1_2%3a1.1.2-1_amd64.deb ...\n",
      "Unpacking libxmuu1:amd64 (2:1.1.2-1) ...\n",
      "Selecting previously unselected package less.\n",
      "Preparing to unpack .../archives/less_458-3_amd64.deb ...\n",
      "Unpacking less (458-3) ...\n",
      "Selecting previously unselected package openssh-client.\n",
      "Preparing to unpack .../openssh-client_1%3a6.7p1-5+deb8u8_amd64.deb ...\n",
      "Unpacking openssh-client (1:6.7p1-5+deb8u8) ...\n",
      "Selecting previously unselected package liberror-perl.\n",
      "Preparing to unpack .../liberror-perl_0.17-1.1_all.deb ...\n",
      "Unpacking liberror-perl (0.17-1.1) ...\n",
      "Selecting previously unselected package git-man.\n",
      "Preparing to unpack .../git-man_1%3a2.1.4-2.1+deb8u10_all.deb ...\n",
      "Unpacking git-man (1:2.1.4-2.1+deb8u10) ...\n",
      "Selecting previously unselected package git.\n",
      "Preparing to unpack .../git_1%3a2.1.4-2.1+deb8u10_amd64.deb ...\n",
      "Unpacking git (1:2.1.4-2.1+deb8u10) ...\n",
      "Selecting previously unselected package rsync.\n",
      "Preparing to unpack .../rsync_3.1.1-3+deb8u2_amd64.deb ...\n",
      "Unpacking rsync (3.1.1-3+deb8u2) ...\n",
      "Selecting previously unselected package xauth.\n",
      "Preparing to unpack .../xauth_1%3a1.0.9-1_amd64.deb ...\n",
      "Unpacking xauth (1:1.0.9-1) ...\n",
      "Processing triggers for mime-support (3.58) ...\n",
      "Processing triggers for systemd (215-17+deb8u7) ...\n",
      "Setting up libpopt0:amd64 (1.16-10) ...\n",
      "Setting up libcurl3-gnutls:amd64 (7.38.0-4+deb8u16) ...\n",
      "Setting up libxau6:amd64 (1:1.0.8-1) ...\n",
      "Setting up libxdmcp6:amd64 (1:1.1.1-1+deb8u1) ...\n",
      "Setting up libxcb1:amd64 (1.10-3+b1) ...\n",
      "Setting up libx11-data (2:1.6.2-3+deb8u2) ...\n",
      "Setting up libx11-6:amd64 (2:1.6.2-3+deb8u2) ...\n",
      "Setting up libxext6:amd64 (2:1.3.3-1) ...\n",
      "Setting up libxmuu1:amd64 (2:1.1.2-1) ...\n",
      "Setting up less (458-3) ...\n",
      "debconf: unable to initialize frontend: Dialog\n",
      "debconf: (TERM is not set, so the dialog frontend is not usable.)\n",
      "debconf: falling back to frontend: Readline\n",
      "Setting up openssh-client (1:6.7p1-5+deb8u8) ...\n",
      "Setting up liberror-perl (0.17-1.1) ...\n",
      "Setting up git-man (1:2.1.4-2.1+deb8u10) ...\n",
      "Setting up git (1:2.1.4-2.1+deb8u10) ...\n",
      "Setting up rsync (3.1.1-3+deb8u2) ...\n",
      "invoke-rc.d: policy-rc.d denied execution of restart.\n",
      "Setting up xauth (1:1.0.9-1) ...\n",
      "Processing triggers for libc-bin (2.19-18+deb8u9) ...\n",
      "Processing triggers for systemd (215-17+deb8u7) ...\n",
      "Removing intermediate container 9f76b86da528\n",
      " ---> 26969f86e8ca\n",
      "Step 3/5 : WORKDIR /var/www/html/themes\n",
      " ---> Running in 56606455256a\n",
      "Removing intermediate container 56606455256a\n",
      " ---> 31e4a6809ca9\n",
      "Step 4/5 : RUN git clone --branch 8.x-3.x --single-branch --depth 1 https://git/drupal.org/project/boostrap.git     && chown -R www-data:www-data bootstrap\n",
      " ---> Running in fb5401078eec\n",
      "\u001b[91mCloning into 'boostrap'...\n",
      "\u001b[0m\u001b[91mfatal: unable to access 'https://git/drupal.org/project/boostrap.git/': Could not resolve host: git\n",
      "\u001b[0m\u001b[31mERROR\u001b[0m: Service 'drupal' failed to build : The command '/bin/sh -c git clone --branch 8.x-3.x --single-branch --depth 1 https://git/drupal.org/project/boostrap.git     && chown -R www-data:www-data bootstrap' returned a non-zero code: 128\n"
     ]
    }
   ],
   "source": [
    "!docker-compose up"
   ]
  },
  {
   "cell_type": "code",
   "execution_count": null,
   "metadata": {},
   "outputs": [],
   "source": []
  }
 ],
 "metadata": {
  "kernelspec": {
   "display_name": "Python 3",
   "language": "python",
   "name": "python3"
  },
  "language_info": {
   "codemirror_mode": {
    "name": "ipython",
    "version": 3
   },
   "file_extension": ".py",
   "mimetype": "text/x-python",
   "name": "python",
   "nbconvert_exporter": "python",
   "pygments_lexer": "ipython3",
   "version": "3.8.3"
  }
 },
 "nbformat": 4,
 "nbformat_minor": 4
}
