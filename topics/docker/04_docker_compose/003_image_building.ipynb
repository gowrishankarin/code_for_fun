{
 "cells": [
  {
   "cell_type": "markdown",
   "metadata": {},
   "source": [
    "# Using Compose: Image Building\n"
   ]
  },
  {
   "cell_type": "code",
   "execution_count": 1,
   "metadata": {
    "execution": {
     "iopub.execute_input": "2020-11-13T04:50:07.220145Z",
     "iopub.status.busy": "2020-11-13T04:50:07.219915Z",
     "iopub.status.idle": "2020-11-13T04:50:07.353013Z",
     "shell.execute_reply": "2020-11-13T04:50:07.351557Z",
     "shell.execute_reply.started": "2020-11-13T04:50:07.220121Z"
    }
   },
   "outputs": [
    {
     "name": "stdout",
     "output_type": "stream",
     "text": [
      "/Users/shankar/dev/code/studies/gen/code_for_fun/topics/docker/04_docker_compose/exercise-3\n"
     ]
    }
   ],
   "source": [
    "import os\n",
    "os.chdir('exercise-3')\n",
    "!pwd"
   ]
  },
  {
   "cell_type": "code",
   "execution_count": 3,
   "metadata": {
    "execution": {
     "iopub.execute_input": "2020-11-13T04:51:30.573983Z",
     "iopub.status.busy": "2020-11-13T04:51:30.573716Z",
     "iopub.status.idle": "2020-11-13T04:51:30.703234Z",
     "shell.execute_reply": "2020-11-13T04:51:30.701938Z",
     "shell.execute_reply.started": "2020-11-13T04:51:30.573956Z"
    }
   },
   "outputs": [],
   "source": [
    "!touch docker-compose.yml nginx.conf nginx.Dockerfile"
   ]
  },
  {
   "cell_type": "code",
   "execution_count": 5,
   "metadata": {
    "execution": {
     "iopub.execute_input": "2020-11-13T05:24:57.777743Z",
     "iopub.status.busy": "2020-11-13T05:24:57.777086Z",
     "iopub.status.idle": "2020-11-13T05:24:59.801364Z",
     "shell.execute_reply": "2020-11-13T05:24:59.800319Z",
     "shell.execute_reply.started": "2020-11-13T05:24:57.777662Z"
    }
   },
   "outputs": [
    {
     "name": "stdout",
     "output_type": "stream",
     "text": [
      "Starting exercise-3_web_1 ... \n",
      "Starting exercise-3_proxy_1 ... \n",
      "\u001b[1Bting exercise-3_proxy_1 ... \u001b[32mdone\u001b[0m\u001b[1A\u001b[2K"
     ]
    }
   ],
   "source": [
    "!docker-compose up -d"
   ]
  },
  {
   "cell_type": "code",
   "execution_count": 7,
   "metadata": {
    "execution": {
     "iopub.execute_input": "2020-11-13T05:25:32.953254Z",
     "iopub.status.busy": "2020-11-13T05:25:32.952976Z",
     "iopub.status.idle": "2020-11-13T05:25:33.562268Z",
     "shell.execute_reply": "2020-11-13T05:25:33.561506Z",
     "shell.execute_reply.started": "2020-11-13T05:25:32.953225Z"
    }
   },
   "outputs": [
    {
     "name": "stdout",
     "output_type": "stream",
     "text": [
      "Stops containers and removes containers, networks, volumes, and images\n",
      "created by `up`.\n",
      "\n",
      "By default, the only things removed are:\n",
      "\n",
      "- Containers for services defined in the Compose file\n",
      "- Networks defined in the `networks` section of the Compose file\n",
      "- The default network, if one is used\n",
      "\n",
      "Networks and volumes defined as `external` are never removed.\n",
      "\n",
      "Usage: down [options]\n",
      "\n",
      "Options:\n",
      "    --rmi type              Remove images. Type must be one of:\n",
      "                              'all': Remove all images used by any service.\n",
      "                              'local': Remove only images that don't have a\n",
      "                              custom tag set by the `image` field.\n",
      "    -v, --volumes           Remove named volumes declared in the `volumes`\n",
      "                            section of the Compose file and anonymous volumes\n",
      "                            attached to containers.\n",
      "    --remove-orphans        Remove containers for services not defined in the\n",
      "                            Compose file\n",
      "    -t, --timeout TIMEOUT   Specify a shutdown timeout in seconds.\n",
      "                            (default: 10)\n"
     ]
    }
   ],
   "source": [
    "!docker-compose down --rmi"
   ]
  },
  {
   "cell_type": "code",
   "execution_count": 8,
   "metadata": {
    "execution": {
     "iopub.execute_input": "2020-11-13T05:26:00.487590Z",
     "iopub.status.busy": "2020-11-13T05:26:00.487327Z",
     "iopub.status.idle": "2020-11-13T05:26:00.787386Z",
     "shell.execute_reply": "2020-11-13T05:26:00.786295Z",
     "shell.execute_reply.started": "2020-11-13T05:26:00.487563Z"
    }
   },
   "outputs": [
    {
     "name": "stdout",
     "output_type": "stream",
     "text": [
      "CONTAINER ID        IMAGE               COMMAND                  CREATED             STATUS              PORTS                NAMES\n",
      "2db8bcd8d4dc        httpd               \"httpd-foreground\"       6 minutes ago       Up About a minute   80/tcp               exercise-3_web_1\n",
      "ee3e930184fb        nginx-custom        \"nginx -g 'daemon of…\"   6 minutes ago       Up About a minute   0.0.0.0:80->80/tcp   exercise-3_proxy_1\n"
     ]
    }
   ],
   "source": [
    "!docker container ls"
   ]
  },
  {
   "cell_type": "code",
   "execution_count": 9,
   "metadata": {
    "execution": {
     "iopub.execute_input": "2020-11-13T05:26:38.406942Z",
     "iopub.status.busy": "2020-11-13T05:26:38.406663Z",
     "iopub.status.idle": "2020-11-13T05:26:39.952140Z",
     "shell.execute_reply": "2020-11-13T05:26:39.951338Z",
     "shell.execute_reply.started": "2020-11-13T05:26:38.406910Z"
    }
   },
   "outputs": [
    {
     "name": "stdout",
     "output_type": "stream",
     "text": [
      "2db8bcd8d4dc\n"
     ]
    }
   ],
   "source": [
    "!docker container stop 2db8bcd8d4dc"
   ]
  },
  {
   "cell_type": "code",
   "execution_count": 10,
   "metadata": {
    "execution": {
     "iopub.execute_input": "2020-11-13T05:26:47.997790Z",
     "iopub.status.busy": "2020-11-13T05:26:47.997529Z",
     "iopub.status.idle": "2020-11-13T05:26:48.565901Z",
     "shell.execute_reply": "2020-11-13T05:26:48.564858Z",
     "shell.execute_reply.started": "2020-11-13T05:26:47.997762Z"
    }
   },
   "outputs": [
    {
     "name": "stdout",
     "output_type": "stream",
     "text": [
      "ee3e930184fb\n"
     ]
    }
   ],
   "source": [
    "!docker container stop ee3e930184fb"
   ]
  },
  {
   "cell_type": "code",
   "execution_count": 11,
   "metadata": {
    "execution": {
     "iopub.execute_input": "2020-11-13T05:26:56.572304Z",
     "iopub.status.busy": "2020-11-13T05:26:56.572029Z",
     "iopub.status.idle": "2020-11-13T05:26:58.853389Z",
     "shell.execute_reply": "2020-11-13T05:26:58.852407Z",
     "shell.execute_reply.started": "2020-11-13T05:26:56.572275Z"
    }
   },
   "outputs": [
    {
     "name": "stdout",
     "output_type": "stream",
     "text": [
      "Building proxy\n",
      "Step 1/2 : FROM nginx:1.13\n",
      " ---> ae513a47849c\n",
      "Step 2/2 : COPY nginx.conf /etc/nginx/conf.d/default.conf\n",
      " ---> Using cache\n",
      " ---> a79e96907bd6\n",
      "\u001b[2K\n",
      "Successfully built a79e96907bd6\n",
      "Successfully tagged exercise-3_proxy:latest\n",
      "\u001b[33mWARNING\u001b[0m: Image for service proxy was built because it did not already exist. To rebuild this image you must use `docker-compose build` or `docker-compose up --build`.\n",
      "Starting exercise-3_web_1 ... \n",
      "Recreating exercise-3_proxy_1 ... \n",
      "\u001b[1Beating exercise-3_proxy_1 ... \u001b[32mdone\u001b[0m\u001b[1A\u001b[2K"
     ]
    }
   ],
   "source": [
    "!docker-compose up -d"
   ]
  },
  {
   "cell_type": "code",
   "execution_count": 12,
   "metadata": {
    "execution": {
     "iopub.execute_input": "2020-11-13T05:27:03.462720Z",
     "iopub.status.busy": "2020-11-13T05:27:03.462450Z",
     "iopub.status.idle": "2020-11-13T05:27:03.759131Z",
     "shell.execute_reply": "2020-11-13T05:27:03.757966Z",
     "shell.execute_reply.started": "2020-11-13T05:27:03.462693Z"
    }
   },
   "outputs": [
    {
     "name": "stdout",
     "output_type": "stream",
     "text": [
      "CONTAINER ID        IMAGE               COMMAND                  CREATED             STATUS              PORTS                NAMES\n",
      "ec46d74ed07b        exercise-3_proxy    \"nginx -g 'daemon of…\"   6 seconds ago       Up 5 seconds        0.0.0.0:80->80/tcp   exercise-3_proxy_1\n",
      "2db8bcd8d4dc        httpd               \"httpd-foreground\"       7 minutes ago       Up 5 seconds        80/tcp               exercise-3_web_1\n"
     ]
    }
   ],
   "source": [
    "!docker container ls"
   ]
  },
  {
   "cell_type": "code",
   "execution_count": 13,
   "metadata": {
    "execution": {
     "iopub.execute_input": "2020-11-13T05:27:16.517242Z",
     "iopub.status.busy": "2020-11-13T05:27:16.516856Z",
     "iopub.status.idle": "2020-11-13T05:27:17.168154Z",
     "shell.execute_reply": "2020-11-13T05:27:17.166949Z",
     "shell.execute_reply.started": "2020-11-13T05:27:16.517193Z"
    }
   },
   "outputs": [
    {
     "name": "stdout",
     "output_type": "stream",
     "text": [
      "Stops containers and removes containers, networks, volumes, and images\n",
      "created by `up`.\n",
      "\n",
      "By default, the only things removed are:\n",
      "\n",
      "- Containers for services defined in the Compose file\n",
      "- Networks defined in the `networks` section of the Compose file\n",
      "- The default network, if one is used\n",
      "\n",
      "Networks and volumes defined as `external` are never removed.\n",
      "\n",
      "Usage: down [options]\n",
      "\n",
      "Options:\n",
      "    --rmi type              Remove images. Type must be one of:\n",
      "                              'all': Remove all images used by any service.\n",
      "                              'local': Remove only images that don't have a\n",
      "                              custom tag set by the `image` field.\n",
      "    -v, --volumes           Remove named volumes declared in the `volumes`\n",
      "                            section of the Compose file and anonymous volumes\n",
      "                            attached to containers.\n",
      "    --remove-orphans        Remove containers for services not defined in the\n",
      "                            Compose file\n",
      "    -t, --timeout TIMEOUT   Specify a shutdown timeout in seconds.\n",
      "                            (default: 10)\n"
     ]
    }
   ],
   "source": [
    "!docker-compose down --rmi"
   ]
  },
  {
   "cell_type": "code",
   "execution_count": 14,
   "metadata": {
    "execution": {
     "iopub.execute_input": "2020-11-13T05:27:26.149470Z",
     "iopub.status.busy": "2020-11-13T05:27:26.149219Z",
     "iopub.status.idle": "2020-11-13T05:27:26.452543Z",
     "shell.execute_reply": "2020-11-13T05:27:26.451189Z",
     "shell.execute_reply.started": "2020-11-13T05:27:26.149444Z"
    }
   },
   "outputs": [
    {
     "name": "stdout",
     "output_type": "stream",
     "text": [
      "CONTAINER ID        IMAGE               COMMAND                  CREATED             STATUS              PORTS                NAMES\n",
      "ec46d74ed07b        exercise-3_proxy    \"nginx -g 'daemon of…\"   29 seconds ago      Up 27 seconds       0.0.0.0:80->80/tcp   exercise-3_proxy_1\n",
      "2db8bcd8d4dc        httpd               \"httpd-foreground\"       7 minutes ago       Up 27 seconds       80/tcp               exercise-3_web_1\n"
     ]
    }
   ],
   "source": [
    "!docker container ls"
   ]
  },
  {
   "cell_type": "code",
   "execution_count": 15,
   "metadata": {
    "execution": {
     "iopub.execute_input": "2020-11-13T05:28:22.725813Z",
     "iopub.status.busy": "2020-11-13T05:28:22.725545Z",
     "iopub.status.idle": "2020-11-13T05:28:25.145799Z",
     "shell.execute_reply": "2020-11-13T05:28:25.145089Z",
     "shell.execute_reply.started": "2020-11-13T05:28:22.725785Z"
    }
   },
   "outputs": [
    {
     "name": "stdout",
     "output_type": "stream",
     "text": [
      "Stopping exercise-3_proxy_1 ... \n",
      "Stopping exercise-3_web_1   ... \n",
      "\u001b[1Bping exercise-3_web_1   ... \u001b[32mdone\u001b[0m\u001b[1A\u001b[2KRemoving exercise-3_proxy_1 ... \n",
      "Removing exercise-3_web_1   ... \n",
      "\u001b[1BRemoving network exercise-3_defaultne\u001b[0m\n",
      "Removing image exercise-3_proxy\n"
     ]
    }
   ],
   "source": [
    "!docker-compose down --rmi local"
   ]
  },
  {
   "cell_type": "code",
   "execution_count": 16,
   "metadata": {
    "execution": {
     "iopub.execute_input": "2020-11-13T05:28:29.527972Z",
     "iopub.status.busy": "2020-11-13T05:28:29.527444Z",
     "iopub.status.idle": "2020-11-13T05:28:29.826592Z",
     "shell.execute_reply": "2020-11-13T05:28:29.825575Z",
     "shell.execute_reply.started": "2020-11-13T05:28:29.527910Z"
    }
   },
   "outputs": [
    {
     "name": "stdout",
     "output_type": "stream",
     "text": [
      "CONTAINER ID        IMAGE               COMMAND             CREATED             STATUS              PORTS               NAMES\n"
     ]
    }
   ],
   "source": [
    "!docker container ls"
   ]
  },
  {
   "cell_type": "code",
   "execution_count": null,
   "metadata": {},
   "outputs": [],
   "source": []
  }
 ],
 "metadata": {
  "kernelspec": {
   "display_name": "Python 3",
   "language": "python",
   "name": "python3"
  },
  "language_info": {
   "codemirror_mode": {
    "name": "ipython",
    "version": 3
   },
   "file_extension": ".py",
   "mimetype": "text/x-python",
   "name": "python",
   "nbconvert_exporter": "python",
   "pygments_lexer": "ipython3",
   "version": "3.8.3"
  }
 },
 "nbformat": 4,
 "nbformat_minor": 4
}
