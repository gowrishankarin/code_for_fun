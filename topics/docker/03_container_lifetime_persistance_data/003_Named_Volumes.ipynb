{
 "cells": [
  {
   "cell_type": "markdown",
   "metadata": {},
   "source": [
    "# Named Volumes\n",
    "\n",
    "- Database upgrade with containers\n",
    "- Crete a `postgres` container with named volume psql-data using version 9.6.1\n",
    "- Use Docker Hub to earn VOLUME path and versions needed to run it\n",
    "- Check logs, stop container\n",
    "- Crete a new `postgres` container with same named volume using `9.6.2`\n",
    "- Check logs to validate\n",
    "\n",
    "## Create Postgres Containers"
   ]
  },
  {
   "cell_type": "code",
   "execution_count": 1,
   "metadata": {
    "execution": {
     "iopub.execute_input": "2020-11-07T14:16:51.232955Z",
     "iopub.status.busy": "2020-11-07T14:16:51.232709Z",
     "iopub.status.idle": "2020-11-07T14:17:18.274163Z",
     "shell.execute_reply": "2020-11-07T14:17:18.273451Z",
     "shell.execute_reply.started": "2020-11-07T14:16:51.232929Z"
    }
   },
   "outputs": [
    {
     "name": "stdout",
     "output_type": "stream",
     "text": [
      "Unable to find image 'postgres:9.6.1' locally\n",
      "9.6.1: Pulling from library/postgres\n",
      "\n",
      "\u001b[1Bbd298390: Pulling fs layer \n",
      "\u001b[1B54c3c700: Pulling fs layer \n",
      "\u001b[1B38cdfe03: Pulling fs layer \n",
      "\u001b[1Bba315f03: Pulling fs layer \n",
      "\u001b[1Bee93170e: Pulling fs layer \n",
      "\u001b[1B084c3f51: Pulling fs layer \n",
      "\u001b[1B1f0aedcd: Pulling fs layer \n",
      "\u001b[1B52dbcbb8: Pulling fs layer \n",
      "\u001b[1B75825613: Pulling fs layer \n",
      "\u001b[1B691a9920: Pulling fs layer \n",
      "\u001b[1Bd20755c9: Pulling fs layer \n",
      "\u001b[1BDigest: sha256:0842a7ef786aa2658623085160cb38451eb3d40856e7d222ae0069b6e6296877\u001b[2K\u001b[12A\u001b[2K\u001b[12A\u001b[2K\u001b[12A\u001b[2K\u001b[12A\u001b[2K\u001b[12A\u001b[2K\u001b[12A\u001b[2K\u001b[12A\u001b[2K\u001b[12A\u001b[2K\u001b[12A\u001b[2K\u001b[12A\u001b[2K\u001b[12A\u001b[2K\u001b[12A\u001b[2K\u001b[12A\u001b[2K\u001b[12A\u001b[2K\u001b[12A\u001b[2K\u001b[9A\u001b[2K\u001b[12A\u001b[2K\u001b[9A\u001b[2K\u001b[12A\u001b[2K\u001b[9A\u001b[2K\u001b[8A\u001b[2K\u001b[9A\u001b[2K\u001b[9A\u001b[2K\u001b[12A\u001b[2K\u001b[9A\u001b[2K\u001b[9A\u001b[2K\u001b[12A\u001b[2K\u001b[9A\u001b[2KDownloading  1.661MB/6.866MB\u001b[12A\u001b[2K\u001b[9A\u001b[2K\u001b[12A\u001b[2K\u001b[9A\u001b[2K\u001b[12A\u001b[2K\u001b[9A\u001b[2K\u001b[12A\u001b[2K\u001b[9A\u001b[2K\u001b[12A\u001b[2K\u001b[9A\u001b[2K\u001b[12A\u001b[2K\u001b[9A\u001b[2K\u001b[9A\u001b[2K\u001b[12A\u001b[2K\u001b[9A\u001b[2K\u001b[9A\u001b[2K\u001b[12A\u001b[2K\u001b[12A\u001b[2K\u001b[12A\u001b[2K\u001b[12A\u001b[2K\u001b[12A\u001b[2K\u001b[7A\u001b[2K\u001b[12A\u001b[2K\u001b[7A\u001b[2K\u001b[6A\u001b[2K\u001b[12A\u001b[2K\u001b[12A\u001b[2K\u001b[12A\u001b[2K\u001b[12A\u001b[2K\u001b[12A\u001b[2K\u001b[12A\u001b[2K\u001b[12A\u001b[2K\u001b[12A\u001b[2K\u001b[12A\u001b[2K\u001b[4A\u001b[2K\u001b[12A\u001b[2K\u001b[5A\u001b[2K\u001b[12A\u001b[2K\u001b[12A\u001b[2K\u001b[5A\u001b[2K\u001b[12A\u001b[2K\u001b[5A\u001b[2K\u001b[12A\u001b[2K\u001b[5A\u001b[2K\u001b[12A\u001b[2K\u001b[5A\u001b[2K\u001b[12A\u001b[2K\u001b[5A\u001b[2K\u001b[12A\u001b[2K\u001b[5A\u001b[2K\u001b[12A\u001b[2K\u001b[5A\u001b[2K\u001b[12A\u001b[2K\u001b[5A\u001b[2K\u001b[12A\u001b[2K\u001b[5A\u001b[2K\u001b[12A\u001b[2K\u001b[5A\u001b[2K\u001b[5A\u001b[2K\u001b[3A\u001b[2K\u001b[5A\u001b[2K\u001b[5A\u001b[2K\u001b[12A\u001b[2K\u001b[12A\u001b[2K\u001b[5A\u001b[2K\u001b[12A\u001b[2K\u001b[12A\u001b[2K\u001b[5A\u001b[2K\u001b[12A\u001b[2K\u001b[5A\u001b[2K\u001b[12A\u001b[2K\u001b[5A\u001b[2K\u001b[12A\u001b[2K\u001b[5A\u001b[2K\u001b[1A\u001b[2K\u001b[5A\u001b[2K\u001b[12A\u001b[2K\u001b[5A\u001b[2K\u001b[12A\u001b[2K\u001b[5A\u001b[2K\u001b[12A\u001b[2K\u001b[5A\u001b[2K\u001b[12A\u001b[2K\u001b[5A\u001b[2K\u001b[5A\u001b[2K\u001b[5A\u001b[2K\u001b[5A\u001b[2K\u001b[5A\u001b[2K\u001b[5A\u001b[2K\u001b[12A\u001b[2K\u001b[12A\u001b[2K\u001b[12A\u001b[2K\u001b[11A\u001b[2K\u001b[11A\u001b[2K\u001b[10A\u001b[2K\u001b[10A\u001b[2K\u001b[10A\u001b[2K\u001b[9A\u001b[2K\u001b[9A\u001b[2K\u001b[9A\u001b[2K\u001b[9A\u001b[2K\u001b[9A\u001b[2K\u001b[9A\u001b[2K\u001b[8A\u001b[2K\u001b[7A\u001b[2K\u001b[6A\u001b[2K\u001b[5A\u001b[2K\u001b[5A\u001b[2K\u001b[5A\u001b[2K\u001b[5A\u001b[2K\u001b[5A\u001b[2K\u001b[5A\u001b[2K\u001b[5A\u001b[2K\u001b[5A\u001b[2K\u001b[5A\u001b[2K\u001b[5A\u001b[2K\u001b[5A\u001b[2K\u001b[5A\u001b[2K\u001b[5A\u001b[2K\u001b[5A\u001b[2K\u001b[5A\u001b[2K\u001b[5A\u001b[2K\u001b[5A\u001b[2K\u001b[5A\u001b[2K\u001b[5A\u001b[2K\u001b[5A\u001b[2K\u001b[5A\u001b[2K\u001b[5A\u001b[2K\u001b[5A\u001b[2K\u001b[5A\u001b[2K\u001b[5A\u001b[2K\u001b[5A\u001b[2K\u001b[5A\u001b[2K\u001b[5A\u001b[2K\u001b[4A\u001b[2K\u001b[3A\u001b[2K\u001b[2A\u001b[2K\u001b[1A\u001b[2K\u001b[1A\u001b[2K\n",
      "Status: Downloaded newer image for postgres:9.6.1\n",
      "5d40e1ea79b0bbb532bf69469641d8fae8f1879e0aef8046d6249428aa79d177\n"
     ]
    }
   ],
   "source": [
    "!docker container run -d --name psql  -v psql:/var/lib/postresql/data postgres:9.6.1"
   ]
  },
  {
   "cell_type": "markdown",
   "metadata": {},
   "source": [
    "## Examine the Logs"
   ]
  },
  {
   "cell_type": "code",
   "execution_count": 2,
   "metadata": {
    "execution": {
     "iopub.execute_input": "2020-11-07T14:17:59.679655Z",
     "iopub.status.busy": "2020-11-07T14:17:59.679406Z",
     "iopub.status.idle": "2020-11-07T14:19:05.506675Z",
     "shell.execute_reply": "2020-11-07T14:19:05.505756Z",
     "shell.execute_reply.started": "2020-11-07T14:17:59.679629Z"
    }
   },
   "outputs": [
    {
     "name": "stdout",
     "output_type": "stream",
     "text": [
      "The files belonging to this database system will be owned by user \"postgres\".\n",
      "This user must also own the server process.\n",
      "\n",
      "The database cluster will be initialized with locale \"en_US.utf8\".\n",
      "The default database encoding has accordingly been set to \"UTF8\".\n",
      "The default text search configuration will be set to \"english\".\n",
      "\n",
      "Data page checksums are disabled.\n",
      "\n",
      "fixing permissions on existing directory /var/lib/postgresql/data ... ok\n",
      "creating subdirectories ... ok\n",
      "selecting default max_connections ... 100\n",
      "selecting default shared_buffers ... 128MB\n",
      "selecting dynamic shared memory implementation ... posix\n",
      "creating configuration files ... ok\n",
      "running bootstrap script ... ok\n",
      "performing post-bootstrap initialization ... ok\n",
      "syncing data to disk ... ok\n",
      "\n",
      "Success. You can now start the database server using:\n",
      "\n",
      "WARNING: enabling \"trust\" authentication for local connections\n",
      "\n",
      "You can change this by editing pg_hba.conf or using the option -A, or\n",
      "--auth-local and --auth-host, the next time you run initdb.\n",
      "    pg_ctl -D /var/lib/postgresql/data -l logfile start\n",
      "\n",
      "****************************************************\n",
      "WARNING: No password has been set for the database.\n",
      "         This will allow anyone with access to the\n",
      "         Postgres port to access your database. In\n",
      "         Docker's default configuration, this is\n",
      "         effectively any other container on the same\n",
      "         system.\n",
      "\n",
      "         Use \"-e POSTGRES_PASSWORD=password\" to set\n",
      "         it in \"docker run\".\n",
      "****************************************************\n",
      "waiting for server to start....LOG:  could not bind IPv6 socket: Cannot assign requested address\n",
      "HINT:  Is another postmaster already running on port 5432? If not, wait a few seconds and retry.\n",
      "LOG:  database system was shut down at 2020-11-07 14:17:20 UTC\n",
      "LOG:  MultiXact member wraparound protections are now enabled\n",
      "LOG:  database system is ready to accept connections\n",
      "LOG:  autovacuum launcher started\n",
      " done\n",
      "server started\n",
      "ALTER ROLE\n",
      "\n",
      "\n",
      "/docker-entrypoint.sh: ignoring /docker-entrypoint-initdb.d/*\n",
      "\n",
      "LOG:  received fast shutdown request\n",
      "waiting for server to shut down....LOG:  aborting any active transactions\n",
      "LOG:  autovacuum launcher shutting down\n",
      "LOG:  shutting down\n",
      "LOG:  database system is shut down\n",
      " done\n",
      "server stopped\n",
      "\n",
      "PostgreSQL init process complete; ready for start up.\n",
      "\n",
      "LOG:  database system was shut down at 2020-11-07 14:17:22 UTC\n",
      "LOG:  MultiXact member wraparound protections are now enabled\n",
      "LOG:  database system is ready to accept connections\n",
      "LOG:  autovacuum launcher started\n",
      "^C\n"
     ]
    }
   ],
   "source": [
    "!docker container logs -f psql "
   ]
  },
  {
   "cell_type": "markdown",
   "metadata": {},
   "source": [
    "## Stop the container"
   ]
  },
  {
   "cell_type": "code",
   "execution_count": 4,
   "metadata": {
    "execution": {
     "iopub.execute_input": "2020-11-07T14:19:10.162073Z",
     "iopub.status.busy": "2020-11-07T14:19:10.161820Z",
     "iopub.status.idle": "2020-11-07T14:19:10.767953Z",
     "shell.execute_reply": "2020-11-07T14:19:10.766873Z",
     "shell.execute_reply.started": "2020-11-07T14:19:10.162047Z"
    }
   },
   "outputs": [
    {
     "name": "stdout",
     "output_type": "stream",
     "text": [
      "5d40e1ea79b0bbb532bf69469641d8fae8f1879e0aef8046d6249428aa79d177\n"
     ]
    }
   ],
   "source": [
    "!docker container stop 5d40e1ea79b0bbb532bf69469641d8fae8f1879e0aef8046d6249428aa79d177"
   ]
  },
  {
   "cell_type": "code",
   "execution_count": 5,
   "metadata": {
    "execution": {
     "iopub.execute_input": "2020-11-07T14:19:20.358226Z",
     "iopub.status.busy": "2020-11-07T14:19:20.357982Z",
     "iopub.status.idle": "2020-11-07T14:19:20.670663Z",
     "shell.execute_reply": "2020-11-07T14:19:20.669957Z",
     "shell.execute_reply.started": "2020-11-07T14:19:20.358200Z"
    }
   },
   "outputs": [
    {
     "name": "stdout",
     "output_type": "stream",
     "text": [
      "CONTAINER ID        IMAGE                 COMMAND                  CREATED             STATUS              PORTS                  NAMES\n",
      "cdf63142b490        nginx                 \"/docker-entrypoint.…\"   9 hours ago         Up 9 hours          0.0.0.0:8081->80/tcp   nginx_5\n",
      "958e00d806c2        nginx                 \"/docker-entrypoint.…\"   9 hours ago         Up 9 hours          0.0.0.0:80->80/tcp     nginx\n",
      "9879bbfd4d11        mysql                 \"docker-entrypoint.s…\"   9 hours ago         Up 9 hours          3306/tcp, 33060/tcp    mysql\n",
      "498ec070b0e3        cvat/ui               \"/docker-entrypoint.…\"   7 days ago          Up 11 hours         80/tcp                 cvat_ui\n",
      "9710bbd9e905        nginx:stable-alpine   \"/docker-entrypoint.…\"   7 days ago          Up 11 hours         0.0.0.0:8080->80/tcp   cvat_proxy\n",
      "d9f68ac2b68e        cvat/server           \"/usr/bin/supervisord\"   7 days ago          Up 11 hours         8080/tcp, 8443/tcp     cvat\n",
      "2b8a2aa219d5        redis:4.0-alpine      \"docker-entrypoint.s…\"   7 days ago          Up 11 hours         6379/tcp               cvat_redis\n",
      "47c63fc28748        postgres:10-alpine    \"docker-entrypoint.s…\"   7 days ago          Up 11 hours         5432/tcp               cvat_db\n"
     ]
    }
   ],
   "source": [
    "!docker container ls"
   ]
  },
  {
   "cell_type": "markdown",
   "metadata": {},
   "source": [
    "## Upgrade Postgres to 9.6.2"
   ]
  },
  {
   "cell_type": "code",
   "execution_count": 7,
   "metadata": {
    "execution": {
     "iopub.execute_input": "2020-11-07T14:20:57.553306Z",
     "iopub.status.busy": "2020-11-07T14:20:57.553014Z",
     "iopub.status.idle": "2020-11-07T14:20:58.356615Z",
     "shell.execute_reply": "2020-11-07T14:20:58.355749Z",
     "shell.execute_reply.started": "2020-11-07T14:20:57.553267Z"
    }
   },
   "outputs": [
    {
     "name": "stdout",
     "output_type": "stream",
     "text": [
      "93f48c0a6f62782b3d6baa011977f7b42e8c87441a39c1d82525fca01a28c703\n"
     ]
    }
   ],
   "source": [
    "!docker container run -d --name psql2 -v psql:/var/lib/postgresql/data postgres:9.6.2"
   ]
  },
  {
   "cell_type": "markdown",
   "metadata": {},
   "source": [
    "## Verify 2 Containers for psql"
   ]
  },
  {
   "cell_type": "code",
   "execution_count": 8,
   "metadata": {
    "execution": {
     "iopub.execute_input": "2020-11-07T14:21:23.479255Z",
     "iopub.status.busy": "2020-11-07T14:21:23.479000Z",
     "iopub.status.idle": "2020-11-07T14:21:23.803077Z",
     "shell.execute_reply": "2020-11-07T14:21:23.802336Z",
     "shell.execute_reply.started": "2020-11-07T14:21:23.479229Z"
    }
   },
   "outputs": [
    {
     "name": "stdout",
     "output_type": "stream",
     "text": [
      "CONTAINER ID        IMAGE                 COMMAND                  CREATED             STATUS                     PORTS                  NAMES\n",
      "93f48c0a6f62        postgres:9.6.2        \"docker-entrypoint.s…\"   26 seconds ago      Up 25 seconds              5432/tcp               psql2\n",
      "5d40e1ea79b0        postgres:9.6.1        \"/docker-entrypoint.…\"   4 minutes ago       Exited (0) 2 minutes ago                          psql\n",
      "cdf63142b490        nginx                 \"/docker-entrypoint.…\"   9 hours ago         Up 9 hours                 0.0.0.0:8081->80/tcp   nginx_5\n",
      "8fbbf47ab46e        nginx                 \"/docker-entrypoint.…\"   9 hours ago         Created                                           nginx_2\n",
      "958e00d806c2        nginx                 \"/docker-entrypoint.…\"   9 hours ago         Up 9 hours                 0.0.0.0:80->80/tcp     nginx\n",
      "9879bbfd4d11        mysql                 \"docker-entrypoint.s…\"   9 hours ago         Up 9 hours                 3306/tcp, 33060/tcp    mysql\n",
      "498ec070b0e3        cvat/ui               \"/docker-entrypoint.…\"   7 days ago          Up 11 hours                80/tcp                 cvat_ui\n",
      "9710bbd9e905        nginx:stable-alpine   \"/docker-entrypoint.…\"   7 days ago          Up 11 hours                0.0.0.0:8080->80/tcp   cvat_proxy\n",
      "d9f68ac2b68e        cvat/server           \"/usr/bin/supervisord\"   7 days ago          Up 11 hours                8080/tcp, 8443/tcp     cvat\n",
      "2b8a2aa219d5        redis:4.0-alpine      \"docker-entrypoint.s…\"   7 days ago          Up 11 hours                6379/tcp               cvat_redis\n",
      "47c63fc28748        postgres:10-alpine    \"docker-entrypoint.s…\"   7 days ago          Up 11 hours                5432/tcp               cvat_db\n",
      "4851e9d30551        7c7951307f89          \"/bin/sh -c 'npm run…\"   7 days ago          Exited (2) 7 days ago                             affectionate_newton\n"
     ]
    }
   ],
   "source": [
    "!docker container ps -a"
   ]
  },
  {
   "cell_type": "markdown",
   "metadata": {
    "execution": {
     "iopub.execute_input": "2020-11-07T14:22:24.295492Z",
     "iopub.status.busy": "2020-11-07T14:22:24.295243Z",
     "iopub.status.idle": "2020-11-07T14:22:24.298605Z",
     "shell.execute_reply": "2020-11-07T14:22:24.297925Z",
     "shell.execute_reply.started": "2020-11-07T14:22:24.295465Z"
    }
   },
   "source": [
    "## Check the logs"
   ]
  },
  {
   "cell_type": "code",
   "execution_count": 12,
   "metadata": {
    "execution": {
     "iopub.execute_input": "2020-11-07T14:24:35.078597Z",
     "iopub.status.busy": "2020-11-07T14:24:35.078368Z",
     "iopub.status.idle": "2020-11-07T14:24:35.366701Z",
     "shell.execute_reply": "2020-11-07T14:24:35.365861Z",
     "shell.execute_reply.started": "2020-11-07T14:24:35.078570Z"
    }
   },
   "outputs": [
    {
     "name": "stdout",
     "output_type": "stream",
     "text": [
      "The files belonging to this database system will be owned by user \"postgres\".\n",
      "This user must also own the server process.\n",
      "\n",
      "The database cluster will be initialized with locale \"en_US.utf8\".\n",
      "The default database encoding has accordingly been set to \"UTF8\".\n",
      "The default text search configuration will be set to \"english\".\n",
      "\n",
      "Data page checksums are disabled.\n",
      "\n",
      "fixing permissions on existing directory /var/lib/postgresql/data ... ok\n",
      "creating subdirectories ... ok\n",
      "selecting default max_connections ... 100\n",
      "selecting default shared_buffers ... 128MB\n",
      "selecting dynamic shared memory implementation ... posix\n",
      "creating configuration files ... ok\n",
      "running bootstrap script ... ok\n",
      "performing post-bootstrap initialization ... ok\n",
      "\n",
      "WARNING: enabling \"trust\" authentication for local connections\n",
      "You can change this by editing pg_hba.conf or using the option -A, or\n",
      "--auth-local and --auth-host, the next time you run initdb.\n",
      "syncing data to disk ... ok\n",
      "\n",
      "Success. You can now start the database server using:\n",
      "\n",
      "    pg_ctl -D /var/lib/postgresql/data -l logfile start\n",
      "\n",
      "****************************************************\n",
      "WARNING: No password has been set for the database.\n",
      "         This will allow anyone with access to the\n",
      "         Postgres port to access your database. In\n",
      "         Docker's default configuration, this is\n",
      "         effectively any other container on the same\n",
      "         system.\n",
      "\n",
      "         Use \"-e POSTGRES_PASSWORD=password\" to set\n",
      "         it in \"docker run\".\n",
      "****************************************************\n",
      "waiting for server to start....LOG:  could not bind IPv6 socket: Cannot assign requested address\n",
      "HINT:  Is another postmaster already running on port 5432? If not, wait a few seconds and retry.\n",
      "LOG:  database system was shut down at 2020-11-07 14:21:00 UTC\n",
      "LOG:  MultiXact member wraparound protections are now enabled\n",
      "LOG:  database system is ready to accept connections\n",
      "LOG:  autovacuum launcher started\n",
      " done\n",
      "server started\n",
      "ALTER ROLE\n",
      "\n",
      "\n",
      "/usr/local/bin/docker-entrypoint.sh: ignoring /docker-entrypoint-initdb.d/*\n",
      "\n",
      "LOG:  received fast shutdown request\n",
      "LOG:  aborting any active transactions\n",
      "waiting for server to shut down....LOG:  autovacuum launcher shutting down\n",
      "LOG:  shutting down\n",
      "LOG:  database system is shut down\n",
      " done\n",
      "server stopped\n",
      "\n",
      "PostgreSQL init process complete; ready for start up.\n",
      "\n",
      "LOG:  database system was shut down at 2020-11-07 14:21:02 UTC\n",
      "LOG:  MultiXact member wraparound protections are now enabled\n",
      "LOG:  autovacuum launcher started\n",
      "LOG:  database system is ready to accept connections\n"
     ]
    }
   ],
   "source": [
    "!docker container logs 93f48c0a6f62"
   ]
  },
  {
   "cell_type": "code",
   "execution_count": 11,
   "metadata": {
    "execution": {
     "iopub.execute_input": "2020-11-07T14:24:04.688200Z",
     "iopub.status.busy": "2020-11-07T14:24:04.687867Z",
     "iopub.status.idle": "2020-11-07T14:24:05.002509Z",
     "shell.execute_reply": "2020-11-07T14:24:05.001665Z",
     "shell.execute_reply.started": "2020-11-07T14:24:04.688169Z"
    }
   },
   "outputs": [
    {
     "name": "stdout",
     "output_type": "stream",
     "text": [
      "DRIVER              VOLUME NAME\n",
      "local               1db34a8dc27f864e89c217ffecb07ed2014a7c5b23d95f4a58f8e74fe5b3b60a\n",
      "local               3f991fc621c4eaf8c18877708c060f8e3d6e972ff5a841081f2c1340c38002e0\n",
      "local               7515f955645cd93fc7ed5a87175ea4afd24341b57c12f214bd244a32f235a5e6\n",
      "local               cvat_cvat_data\n",
      "local               cvat_cvat_db\n",
      "local               cvat_cvat_keys\n",
      "local               cvat_cvat_logs\n",
      "local               cvat_cvat_models\n",
      "local               mysql-db\n",
      "local               psql\n"
     ]
    }
   ],
   "source": [
    "!docker volume ls"
   ]
  },
  {
   "cell_type": "code",
   "execution_count": null,
   "metadata": {},
   "outputs": [],
   "source": []
  }
 ],
 "metadata": {
  "kernelspec": {
   "display_name": "Python 3",
   "language": "python",
   "name": "python3"
  },
  "language_info": {
   "codemirror_mode": {
    "name": "ipython",
    "version": 3
   },
   "file_extension": ".py",
   "mimetype": "text/x-python",
   "name": "python",
   "nbconvert_exporter": "python",
   "pygments_lexer": "ipython3",
   "version": "3.8.3"
  }
 },
 "nbformat": 4,
 "nbformat_minor": 4
}
