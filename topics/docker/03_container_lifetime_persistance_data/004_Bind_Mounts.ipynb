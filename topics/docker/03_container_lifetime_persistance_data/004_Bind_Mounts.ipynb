{
 "cells": [
  {
   "cell_type": "markdown",
   "metadata": {},
   "source": [
    "# Bind Mounts\n",
    "\n",
    "- Use a Jekyll \"Static Site Generator\" to start a local web server\n",
    "- This example is a bridging gap between local file access and apps running in containers\n",
    "- Source code is in the course repo under `bindmount-sample-1`\n",
    "- We edit files with editor on our host using native tools\n",
    "- Container detects changes with host files and updates web server\n",
    "- Start container with `docker run -p 80:4000 -v $(pwd):/site/bretfisher/jekyll-serve`\n",
    "- Refresh our browser to see changes\n",
    "- Change the file in `_posts\\` and refresh browser to see changes"
   ]
  },
  {
   "cell_type": "code",
   "execution_count": 1,
   "metadata": {
    "execution": {
     "iopub.execute_input": "2020-11-07T14:36:04.574184Z",
     "iopub.status.busy": "2020-11-07T14:36:04.573929Z",
     "iopub.status.idle": "2020-11-07T14:36:04.707661Z",
     "shell.execute_reply": "2020-11-07T14:36:04.706577Z",
     "shell.execute_reply.started": "2020-11-07T14:36:04.574159Z"
    }
   },
   "outputs": [],
   "source": [
    "!mkdir bindmount-sample-1\n",
    "import os\n",
    "os.chdir(\"bindmount-sample-1\")"
   ]
  },
  {
   "cell_type": "code",
   "execution_count": 2,
   "metadata": {
    "execution": {
     "iopub.execute_input": "2020-11-07T14:36:38.610507Z",
     "iopub.status.busy": "2020-11-07T14:36:38.610164Z",
     "iopub.status.idle": "2020-11-07T14:36:39.020138Z",
     "shell.execute_reply": "2020-11-07T14:36:39.019199Z",
     "shell.execute_reply.started": "2020-11-07T14:36:38.610475Z"
    }
   },
   "outputs": [],
   "source": [
    "!open ."
   ]
  },
  {
   "cell_type": "code",
   "execution_count": 4,
   "metadata": {
    "execution": {
     "iopub.execute_input": "2020-11-07T16:11:08.583680Z",
     "iopub.status.busy": "2020-11-07T16:11:08.582831Z",
     "iopub.status.idle": "2020-11-07T16:11:08.722613Z",
     "shell.execute_reply": "2020-11-07T16:11:08.721753Z",
     "shell.execute_reply.started": "2020-11-07T16:11:08.583638Z"
    }
   },
   "outputs": [
    {
     "name": "stdout",
     "output_type": "stream",
     "text": [
      "/Users/shankar/dev/code/studies/gen/code_for_fun/topics/docker/03_container_lifetime_persistance_data/bindmount-sample-1\n"
     ]
    }
   ],
   "source": [
    "!pwd"
   ]
  },
  {
   "cell_type": "code",
   "execution_count": 8,
   "metadata": {
    "execution": {
     "iopub.execute_input": "2020-11-07T16:16:08.071415Z",
     "iopub.status.busy": "2020-11-07T16:16:08.071161Z",
     "iopub.status.idle": "2020-11-07T16:42:18.340774Z",
     "shell.execute_reply": "2020-11-07T16:42:18.340122Z",
     "shell.execute_reply.started": "2020-11-07T16:16:08.071383Z"
    }
   },
   "outputs": [
    {
     "name": "stdout",
     "output_type": "stream",
     "text": [
      "The dependency tzinfo (~> 1.2) will be unused by any of the platforms Bundler is installing for. Bundler is installing for ruby but the dependency is only for x86-mingw32, x64-mingw32, x86-mswin32, java. To add those platforms to the bundle, run `bundle lock --add-platform x86-mingw32 x64-mingw32 x86-mswin32 java`.\n",
      "The dependency tzinfo-data (>= 0) will be unused by any of the platforms Bundler is installing for. Bundler is installing for ruby but the dependency is only for x86-mingw32, x64-mingw32, x86-mswin32, java. To add those platforms to the bundle, run `bundle lock --add-platform x86-mingw32 x64-mingw32 x86-mswin32 java`.\n",
      "The dependency wdm (~> 0.1.1) will be unused by any of the platforms Bundler is installing for. Bundler is installing for ruby but the dependency is only for x86-mingw32, x64-mingw32, x86-mswin32. To add those platforms to the bundle, run `bundle lock --add-platform x86-mingw32 x64-mingw32 x86-mswin32`.\n",
      "Fetching gem metadata from https://rubygems.org/..........\n",
      "Fetching gem metadata from https://rubygems.org/.\n",
      "Resolving dependencies...\n",
      "Using bundler 2.1.4\n",
      "Using colorator 1.1.0\n",
      "Using eventmachine 1.2.7\n",
      "Using http_parser.rb 0.6.0\n",
      "Using ffi 1.13.1\n",
      "Using forwardable-extended 2.6.0\n",
      "Using rb-fsevent 0.10.4\n",
      "Using liquid 4.0.3\n",
      "Using mercenary 0.4.0\n",
      "Using safe_yaml 1.0.5\n",
      "Using unicode-display_width 1.7.0\n",
      "Fetching rexml 3.2.4\n",
      "Using sassc 2.4.0\n",
      "Using rb-inotify 0.10.1\n",
      "Fetching concurrent-ruby 1.1.7\n",
      "Using pathutil 0.16.2\n",
      "Using terminal-table 1.8.0\n",
      "Fetching rouge 3.24.0\n",
      "Fetching public_suffix 4.0.6\n",
      "Using jekyll-sass-converter 2.1.0\n",
      "Using listen 3.2.1\n",
      "Using jekyll-watch 2.2.1\n",
      "Fetching em-websocket 0.5.2\n",
      "Installing rexml 3.2.4\n",
      "Installing em-websocket 0.5.2\n",
      "Installing concurrent-ruby 1.1.7\n",
      "Installing rouge 3.24.0\n",
      "Fetching kramdown 2.3.0\n",
      "Installing kramdown 2.3.0\n",
      "Fetching i18n 1.8.5\n",
      "Installing i18n 1.8.5\n",
      "Installing public_suffix 4.0.6\n",
      "Using addressable 2.7.0\n",
      "Using kramdown-parser-gfm 1.1.0\n",
      "Fetching jekyll 4.1.1\n",
      "Installing jekyll 4.1.1\n",
      "Fetching jekyll-feed 0.15.1\n",
      "Fetching jekyll-seo-tag 2.7.1\n",
      "Installing jekyll-seo-tag 2.7.1\n",
      "Installing jekyll-feed 0.15.1\n",
      "Fetching minima 2.5.1\n",
      "Installing minima 2.5.1\n",
      "Bundle complete! 6 Gemfile dependencies, 31 gems now installed.\n",
      "Use `bundle info [gemname]` to see where a bundled gem is installed.\n",
      "Post-install message from i18n:\n",
      "\n",
      "HEADS UP! i18n 1.1 changed fallbacks to exclude default locale.\n",
      "But that may break your application.\n",
      "\n",
      "If you are upgrading your Rails application from an older version of Rails:\n",
      "\n",
      "Please check your Rails app for 'config.i18n.fallbacks = true'.\n",
      "If you're using I18n (>= 1.1.0) and Rails (< 5.2.2), this should be\n",
      "'config.i18n.fallbacks = [I18n.default_locale]'.\n",
      "If not, fallbacks will be broken in your app by I18n 1.1.x.\n",
      "\n",
      "If you are starting a NEW Rails application, you can ignore this notice.\n",
      "\n",
      "For more info see:\n",
      "https://github.com/svenfuchs/i18n/releases/tag/v1.1.0\n",
      "\n",
      "Configuration file: /site/_config.yml\n",
      "            Source: /site\n",
      "       Destination: /site/_site\n",
      " Incremental build: disabled. Enable with --incremental\n",
      "      Generating... \n",
      "       Jekyll Feed: Generating feed for posts\n",
      "                    done in 0.896 seconds.\n",
      " Auto-regeneration: enabled for '/site'\n",
      "    Server address: http://0.0.0.0:4000/\n",
      "  Server running... press ctrl-c to stop.\n",
      "[2020-11-07 16:17:22] ERROR `/favicon.ico' not found.\n",
      "      Regenerating: 1 file(s) changed at 2020-11-07 16:18:25\n",
      "                    _posts/.ipynb_checkpoints/2020-07-21-welcome-to-jekyll-checkpoint.markdown\n",
      "       Jekyll Feed: Generating feed for posts\n",
      "                    ...done in 0.5301018 seconds.\n",
      "                    \n",
      "      Regenerating: 2 file(s) changed at 2020-11-07 16:18:34\n",
      "                    _posts/.ipynb_checkpoints/2020-07-21-welcome-to-jekyll-checkpoint.markdown\n",
      "                    _posts/2020-07-21-welcome-to-jekyll.markdown\n",
      "       Jekyll Feed: Generating feed for posts\n",
      "                    ...done in 0.3221816 seconds.\n",
      "                    \n",
      "\u001b[31m                    ------------------------------------------------\u001b[0m\n",
      "\u001b[31m      Jekyll 4.1.1   Please append `--trace` to the `serve` command \u001b[0m\n",
      "\u001b[31m                     for any additional information or backtrace. \u001b[0m\n",
      "\u001b[31m                    ------------------------------------------------\u001b[0m\n",
      "/usr/local/bundle/gems/jekyll-4.1.1/lib/jekyll/commands/serve.rb:285:in `join': SIGTERM (SignalException)\n",
      "\tfrom /usr/local/bundle/gems/jekyll-4.1.1/lib/jekyll/commands/serve.rb:285:in `boot_or_detach'\n",
      "\tfrom /usr/local/bundle/gems/jekyll-4.1.1/lib/jekyll/commands/serve.rb:220:in `start_up_webrick'\n",
      "\tfrom /usr/local/bundle/gems/jekyll-4.1.1/lib/jekyll/commands/serve.rb:102:in `process'\n",
      "\tfrom /usr/local/bundle/gems/jekyll-4.1.1/lib/jekyll/command.rb:91:in `block in process_with_graceful_fail'\n",
      "\tfrom /usr/local/bundle/gems/jekyll-4.1.1/lib/jekyll/command.rb:91:in `each'\n",
      "\tfrom /usr/local/bundle/gems/jekyll-4.1.1/lib/jekyll/command.rb:91:in `process_with_graceful_fail'\n",
      "\tfrom /usr/local/bundle/gems/jekyll-4.1.1/lib/jekyll/commands/serve.rb:86:in `block (2 levels) in init_with_program'\n",
      "\tfrom /usr/local/bundle/gems/mercenary-0.4.0/lib/mercenary/command.rb:221:in `block in execute'\n",
      "\tfrom /usr/local/bundle/gems/mercenary-0.4.0/lib/mercenary/command.rb:221:in `each'\n",
      "\tfrom /usr/local/bundle/gems/mercenary-0.4.0/lib/mercenary/command.rb:221:in `execute'\n",
      "\tfrom /usr/local/bundle/gems/mercenary-0.4.0/lib/mercenary/program.rb:44:in `go'\n",
      "\tfrom /usr/local/bundle/gems/mercenary-0.4.0/lib/mercenary.rb:21:in `program'\n",
      "\tfrom /usr/local/bundle/gems/jekyll-4.1.1/exe/jekyll:15:in `<top (required)>'\n",
      "\tfrom /usr/local/bundle/bin/jekyll:23:in `load'\n",
      "\tfrom /usr/local/bundle/bin/jekyll:23:in `<top (required)>'\n",
      "\tfrom /usr/local/bundle/gems/bundler-2.1.4/lib/bundler/cli/exec.rb:63:in `load'\n",
      "\tfrom /usr/local/bundle/gems/bundler-2.1.4/lib/bundler/cli/exec.rb:63:in `kernel_load'\n",
      "\tfrom /usr/local/bundle/gems/bundler-2.1.4/lib/bundler/cli/exec.rb:28:in `run'\n",
      "\tfrom /usr/local/bundle/gems/bundler-2.1.4/lib/bundler/cli.rb:476:in `exec'\n",
      "\tfrom /usr/local/bundle/gems/bundler-2.1.4/lib/bundler/vendor/thor/lib/thor/command.rb:27:in `run'\n",
      "\tfrom /usr/local/bundle/gems/bundler-2.1.4/lib/bundler/vendor/thor/lib/thor/invocation.rb:127:in `invoke_command'\n",
      "\tfrom /usr/local/bundle/gems/bundler-2.1.4/lib/bundler/vendor/thor/lib/thor.rb:399:in `dispatch'\n",
      "\tfrom /usr/local/bundle/gems/bundler-2.1.4/lib/bundler/cli.rb:30:in `dispatch'\n",
      "\tfrom /usr/local/bundle/gems/bundler-2.1.4/lib/bundler/vendor/thor/lib/thor/base.rb:476:in `start'\n",
      "\tfrom /usr/local/bundle/gems/bundler-2.1.4/lib/bundler/cli.rb:24:in `start'\n",
      "\tfrom /usr/local/bundle/gems/bundler-2.1.4/exe/bundle:46:in `block in <top (required)>'\n",
      "\tfrom /usr/local/bundle/gems/bundler-2.1.4/lib/bundler/friendly_errors.rb:123:in `with_friendly_errors'\n",
      "\tfrom /usr/local/bundle/gems/bundler-2.1.4/exe/bundle:34:in `<top (required)>'\n",
      "\tfrom /usr/local/bundle/bin/bundle:23:in `load'\n",
      "\tfrom /usr/local/bundle/bin/bundle:23:in `<main>'\n"
     ]
    }
   ],
   "source": [
    "!docker run -p 83:4000 -v $(pwd):/site bretfisher/jekyll-serve"
   ]
  },
  {
   "cell_type": "code",
   "execution_count": null,
   "metadata": {},
   "outputs": [],
   "source": []
  }
 ],
 "metadata": {
  "kernelspec": {
   "display_name": "Python 3",
   "language": "python",
   "name": "python3"
  },
  "language_info": {
   "codemirror_mode": {
    "name": "ipython",
    "version": 3
   },
   "file_extension": ".py",
   "mimetype": "text/x-python",
   "name": "python",
   "nbconvert_exporter": "python",
   "pygments_lexer": "ipython3",
   "version": "3.8.3"
  }
 },
 "nbformat": 4,
 "nbformat_minor": 4
}
