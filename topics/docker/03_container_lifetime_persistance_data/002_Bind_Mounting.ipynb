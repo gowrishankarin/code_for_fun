{
 "cells": [
  {
   "cell_type": "markdown",
   "metadata": {},
   "source": [
    "# Persistent Data: Bind Mounting\n",
    "\n",
    "- Maps a host file or directory to a container file or directory\n",
    "- Basically just two locations pointing to the same file\n",
    "- Again, skips UFS and host files overwrite any in container\n",
    "- Cant use in Dockerfile, must be a `container run`\n",
    "- ... run -v /Users/bret/stuff:/path/container (forward slash in the beginning differentiates)"
   ]
  },
  {
   "cell_type": "code",
   "execution_count": 4,
   "metadata": {
    "execution": {
     "iopub.execute_input": "2020-11-07T05:21:30.537579Z",
     "iopub.status.busy": "2020-11-07T05:21:30.537298Z",
     "iopub.status.idle": "2020-11-07T05:21:30.915695Z",
     "shell.execute_reply": "2020-11-07T05:21:30.914599Z",
     "shell.execute_reply.started": "2020-11-07T05:21:30.537551Z"
    }
   },
   "outputs": [],
   "source": [
    "\n",
    "!mkdir dockerfile-sample-2\n",
    "!cd dockerfile-sample-2\n",
    "!touch Dockerfile index.html"
   ]
  },
  {
   "cell_type": "code",
   "execution_count": 5,
   "metadata": {
    "execution": {
     "iopub.execute_input": "2020-11-07T05:21:31.873464Z",
     "iopub.status.busy": "2020-11-07T05:21:31.873183Z",
     "iopub.status.idle": "2020-11-07T05:21:31.998330Z",
     "shell.execute_reply": "2020-11-07T05:21:31.997275Z",
     "shell.execute_reply.started": "2020-11-07T05:21:31.873435Z"
    }
   },
   "outputs": [
    {
     "name": "stdout",
     "output_type": "stream",
     "text": [
      "/Users/shankar/dev/code/studies/gen/code_for_fun/topics/docker/03_Container_Lifetime_Persistance_Data\n"
     ]
    }
   ],
   "source": [
    "!pwd"
   ]
  },
  {
   "cell_type": "code",
   "execution_count": 7,
   "metadata": {
    "execution": {
     "iopub.execute_input": "2020-11-07T05:25:05.641783Z",
     "iopub.status.busy": "2020-11-07T05:25:05.641568Z",
     "iopub.status.idle": "2020-11-07T05:25:05.768386Z",
     "shell.execute_reply": "2020-11-07T05:25:05.767494Z",
     "shell.execute_reply.started": "2020-11-07T05:25:05.641759Z"
    }
   },
   "outputs": [
    {
     "name": "stdout",
     "output_type": "stream",
     "text": [
      "# This shows how we can extend/change an existing official image from Dockerhub\n",
      "\n",
      "FROM nginx:latest\n",
      "# highly recommend you always pin versions for anything beyond dev/learn\n",
      "\n",
      "WORKDIR /usr/share/nginx/html\n",
      "# Change working directory to root to nginx webhost\n",
      "# using WORKDIR is prefereed to using RUN cd\n",
      "\n",
      "COPY index.html index.html"
     ]
    }
   ],
   "source": [
    "!cat dockerfile-sample-2/Dockerfile"
   ]
  },
  {
   "cell_type": "code",
   "execution_count": 8,
   "metadata": {
    "execution": {
     "iopub.execute_input": "2020-11-07T05:25:39.991651Z",
     "iopub.status.busy": "2020-11-07T05:25:39.991374Z",
     "iopub.status.idle": "2020-11-07T05:25:40.121725Z",
     "shell.execute_reply": "2020-11-07T05:25:40.120474Z",
     "shell.execute_reply.started": "2020-11-07T05:25:39.991623Z"
    }
   },
   "outputs": [
    {
     "name": "stdout",
     "output_type": "stream",
     "text": [
      "/Users/shankar/dev/code/studies/gen/code_for_fun/topics/docker/03_Container_Lifetime_Persistance_Data/dockerfile-sample-2\n"
     ]
    }
   ],
   "source": [
    "import os\n",
    "os.chdir('dockerfile-sample-2')\n",
    "!pwd"
   ]
  },
  {
   "cell_type": "code",
   "execution_count": 13,
   "metadata": {
    "execution": {
     "iopub.execute_input": "2020-11-07T05:33:15.384832Z",
     "iopub.status.busy": "2020-11-07T05:33:15.384580Z",
     "iopub.status.idle": "2020-11-07T05:33:21.263545Z",
     "shell.execute_reply": "2020-11-07T05:33:21.262385Z",
     "shell.execute_reply.started": "2020-11-07T05:33:15.384805Z"
    }
   },
   "outputs": [
    {
     "name": "stdout",
     "output_type": "stream",
     "text": [
      "Using default tag: latest\n",
      "latest: Pulling from library/nginx\n",
      "Digest: sha256:aeade65e99e5d5e7ce162833636f692354c227ff438556e5f3ed0335b7cc2f1b\n",
      "Status: Image is up to date for nginx:latest\n",
      "docker.io/library/nginx:latest\n",
      "958e00d806c2f8c478151c2d0d6671c242fae67adfb9045df393e7aa9084a5d8\n"
     ]
    }
   ],
   "source": [
    "!docker pull nginx\n",
    "!docker container run -d --name nginx -p 80:80 -v $(pwd):/usr/share/nginx/html nginx"
   ]
  },
  {
   "cell_type": "code",
   "execution_count": 17,
   "metadata": {
    "execution": {
     "iopub.execute_input": "2020-11-07T05:43:09.443593Z",
     "iopub.status.busy": "2020-11-07T05:43:09.443343Z",
     "iopub.status.idle": "2020-11-07T05:43:10.099880Z",
     "shell.execute_reply": "2020-11-07T05:43:10.098550Z",
     "shell.execute_reply.started": "2020-11-07T05:43:09.443565Z"
    }
   },
   "outputs": [
    {
     "name": "stdout",
     "output_type": "stream",
     "text": [
      "cdf63142b490a801a5e43a34aad27d914e6af71e37ef6dd0440401899393c9f7\n"
     ]
    }
   ],
   "source": [
    "!docker container run -d --name nginx_5 -p 8081:80 nginx"
   ]
  },
  {
   "cell_type": "raw",
   "metadata": {
    "execution": {
     "iopub.execute_input": "2020-11-07T05:47:27.164429Z",
     "iopub.status.busy": "2020-11-07T05:47:27.164152Z",
     "iopub.status.idle": "2020-11-07T05:47:27.291089Z",
     "shell.execute_reply": "2020-11-07T05:47:27.290213Z",
     "shell.execute_reply.started": "2020-11-07T05:47:27.164399Z"
    }
   },
   "source": [
    " ∫  docker container exec -it nginx bash\n",
    "root@958e00d806c2:/# cd /usr/share/nginx/html/\n",
    "root@958e00d806c2:/usr/share/nginx/html# ls -al\n",
    "total 12\n",
    "drwxr-xr-x 5 root root  160 Nov  7 05:31 .\n",
    "drwxr-xr-x 3 root root 4096 Nov  5 18:21 ..\n",
    "drwxr-xr-x 4 root root  128 Nov  7 05:23 .ipynb_checkpoints\n",
    "-rw-r--r-- 1 root root  328 Nov  7 05:31 Dockerfile\n",
    "-rw-r--r-- 1 root root  248 Nov  7 05:24 index.html"
   ]
  },
  {
   "cell_type": "code",
   "execution_count": 21,
   "metadata": {
    "execution": {
     "iopub.execute_input": "2020-11-07T05:48:13.639860Z",
     "iopub.status.busy": "2020-11-07T05:48:13.639602Z",
     "iopub.status.idle": "2020-11-07T05:48:13.766128Z",
     "shell.execute_reply": "2020-11-07T05:48:13.764914Z",
     "shell.execute_reply.started": "2020-11-07T05:48:13.639832Z"
    }
   },
   "outputs": [],
   "source": [
    "!touch add_new_file.txt"
   ]
  },
  {
   "cell_type": "markdown",
   "metadata": {},
   "source": [
    "root@958e00d806c2:/usr/share/nginx/html# ls -al\n",
    "total 12\n",
    "drwxr-xr-x 6 root root  192 Nov  7 05:48 .\n",
    "drwxr-xr-x 3 root root 4096 Nov  5 18:21 ..\n",
    "drwxr-xr-x 4 root root  128 Nov  7 05:23 .ipynb_checkpoints\n",
    "-rw-r--r-- 1 root root  328 Nov  7 05:31 Dockerfile\n",
    "-rw-r--r-- 1 root root    0 Nov  7 05:48 add_new_file.txt\n",
    "-rw-r--r-- 1 root root  248 Nov  7 05:24 index.html"
   ]
  }
 ],
 "metadata": {
  "kernelspec": {
   "display_name": "Python 3",
   "language": "python",
   "name": "python3"
  },
  "language_info": {
   "codemirror_mode": {
    "name": "ipython",
    "version": 3
   },
   "file_extension": ".py",
   "mimetype": "text/x-python",
   "name": "python",
   "nbconvert_exporter": "python",
   "pygments_lexer": "ipython3",
   "version": "3.8.3"
  }
 },
 "nbformat": 4,
 "nbformat_minor": 4
}
