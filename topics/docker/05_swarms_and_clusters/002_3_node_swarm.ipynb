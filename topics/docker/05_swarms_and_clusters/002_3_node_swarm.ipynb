{
 "cells": [
  {
   "cell_type": "markdown",
   "metadata": {},
   "source": [
    "# 3-Node Swarm Cluster"
   ]
  },
  {
   "cell_type": "code",
   "execution_count": 1,
   "metadata": {
    "execution": {
     "iopub.execute_input": "2020-11-14T17:03:21.832948Z",
     "iopub.status.busy": "2020-11-14T17:03:21.832680Z",
     "iopub.status.idle": "2020-11-14T17:03:21.964353Z",
     "shell.execute_reply": "2020-11-14T17:03:21.963014Z",
     "shell.execute_reply.started": "2020-11-14T17:03:21.832921Z"
    }
   },
   "outputs": [],
   "source": [
    "!docker-machine --help"
   ]
  },
  {
   "cell_type": "code",
   "execution_count": 2,
   "metadata": {
    "execution": {
     "iopub.execute_input": "2020-11-14T17:03:23.415673Z",
     "iopub.status.busy": "2020-11-14T17:03:23.415401Z",
     "iopub.status.idle": "2020-11-14T17:03:23.541684Z",
     "shell.execute_reply": "2020-11-14T17:03:23.540180Z",
     "shell.execute_reply.started": "2020-11-14T17:03:23.415642Z"
    }
   },
   "outputs": [],
   "source": [
    "!docker-machine create node1"
   ]
  },
  {
   "cell_type": "code",
   "execution_count": 4,
   "metadata": {
    "execution": {
     "iopub.execute_input": "2020-11-14T17:28:52.244638Z",
     "iopub.status.busy": "2020-11-14T17:28:52.244385Z",
     "iopub.status.idle": "2020-11-14T17:28:52.631775Z",
     "shell.execute_reply": "2020-11-14T17:28:52.630927Z",
     "shell.execute_reply.started": "2020-11-14T17:28:52.244610Z"
    }
   },
   "outputs": [
    {
     "name": "stdout",
     "output_type": "stream",
     "text": [
      "export DOCKER_TLS_VERIFY=\"1\"\n",
      "export DOCKER_HOST=\"tcp://192.168.99.100:2376\"\n",
      "export DOCKER_CERT_PATH=\"/Users/shankar/.docker/machine/machines/node1\"\n",
      "export DOCKER_MACHINE_NAME=\"node1\"\n",
      "# Run this command to configure your shell: \n",
      "# eval $(docker-machine env node1)\n"
     ]
    }
   ],
   "source": [
    "!docker-machine env node1"
   ]
  },
  {
   "cell_type": "code",
   "execution_count": 5,
   "metadata": {
    "execution": {
     "iopub.execute_input": "2020-11-14T17:30:03.852640Z",
     "iopub.status.busy": "2020-11-14T17:30:03.852308Z",
     "iopub.status.idle": "2020-11-14T17:30:04.285889Z",
     "shell.execute_reply": "2020-11-14T17:30:04.284654Z",
     "shell.execute_reply.started": "2020-11-14T17:30:03.852585Z"
    }
   },
   "outputs": [],
   "source": [
    "!eval $(docker-machine env node1)"
   ]
  },
  {
   "cell_type": "code",
   "execution_count": 6,
   "metadata": {
    "execution": {
     "iopub.execute_input": "2020-11-14T17:30:13.367672Z",
     "iopub.status.busy": "2020-11-14T17:30:13.367399Z",
     "iopub.status.idle": "2020-11-14T17:30:14.184515Z",
     "shell.execute_reply": "2020-11-14T17:30:14.183847Z",
     "shell.execute_reply.started": "2020-11-14T17:30:13.367642Z"
    }
   },
   "outputs": [
    {
     "name": "stdout",
     "output_type": "stream",
     "text": [
      "Client:\n",
      " Debug Mode: false\n",
      " Plugins:\n",
      "  scan: Docker Scan (Docker Inc., v0.3.4)\n",
      "\n",
      "Server:\n",
      " Containers: 16\n",
      "  Running: 5\n",
      "  Paused: 0\n",
      "  Stopped: 11\n",
      " Images: 114\n",
      " Server Version: 19.03.13\n",
      " Storage Driver: overlay2\n",
      "  Backing Filesystem: extfs\n",
      "  Supports d_type: true\n",
      "  Native Overlay Diff: true\n",
      " Logging Driver: json-file\n",
      " Cgroup Driver: cgroupfs\n",
      " Plugins:\n",
      "  Volume: local\n",
      "  Network: bridge host ipvlan macvlan null overlay\n",
      "  Log: awslogs fluentd gcplogs gelf journald json-file local logentries splunk syslog\n",
      " Swarm: active\n",
      "  NodeID: yso27q4msispya67ime9r1e8w\n",
      "  Is Manager: true\n",
      "  ClusterID: u6epmwvsghy1t1q1ytogon8vz\n",
      "  Managers: 1\n",
      "  Nodes: 1\n",
      "  Default Address Pool: 10.0.0.0/8  \n",
      "  SubnetSize: 24\n",
      "  Data Path Port: 4789\n",
      "  Orchestration:\n",
      "   Task History Retention Limit: 5\n",
      "  Raft:\n",
      "   Snapshot Interval: 10000\n",
      "   Number of Old Snapshots to Retain: 0\n",
      "   Heartbeat Tick: 1\n",
      "   Election Tick: 10\n",
      "  Dispatcher:\n",
      "   Heartbeat Period: 5 seconds\n",
      "  CA Configuration:\n",
      "   Expiry Duration: 3 months\n",
      "   Force Rotate: 0\n",
      "  Autolock Managers: false\n",
      "  Root Rotation In Progress: false\n",
      "  Node Address: 192.168.65.3\n",
      "  Manager Addresses:\n",
      "   192.168.65.3:2377\n",
      " Runtimes: runc\n",
      " Default Runtime: runc\n",
      " Init Binary: docker-init\n",
      " containerd version: 8fba4e9a7d01810a393d5d25a3621dc101981175\n",
      " runc version: dc9208a3303feef5b3839f4323d9beb36df0a9dd\n",
      " init version: fec3683\n",
      " Security Options:\n",
      "  seccomp\n",
      "   Profile: default\n",
      " Kernel Version: 5.4.39-linuxkit\n",
      " Operating System: Docker Desktop\n",
      " OSType: linux\n",
      " Architecture: x86_64\n",
      " CPUs: 4\n",
      " Total Memory: 1.941GiB\n",
      " Name: docker-desktop\n",
      " ID: NSOI:JOQT:SXDW:IA6D:H32F:I6KS:FDKM:EPFW:K7UR:5BSH:PTIZ:C6QS\n",
      " Docker Root Dir: /var/lib/docker\n",
      " Debug Mode: false\n",
      " HTTP Proxy: gateway.docker.internal:3128\n",
      " HTTPS Proxy: gateway.docker.internal:3129\n",
      " Registry: https://index.docker.io/v1/\n",
      " Labels:\n",
      " Experimental: false\n",
      " Insecure Registries:\n",
      "  127.0.0.0/8\n",
      " Live Restore Enabled: false\n",
      " Product License: Community Engine\n",
      "\n"
     ]
    }
   ],
   "source": [
    "!docker info"
   ]
  },
  {
   "cell_type": "code",
   "execution_count": null,
   "metadata": {},
   "outputs": [],
   "source": []
  }
 ],
 "metadata": {
  "kernelspec": {
   "display_name": "Python 3",
   "language": "python",
   "name": "python3"
  },
  "language_info": {
   "codemirror_mode": {
    "name": "ipython",
    "version": 3
   },
   "file_extension": ".py",
   "mimetype": "text/x-python",
   "name": "python",
   "nbconvert_exporter": "python",
   "pygments_lexer": "ipython3",
   "version": "3.8.3"
  }
 },
 "nbformat": 4,
 "nbformat_minor": 4
}
