{
 "cells": [
  {
   "cell_type": "markdown",
   "metadata": {},
   "source": [
    "# Containers Everywhere, New Problems\n",
    "- How do we automate container lifecycle?\n",
    "- How can we easily scale out/in/up/down?\n",
    "- How can we ensure our containers are re-created if they fail?\n",
    "- How can we replace containers without downtime (blue/green deploy)?\n",
    "- How can we control/track where containers get started?\n",
    "- How can we create cross-node virtual networks?\n",
    "- How can we ensure only trusted servers run our containers?\n",
    "- How can we store secrets, keys, passwords and get them to the righ container (and only that container)?"
   ]
  },
  {
   "cell_type": "markdown",
   "metadata": {},
   "source": [
    "# Swarm Mode: Built-In Orchestration\n",
    "- Swarm Mode is a clustering solution built inside Docker\n",
    "- Not related to Swarm `classic` for pre-1.12 versions\n",
    "- Added in 1.12 via SwarmKit toolkit\n",
    "- Enhances in 1.13 via Stacks and Secrets\n",
    "- Not enabled by default, new commands once enabled\n",
    "    - docker swarm\n",
    "    - docker node\n",
    "    - docker service\n",
    "    - docker stack\n",
    "    - docker secret"
   ]
  },
  {
   "cell_type": "code",
   "execution_count": 1,
   "metadata": {
    "execution": {
     "iopub.execute_input": "2020-11-14T16:14:17.069331Z",
     "iopub.status.busy": "2020-11-14T16:14:17.069090Z",
     "iopub.status.idle": "2020-11-14T16:14:17.073466Z",
     "shell.execute_reply": "2020-11-14T16:14:17.072257Z",
     "shell.execute_reply.started": "2020-11-14T16:14:17.069307Z"
    }
   },
   "outputs": [],
   "source": [
    "# Single Node - Swarm"
   ]
  },
  {
   "cell_type": "code",
   "execution_count": 2,
   "metadata": {
    "execution": {
     "iopub.execute_input": "2020-11-14T16:14:23.889164Z",
     "iopub.status.busy": "2020-11-14T16:14:23.888925Z",
     "iopub.status.idle": "2020-11-14T16:14:25.848184Z",
     "shell.execute_reply": "2020-11-14T16:14:25.847232Z",
     "shell.execute_reply.started": "2020-11-14T16:14:23.889140Z"
    }
   },
   "outputs": [
    {
     "name": "stdout",
     "output_type": "stream",
     "text": [
      "Client:\n",
      " Debug Mode: false\n",
      " Plugins:\n",
      "  scan: Docker Scan (Docker Inc., v0.3.4)\n",
      "\n",
      "Server:\n",
      " Containers: 16\n",
      "  Running: 0\n",
      "  Paused: 0\n",
      "  Stopped: 16\n",
      " Images: 113\n",
      " Server Version: 19.03.13\n",
      " Storage Driver: overlay2\n",
      "  Backing Filesystem: extfs\n",
      "  Supports d_type: true\n",
      "  Native Overlay Diff: true\n",
      " Logging Driver: json-file\n",
      " Cgroup Driver: cgroupfs\n",
      " Plugins:\n",
      "  Volume: local\n",
      "  Network: bridge host ipvlan macvlan null overlay\n",
      "  Log: awslogs fluentd gcplogs gelf journald json-file local logentries splunk syslog\n",
      " Swarm: inactive\n",
      " Runtimes: runc\n",
      " Default Runtime: runc\n",
      " Init Binary: docker-init\n",
      " containerd version: 8fba4e9a7d01810a393d5d25a3621dc101981175\n",
      " runc version: dc9208a3303feef5b3839f4323d9beb36df0a9dd\n",
      " init version: fec3683\n",
      " Security Options:\n",
      "  seccomp\n",
      "   Profile: default\n",
      " Kernel Version: 5.4.39-linuxkit\n",
      " Operating System: Docker Desktop\n",
      " OSType: linux\n",
      " Architecture: x86_64\n",
      " CPUs: 4\n",
      " Total Memory: 1.941GiB\n",
      " Name: docker-desktop\n",
      " ID: 3KKU:3QWO:3MBQ:G2Y2:HANM:CRAL:HQRB:ZNBY:O7JZ:NMNT:I6KB:KVGT\n",
      " Docker Root Dir: /var/lib/docker\n",
      " Debug Mode: false\n",
      " HTTP Proxy: gateway.docker.internal:3128\n",
      " HTTPS Proxy: gateway.docker.internal:3129\n",
      " Registry: https://index.docker.io/v1/\n",
      " Labels:\n",
      " Experimental: false\n",
      " Insecure Registries:\n",
      "  127.0.0.0/8\n",
      " Live Restore Enabled: false\n",
      " Product License: Community Engine\n",
      "\n"
     ]
    }
   ],
   "source": [
    "!docker info"
   ]
  },
  {
   "cell_type": "code",
   "execution_count": 3,
   "metadata": {
    "execution": {
     "iopub.execute_input": "2020-11-14T16:15:14.183351Z",
     "iopub.status.busy": "2020-11-14T16:15:14.182958Z",
     "iopub.status.idle": "2020-11-14T16:15:15.174809Z",
     "shell.execute_reply": "2020-11-14T16:15:15.174089Z",
     "shell.execute_reply.started": "2020-11-14T16:15:14.183305Z"
    }
   },
   "outputs": [
    {
     "name": "stdout",
     "output_type": "stream",
     "text": [
      "Swarm initialized: current node (yso27q4msispya67ime9r1e8w) is now a manager.\n",
      "\n",
      "To add a worker to this swarm, run the following command:\n",
      "\n",
      "    docker swarm join --token SWMTKN-1-2o76mshrg52pug8bn24gh6boycw4yoi24h599g5amr5t8v3g9w-9gb3btsqz387h2l8m8v6k2vmh 192.168.65.3:2377\n",
      "\n",
      "To add a manager to this swarm, run 'docker swarm join-token manager' and follow the instructions.\n",
      "\n"
     ]
    }
   ],
   "source": [
    "!docker swarm init"
   ]
  },
  {
   "cell_type": "markdown",
   "metadata": {},
   "source": [
    "- Lots of PKI(public key initalization) and security automation\n",
    "    - Root signing certificate created for our Swarm\n",
    "    - Certificate is issued for first Manager node\n",
    "    - Join tokens are created\n",
    "- Raft database created to store root CA, configs and secrets\n",
    "    - Encrypted to default disk(1.13+)\n",
    "    - No need for another key/value system to hold orchestration/secrets\n",
    "    - Replicas logs amongst Managers via mutual TLS in `control plane`"
   ]
  },
  {
   "cell_type": "code",
   "execution_count": 4,
   "metadata": {
    "execution": {
     "iopub.execute_input": "2020-11-14T16:20:51.204956Z",
     "iopub.status.busy": "2020-11-14T16:20:51.204705Z",
     "iopub.status.idle": "2020-11-14T16:20:51.546891Z",
     "shell.execute_reply": "2020-11-14T16:20:51.545634Z",
     "shell.execute_reply.started": "2020-11-14T16:20:51.204929Z"
    }
   },
   "outputs": [
    {
     "name": "stdout",
     "output_type": "stream",
     "text": [
      "ID                            HOSTNAME            STATUS              AVAILABILITY        MANAGER STATUS      ENGINE VERSION\n",
      "yso27q4msispya67ime9r1e8w *   docker-desktop      Ready               Active              Leader              19.03.13\n"
     ]
    }
   ],
   "source": [
    "!docker node ls"
   ]
  },
  {
   "cell_type": "code",
   "execution_count": 6,
   "metadata": {
    "execution": {
     "iopub.execute_input": "2020-11-14T16:21:13.700151Z",
     "iopub.status.busy": "2020-11-14T16:21:13.699757Z",
     "iopub.status.idle": "2020-11-14T16:21:14.065052Z",
     "shell.execute_reply": "2020-11-14T16:21:14.063932Z",
     "shell.execute_reply.started": "2020-11-14T16:21:13.700111Z"
    }
   },
   "outputs": [
    {
     "name": "stdout",
     "output_type": "stream",
     "text": [
      "\n",
      "Usage:\tdocker node COMMAND\n",
      "\n",
      "Manage Swarm nodes\n",
      "\n",
      "Commands:\n",
      "  demote      Demote one or more nodes from manager in the swarm\n",
      "  inspect     Display detailed information on one or more nodes\n",
      "  ls          List nodes in the swarm\n",
      "  promote     Promote one or more nodes to manager in the swarm\n",
      "  ps          List tasks running on one or more nodes, defaults to current node\n",
      "  rm          Remove one or more nodes from the swarm\n",
      "  update      Update a node\n",
      "\n",
      "Run 'docker node COMMAND --help' for more information on a command.\n"
     ]
    }
   ],
   "source": [
    "!docker node --help"
   ]
  },
  {
   "cell_type": "code",
   "execution_count": 7,
   "metadata": {
    "execution": {
     "iopub.execute_input": "2020-11-14T16:21:31.326106Z",
     "iopub.status.busy": "2020-11-14T16:21:31.325828Z",
     "iopub.status.idle": "2020-11-14T16:21:31.688861Z",
     "shell.execute_reply": "2020-11-14T16:21:31.687995Z",
     "shell.execute_reply.started": "2020-11-14T16:21:31.326077Z"
    }
   },
   "outputs": [
    {
     "name": "stdout",
     "output_type": "stream",
     "text": [
      "\n",
      "Usage:\tdocker swarm COMMAND\n",
      "\n",
      "Manage Swarm\n",
      "\n",
      "Commands:\n",
      "  ca          Display and rotate the root CA\n",
      "  init        Initialize a swarm\n",
      "  join        Join a swarm as a node and/or manager\n",
      "  join-token  Manage join tokens\n",
      "  leave       Leave the swarm\n",
      "  unlock      Unlock swarm\n",
      "  unlock-key  Manage the unlock key\n",
      "  update      Update the swarm\n",
      "\n",
      "Run 'docker swarm COMMAND --help' for more information on a command.\n"
     ]
    }
   ],
   "source": [
    "!docker swarm --help"
   ]
  },
  {
   "cell_type": "code",
   "execution_count": 8,
   "metadata": {
    "execution": {
     "iopub.execute_input": "2020-11-14T16:21:47.784921Z",
     "iopub.status.busy": "2020-11-14T16:21:47.784643Z",
     "iopub.status.idle": "2020-11-14T16:21:48.154557Z",
     "shell.execute_reply": "2020-11-14T16:21:48.153724Z",
     "shell.execute_reply.started": "2020-11-14T16:21:47.784892Z"
    }
   },
   "outputs": [
    {
     "name": "stdout",
     "output_type": "stream",
     "text": [
      "\n",
      "Usage:\tdocker service COMMAND\n",
      "\n",
      "Manage services\n",
      "\n",
      "Commands:\n",
      "  create      Create a new service\n",
      "  inspect     Display detailed information on one or more services\n",
      "  logs        Fetch the logs of a service or task\n",
      "  ls          List services\n",
      "  ps          List the tasks of one or more services\n",
      "  rm          Remove one or more services\n",
      "  rollback    Revert changes to a service's configuration\n",
      "  scale       Scale one or multiple replicated services\n",
      "  update      Update a service\n",
      "\n",
      "Run 'docker service COMMAND --help' for more information on a command.\n"
     ]
    }
   ],
   "source": [
    "!docker service --help"
   ]
  },
  {
   "cell_type": "code",
   "execution_count": 9,
   "metadata": {
    "execution": {
     "iopub.execute_input": "2020-11-14T16:23:11.081117Z",
     "iopub.status.busy": "2020-11-14T16:23:11.080863Z",
     "iopub.status.idle": "2020-11-14T16:23:28.121765Z",
     "shell.execute_reply": "2020-11-14T16:23:28.121039Z",
     "shell.execute_reply.started": "2020-11-14T16:23:11.081089Z"
    }
   },
   "outputs": [
    {
     "name": "stdout",
     "output_type": "stream",
     "text": [
      "ibtxoaovbvuvd7zgbznnm15v7\n",
      "\n",
      "\u001b[1Ball progress: 0 out of 1 tasks \n",
      "\u001b[2Ball progress: 1 out of 1 tasks \u001b[1A\u001b[2K\u001b[1A\u001b[2K\u001b[1A\u001b[2K\u001b[1A\u001b[2K\u001b[1A\u001b[2K\u001b[1A\u001b[2K\u001b[1A\u001b[2K\u001b[1A\u001b[2K\u001b[1A\u001b[2K\u001b[1A\u001b[2K\u001b[1A\u001b[2K\u001b[1A\u001b[2K\u001b[1A\u001b[2K\u001b[1A\u001b[2K\u001b[1A\u001b[2K\u001b[1A\u001b[2K\u001b[1A\u001b[2K\u001b[1A\u001b[2K\u001b[1A\u001b[2K\u001b[1A\u001b[2K\u001b[1A\u001b[2K\u001b[1A\u001b[2K\u001b[1A\u001b[2K\u001b[1A\u001b[2K\u001b[1A\u001b[2K\u001b[1A\u001b[2K\u001b[1A\u001b[2K\u001b[1A\u001b[2K\u001b[1A\u001b[2K\u001b[1A\u001b[2K\n",
      "\u001b[1Bfy: Service converged to verify that tasks are stable... \u001b[1A\u001b[2K\u001b[1A\u001b[2K\u001b[1A\u001b[2K\u001b[1A\u001b[2K\u001b[1A\u001b[2K\u001b[1A\u001b[2K\u001b[1A\u001b[2K\u001b[1A\u001b[2K\u001b[1A\u001b[2K\u001b[1A\u001b[2K\u001b[1A\u001b[2K\u001b[1A\u001b[2K\u001b[1A\u001b[2K\u001b[1A\u001b[2K\u001b[1A\u001b[2K\u001b[1A\u001b[2K\u001b[1A\u001b[2K\u001b[1A\u001b[2K\u001b[1A\u001b[2K\u001b[1A\u001b[2K\u001b[1A\u001b[2K\u001b[1A\u001b[2K\u001b[1A\u001b[2K\u001b[1A\u001b[2K"
     ]
    }
   ],
   "source": [
    "!docker service create alpine ping 8.8.8.8"
   ]
  },
  {
   "cell_type": "code",
   "execution_count": 10,
   "metadata": {
    "execution": {
     "iopub.execute_input": "2020-11-14T16:23:40.990132Z",
     "iopub.status.busy": "2020-11-14T16:23:40.989859Z",
     "iopub.status.idle": "2020-11-14T16:23:41.301130Z",
     "shell.execute_reply": "2020-11-14T16:23:41.300269Z",
     "shell.execute_reply.started": "2020-11-14T16:23:40.990103Z"
    }
   },
   "outputs": [
    {
     "name": "stdout",
     "output_type": "stream",
     "text": [
      "ID                  NAME                MODE                REPLICAS            IMAGE               PORTS\n",
      "ibtxoaovbvuv        busy_lewin          replicated          1/1                 alpine:latest       \n"
     ]
    }
   ],
   "source": [
    "!docker service ls"
   ]
  },
  {
   "cell_type": "code",
   "execution_count": 11,
   "metadata": {
    "execution": {
     "iopub.execute_input": "2020-11-14T16:24:24.864455Z",
     "iopub.status.busy": "2020-11-14T16:24:24.864011Z",
     "iopub.status.idle": "2020-11-14T16:24:25.193324Z",
     "shell.execute_reply": "2020-11-14T16:24:25.192401Z",
     "shell.execute_reply.started": "2020-11-14T16:24:24.864392Z"
    }
   },
   "outputs": [
    {
     "name": "stdout",
     "output_type": "stream",
     "text": [
      "ID                  NAME                IMAGE               NODE                DESIRED STATE       CURRENT STATE                ERROR               PORTS\n",
      "ji686uak3s5z        busy_lewin.1        alpine:latest       docker-desktop      Running             Running about a minute ago                       \n"
     ]
    }
   ],
   "source": [
    "!docker service ps ibtxoaovbvuv"
   ]
  },
  {
   "cell_type": "code",
   "execution_count": 12,
   "metadata": {
    "execution": {
     "iopub.execute_input": "2020-11-14T16:24:51.043947Z",
     "iopub.status.busy": "2020-11-14T16:24:51.043725Z",
     "iopub.status.idle": "2020-11-14T16:24:51.336890Z",
     "shell.execute_reply": "2020-11-14T16:24:51.336040Z",
     "shell.execute_reply.started": "2020-11-14T16:24:51.043923Z"
    }
   },
   "outputs": [
    {
     "name": "stdout",
     "output_type": "stream",
     "text": [
      "CONTAINER ID        IMAGE               COMMAND             CREATED              STATUS              PORTS               NAMES\n",
      "d1cf3816db8d        alpine:latest       \"ping 8.8.8.8\"      About a minute ago   Up About a minute                       busy_lewin.1.ji686uak3s5zip69zihxgjjym\n"
     ]
    }
   ],
   "source": [
    "!docker container ls"
   ]
  },
  {
   "cell_type": "code",
   "execution_count": 13,
   "metadata": {
    "execution": {
     "iopub.execute_input": "2020-11-14T16:25:21.335149Z",
     "iopub.status.busy": "2020-11-14T16:25:21.334875Z",
     "iopub.status.idle": "2020-11-14T16:25:27.541078Z",
     "shell.execute_reply": "2020-11-14T16:25:27.539779Z",
     "shell.execute_reply.started": "2020-11-14T16:25:21.335119Z"
    }
   },
   "outputs": [
    {
     "name": "stdout",
     "output_type": "stream",
     "text": [
      "ibtxoaovbvuv\n",
      "\n",
      "\u001b[1Ball progress: 0 out of 3 tasks \n",
      "\u001b[1B   K\n",
      "\u001b[1B   K\n",
      "\u001b[4Ball progress: 3 out of 3 tasks \u001b[3A\u001b[2K\u001b[3A\u001b[2K\u001b[3A\u001b[2K\u001b[3A\u001b[2K\n",
      "\u001b[1Bfy: Service converged to verify that tasks are stable... \u001b[1A\u001b[2K\u001b[1A\u001b[2K\u001b[1A\u001b[2K\u001b[1A\u001b[2K\u001b[1A\u001b[2K\u001b[1A\u001b[2K\u001b[1A\u001b[2K\u001b[1A\u001b[2K\u001b[1A\u001b[2K\u001b[1A\u001b[2K\u001b[1A\u001b[2K\u001b[1A\u001b[2K\u001b[1A\u001b[2K\u001b[1A\u001b[2K\u001b[1A\u001b[2K\u001b[1A\u001b[2K\u001b[1A\u001b[2K\u001b[1A\u001b[2K\u001b[1A\u001b[2K\u001b[1A\u001b[2K\u001b[1A\u001b[2K\u001b[1A\u001b[2K\u001b[1A\u001b[2K"
     ]
    }
   ],
   "source": [
    "!docker service update ibtxoaovbvuv --replicas 3"
   ]
  },
  {
   "cell_type": "code",
   "execution_count": 14,
   "metadata": {
    "execution": {
     "iopub.execute_input": "2020-11-14T16:25:29.735704Z",
     "iopub.status.busy": "2020-11-14T16:25:29.735329Z",
     "iopub.status.idle": "2020-11-14T16:25:30.073588Z",
     "shell.execute_reply": "2020-11-14T16:25:30.072707Z",
     "shell.execute_reply.started": "2020-11-14T16:25:29.735665Z"
    }
   },
   "outputs": [
    {
     "name": "stdout",
     "output_type": "stream",
     "text": [
      "ID                  NAME                MODE                REPLICAS            IMAGE               PORTS\n",
      "ibtxoaovbvuv        busy_lewin          replicated          3/3                 alpine:latest       \n"
     ]
    }
   ],
   "source": [
    "!docker service ls"
   ]
  },
  {
   "cell_type": "code",
   "execution_count": 16,
   "metadata": {
    "execution": {
     "iopub.execute_input": "2020-11-14T16:26:03.812446Z",
     "iopub.status.busy": "2020-11-14T16:26:03.812150Z",
     "iopub.status.idle": "2020-11-14T16:26:04.116259Z",
     "shell.execute_reply": "2020-11-14T16:26:04.115360Z",
     "shell.execute_reply.started": "2020-11-14T16:26:03.812394Z"
    }
   },
   "outputs": [
    {
     "name": "stdout",
     "output_type": "stream",
     "text": [
      "ID                  NAME                IMAGE               NODE                DESIRED STATE       CURRENT STATE            ERROR               PORTS\n",
      "ji686uak3s5z        busy_lewin.1        alpine:latest       docker-desktop      Running             Running 2 minutes ago                        \n",
      "pm1xhk6hlquq        busy_lewin.2        alpine:latest       docker-desktop      Running             Running 41 seconds ago                       \n",
      "pr4fk3wdzazg        busy_lewin.3        alpine:latest       docker-desktop      Running             Running 41 seconds ago                       \n"
     ]
    }
   ],
   "source": [
    "!docker service ps ibtxoaovbvuv "
   ]
  },
  {
   "cell_type": "code",
   "execution_count": 17,
   "metadata": {
    "execution": {
     "iopub.execute_input": "2020-11-14T16:26:48.373973Z",
     "iopub.status.busy": "2020-11-14T16:26:48.373698Z",
     "iopub.status.idle": "2020-11-14T16:26:48.737466Z",
     "shell.execute_reply": "2020-11-14T16:26:48.736363Z",
     "shell.execute_reply.started": "2020-11-14T16:26:48.373945Z"
    }
   },
   "outputs": [
    {
     "name": "stdout",
     "output_type": "stream",
     "text": [
      "\n",
      "Usage:\tdocker update [OPTIONS] CONTAINER [CONTAINER...]\n",
      "\n",
      "Update configuration of one or more containers\n",
      "\n",
      "Options:\n",
      "      --blkio-weight uint16        Block IO (relative weight), between 10\n",
      "                                   and 1000, or 0 to disable (default 0)\n",
      "      --cpu-period int             Limit CPU CFS (Completely Fair\n",
      "                                   Scheduler) period\n",
      "      --cpu-quota int              Limit CPU CFS (Completely Fair\n",
      "                                   Scheduler) quota\n",
      "      --cpu-rt-period int          Limit the CPU real-time period in\n",
      "                                   microseconds\n",
      "      --cpu-rt-runtime int         Limit the CPU real-time runtime in\n",
      "                                   microseconds\n",
      "  -c, --cpu-shares int             CPU shares (relative weight)\n",
      "      --cpus decimal               Number of CPUs\n",
      "      --cpuset-cpus string         CPUs in which to allow execution (0-3, 0,1)\n",
      "      --cpuset-mems string         MEMs in which to allow execution (0-3, 0,1)\n",
      "      --kernel-memory bytes        Kernel memory limit\n",
      "  -m, --memory bytes               Memory limit\n",
      "      --memory-reservation bytes   Memory soft limit\n",
      "      --memory-swap bytes          Swap limit equal to memory plus swap:\n",
      "                                   '-1' to enable unlimited swap\n",
      "      --pids-limit int             Tune container pids limit (set -1 for\n",
      "                                   unlimited)\n",
      "      --restart string             Restart policy to apply when a\n",
      "                                   container exits\n"
     ]
    }
   ],
   "source": [
    "!docker update --help"
   ]
  },
  {
   "cell_type": "code",
   "execution_count": 18,
   "metadata": {
    "execution": {
     "iopub.execute_input": "2020-11-14T16:28:15.078226Z",
     "iopub.status.busy": "2020-11-14T16:28:15.077946Z",
     "iopub.status.idle": "2020-11-14T16:28:15.377919Z",
     "shell.execute_reply": "2020-11-14T16:28:15.377165Z",
     "shell.execute_reply.started": "2020-11-14T16:28:15.078197Z"
    }
   },
   "outputs": [
    {
     "name": "stdout",
     "output_type": "stream",
     "text": [
      "CONTAINER ID        IMAGE               COMMAND             CREATED             STATUS              PORTS               NAMES\n",
      "8ff45f581628        alpine:latest       \"ping 8.8.8.8\"      2 minutes ago       Up 2 minutes                            busy_lewin.3.pr4fk3wdzazg8ayo4cb5m2p3x\n",
      "3bfcd96e36d8        alpine:latest       \"ping 8.8.8.8\"      2 minutes ago       Up 2 minutes                            busy_lewin.2.pm1xhk6hlquqyhzaiyps4oypl\n",
      "d1cf3816db8d        alpine:latest       \"ping 8.8.8.8\"      4 minutes ago       Up 4 minutes                            busy_lewin.1.ji686uak3s5zip69zihxgjjym\n"
     ]
    }
   ],
   "source": [
    "!docker container ls"
   ]
  },
  {
   "cell_type": "code",
   "execution_count": 22,
   "metadata": {
    "execution": {
     "iopub.execute_input": "2020-11-14T16:29:34.587419Z",
     "iopub.status.busy": "2020-11-14T16:29:34.587146Z",
     "iopub.status.idle": "2020-11-14T16:29:34.885399Z",
     "shell.execute_reply": "2020-11-14T16:29:34.884057Z",
     "shell.execute_reply.started": "2020-11-14T16:29:34.587390Z"
    }
   },
   "outputs": [
    {
     "name": "stdout",
     "output_type": "stream",
     "text": [
      "Error: No such container: busy_lewin.3.pr4fk3wdzazg8ayo4cb5m2p3x\n"
     ]
    }
   ],
   "source": [
    "!docker container rm -f busy_lewin.3.pr4fk3wdzazg8ayo4cb5m2p3x"
   ]
  },
  {
   "cell_type": "code",
   "execution_count": 23,
   "metadata": {
    "execution": {
     "iopub.execute_input": "2020-11-14T16:29:39.616615Z",
     "iopub.status.busy": "2020-11-14T16:29:39.616342Z",
     "iopub.status.idle": "2020-11-14T16:29:39.910203Z",
     "shell.execute_reply": "2020-11-14T16:29:39.909020Z",
     "shell.execute_reply.started": "2020-11-14T16:29:39.616585Z"
    }
   },
   "outputs": [
    {
     "name": "stdout",
     "output_type": "stream",
     "text": [
      "ID                  NAME                MODE                REPLICAS            IMAGE               PORTS\n",
      "ibtxoaovbvuv        busy_lewin          replicated          3/3                 alpine:latest       \n"
     ]
    }
   ],
   "source": [
    "!docker service ls"
   ]
  },
  {
   "cell_type": "code",
   "execution_count": 24,
   "metadata": {
    "execution": {
     "iopub.execute_input": "2020-11-14T16:29:46.134048Z",
     "iopub.status.busy": "2020-11-14T16:29:46.133707Z",
     "iopub.status.idle": "2020-11-14T16:29:46.419058Z",
     "shell.execute_reply": "2020-11-14T16:29:46.418055Z",
     "shell.execute_reply.started": "2020-11-14T16:29:46.134016Z"
    }
   },
   "outputs": [
    {
     "name": "stdout",
     "output_type": "stream",
     "text": [
      "CONTAINER ID        IMAGE               COMMAND             CREATED             STATUS              PORTS               NAMES\n",
      "18366390c4af        alpine:latest       \"ping 8.8.8.8\"      35 seconds ago      Up 29 seconds                           busy_lewin.3.vcyj3i5wo9myyqev3q0yx9f91\n",
      "3bfcd96e36d8        alpine:latest       \"ping 8.8.8.8\"      4 minutes ago       Up 4 minutes                            busy_lewin.2.pm1xhk6hlquqyhzaiyps4oypl\n",
      "d1cf3816db8d        alpine:latest       \"ping 8.8.8.8\"      6 minutes ago       Up 6 minutes                            busy_lewin.1.ji686uak3s5zip69zihxgjjym\n"
     ]
    }
   ],
   "source": [
    "!docker container ls"
   ]
  },
  {
   "cell_type": "code",
   "execution_count": 25,
   "metadata": {
    "execution": {
     "iopub.execute_input": "2020-11-14T16:30:21.741156Z",
     "iopub.status.busy": "2020-11-14T16:30:21.740884Z",
     "iopub.status.idle": "2020-11-14T16:30:22.058207Z",
     "shell.execute_reply": "2020-11-14T16:30:22.057461Z",
     "shell.execute_reply.started": "2020-11-14T16:30:21.741127Z"
    }
   },
   "outputs": [
    {
     "name": "stdout",
     "output_type": "stream",
     "text": [
      "ID                  NAME                IMAGE               NODE                DESIRED STATE       CURRENT STATE                ERROR                         PORTS\n",
      "ji686uak3s5z        busy_lewin.1        alpine:latest       docker-desktop      Running             Running 6 minutes ago                                      \n",
      "pm1xhk6hlquq        busy_lewin.2        alpine:latest       docker-desktop      Running             Running 4 minutes ago                                      \n",
      "vcyj3i5wo9my        busy_lewin.3        alpine:latest       docker-desktop      Running             Running about a minute ago                                 \n",
      "pr4fk3wdzazg         \\_ busy_lewin.3    alpine:latest       docker-desktop      Shutdown            Failed about a minute ago    \"task: non-zero exit (137)\"   \n"
     ]
    }
   ],
   "source": [
    "!docker service ps busy_lewin"
   ]
  },
  {
   "cell_type": "code",
   "execution_count": 26,
   "metadata": {
    "execution": {
     "iopub.execute_input": "2020-11-14T16:31:23.973346Z",
     "iopub.status.busy": "2020-11-14T16:31:23.973072Z",
     "iopub.status.idle": "2020-11-14T16:31:24.286290Z",
     "shell.execute_reply": "2020-11-14T16:31:24.284983Z",
     "shell.execute_reply.started": "2020-11-14T16:31:23.973317Z"
    }
   },
   "outputs": [
    {
     "name": "stdout",
     "output_type": "stream",
     "text": [
      "busy_lewin\n"
     ]
    }
   ],
   "source": [
    "!docker  service rm busy_lewin"
   ]
  },
  {
   "cell_type": "code",
   "execution_count": 28,
   "metadata": {
    "execution": {
     "iopub.execute_input": "2020-11-14T16:31:40.545676Z",
     "iopub.status.busy": "2020-11-14T16:31:40.545402Z",
     "iopub.status.idle": "2020-11-14T16:31:40.848123Z",
     "shell.execute_reply": "2020-11-14T16:31:40.847393Z",
     "shell.execute_reply.started": "2020-11-14T16:31:40.545644Z"
    }
   },
   "outputs": [
    {
     "name": "stdout",
     "output_type": "stream",
     "text": [
      "CONTAINER ID        IMAGE               COMMAND             CREATED             STATUS              PORTS               NAMES\n"
     ]
    }
   ],
   "source": [
    "!docker container ls"
   ]
  },
  {
   "cell_type": "code",
   "execution_count": 29,
   "metadata": {
    "execution": {
     "iopub.execute_input": "2020-11-14T16:39:33.135910Z",
     "iopub.status.busy": "2020-11-14T16:39:33.135655Z",
     "iopub.status.idle": "2020-11-14T16:39:33.401256Z",
     "shell.execute_reply": "2020-11-14T16:39:33.400223Z",
     "shell.execute_reply.started": "2020-11-14T16:39:33.135882Z"
    }
   },
   "outputs": [
    {
     "name": "stdout",
     "output_type": "stream",
     "text": [
      "Client: Docker Engine - Community\n",
      " Cloud integration: 1.0.2\n",
      " Version:           19.03.13\n",
      " API version:       1.40\n",
      " Go version:        go1.13.15\n",
      " Git commit:        4484c46d9d\n",
      " Built:             Wed Sep 16 16:58:31 2020\n",
      " OS/Arch:           darwin/amd64\n",
      " Experimental:      false\n",
      "\n",
      "Server: Docker Engine - Community\n",
      " Engine:\n",
      "  Version:          19.03.13\n",
      "  API version:      1.40 (minimum version 1.12)\n",
      "  Go version:       go1.13.15\n",
      "  Git commit:       4484c46d9d\n",
      "  Built:            Wed Sep 16 17:07:04 2020\n",
      "  OS/Arch:          linux/amd64\n",
      "  Experimental:     false\n",
      " containerd:\n",
      "  Version:          v1.3.7\n",
      "  GitCommit:        8fba4e9a7d01810a393d5d25a3621dc101981175\n",
      " runc:\n",
      "  Version:          1.0.0-rc10\n",
      "  GitCommit:        dc9208a3303feef5b3839f4323d9beb36df0a9dd\n",
      " docker-init:\n",
      "  Version:          0.18.0\n",
      "  GitCommit:        fec3683\n"
     ]
    }
   ],
   "source": [
    "!docker version"
   ]
  },
  {
   "cell_type": "code",
   "execution_count": 30,
   "metadata": {
    "execution": {
     "iopub.execute_input": "2020-11-14T16:39:57.994506Z",
     "iopub.status.busy": "2020-11-14T16:39:57.994254Z",
     "iopub.status.idle": "2020-11-14T16:39:58.122744Z",
     "shell.execute_reply": "2020-11-14T16:39:58.121880Z",
     "shell.execute_reply.started": "2020-11-14T16:39:57.994478Z"
    }
   },
   "outputs": [
    {
     "name": "stdout",
     "output_type": "stream",
     "text": [
      "zsh:1: command not found: docker-machine\n"
     ]
    }
   ],
   "source": [
    "!docker-machine version"
   ]
  },
  {
   "cell_type": "code",
   "execution_count": null,
   "metadata": {},
   "outputs": [],
   "source": []
  }
 ],
 "metadata": {
  "kernelspec": {
   "display_name": "Python 3",
   "language": "python",
   "name": "python3"
  },
  "language_info": {
   "codemirror_mode": {
    "name": "ipython",
    "version": 3
   },
   "file_extension": ".py",
   "mimetype": "text/x-python",
   "name": "python",
   "nbconvert_exporter": "python",
   "pygments_lexer": "ipython3",
   "version": "3.8.3"
  }
 },
 "nbformat": 4,
 "nbformat_minor": 4
}
