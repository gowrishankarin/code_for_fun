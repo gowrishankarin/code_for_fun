{
 "cells": [
  {
   "cell_type": "code",
   "execution_count": 1,
   "metadata": {},
   "outputs": [],
   "source": [
    "import json"
   ]
  },
  {
   "cell_type": "code",
   "execution_count": 3,
   "metadata": {},
   "outputs": [
    {
     "name": "stdout",
     "output_type": "stream",
     "text": [
      "\u001b[34mds\u001b[m\u001b[m              heartspots.json \u001b[34mivy\u001b[m\u001b[m             \u001b[34mmission\u001b[m\u001b[m         \u001b[34mstudies\u001b[m\u001b[m\n"
     ]
    }
   ],
   "source": [
    "!ls /Users/shankar/dev/code"
   ]
  },
  {
   "cell_type": "code",
   "execution_count": 4,
   "metadata": {},
   "outputs": [],
   "source": [
    "with open('/Users/shankar/dev/code/heartspots.json', 'r') as infile:\n",
    "    data = json.load(infile)"
   ]
  },
  {
   "cell_type": "code",
   "execution_count": 5,
   "metadata": {},
   "outputs": [
    {
     "data": {
      "text/plain": [
       "{'__v': 0,\n",
       " '_id': '576f97008369504c48725825',\n",
       " 'abhyasiId': 'INSPAA123',\n",
       " 'active': True,\n",
       " 'contact': {'email': 'heartspots@heartfulness.org',\n",
       "  'phoneNo': '1-844-879-4327'},\n",
       " 'country': 'in',\n",
       " 'createdBy': 'shankar.chari@gmail.com',\n",
       " 'createdOn': '2016-06-26T08:46:18.303Z',\n",
       " 'email': 'sudhasrikant@gmail.com',\n",
       " 'geometry': {'coordinates': [79.0814523, 21.2563737], 'type': 'Point'},\n",
       " 'lastModifiedOn': '2019-10-29T14:00:18.159Z',\n",
       " 'password': 'INSPAA123',\n",
       " 'privacy': 'low',\n",
       " 'properties': {'address': '503 Building 39C, Leverage Greens, Koradi Road, Nagpur, Maharashtra, India, 441111',\n",
       "  'email': 'sudhasrikant@gmail.com',\n",
       "  'name': 'Sudha Peri',\n",
       "  'note': 'Reach me by filling enquiry form and fix your appointment for a meditation session.',\n",
       "  'phoneNo': '+91 89459 75547',\n",
       "  'pic': 'https://aims.sahajmarg.org/photos/187539_2.jpeg'},\n",
       " 'status': 'active',\n",
       " 'type': 'trainer'}"
      ]
     },
     "execution_count": 5,
     "metadata": {},
     "output_type": "execute_result"
    }
   ],
   "source": [
    "data[1]"
   ]
  },
  {
   "cell_type": "code",
   "execution_count": 6,
   "metadata": {},
   "outputs": [],
   "source": [
    "import pandas as pd\n",
    "df = pd.read_json('/Users/shankar/dev/code/heartspots.json')"
   ]
  },
  {
   "cell_type": "code",
   "execution_count": 7,
   "metadata": {},
   "outputs": [
    {
     "data": {
      "text/html": [
       "<div>\n",
       "<style scoped>\n",
       "    .dataframe tbody tr th:only-of-type {\n",
       "        vertical-align: middle;\n",
       "    }\n",
       "\n",
       "    .dataframe tbody tr th {\n",
       "        vertical-align: top;\n",
       "    }\n",
       "\n",
       "    .dataframe thead th {\n",
       "        text-align: right;\n",
       "    }\n",
       "</style>\n",
       "<table border=\"1\" class=\"dataframe\">\n",
       "  <thead>\n",
       "    <tr style=\"text-align: right;\">\n",
       "      <th></th>\n",
       "      <th>__v</th>\n",
       "      <th>_id</th>\n",
       "      <th>abhyasiId</th>\n",
       "      <th>active</th>\n",
       "      <th>contact</th>\n",
       "      <th>country</th>\n",
       "      <th>createdBy</th>\n",
       "      <th>createdOn</th>\n",
       "      <th>email</th>\n",
       "      <th>geometry</th>\n",
       "      <th>lastModifiedOn</th>\n",
       "      <th>password</th>\n",
       "      <th>privacy</th>\n",
       "      <th>properties</th>\n",
       "      <th>status</th>\n",
       "      <th>type</th>\n",
       "    </tr>\n",
       "  </thead>\n",
       "  <tbody>\n",
       "    <tr>\n",
       "      <th>0</th>\n",
       "      <td>0</td>\n",
       "      <td>576f97008369504c48725824</td>\n",
       "      <td>USKAAA003</td>\n",
       "      <td>False</td>\n",
       "      <td>{'email': 'us@heartfulness.org', 'phoneNo': '1...</td>\n",
       "      <td>us</td>\n",
       "      <td>shankar.chari@gmail.com</td>\n",
       "      <td>2016-06-26T08:46:18.303Z</td>\n",
       "      <td>khepiallen@gmail.com</td>\n",
       "      <td>{'type': 'Point', 'coordinates': [-88.1047287,...</td>\n",
       "      <td>2019-10-29T14:02:01.727Z</td>\n",
       "      <td>USKAAA003</td>\n",
       "      <td>low</td>\n",
       "      <td>{'pic': 'https://aims.sahajmarg.org/photos/188...</td>\n",
       "      <td>inactive</td>\n",
       "      <td>trainer</td>\n",
       "    </tr>\n",
       "    <tr>\n",
       "      <th>1</th>\n",
       "      <td>0</td>\n",
       "      <td>576f97008369504c48725825</td>\n",
       "      <td>INSPAA123</td>\n",
       "      <td>True</td>\n",
       "      <td>{'email': 'heartspots@heartfulness.org', 'phon...</td>\n",
       "      <td>in</td>\n",
       "      <td>shankar.chari@gmail.com</td>\n",
       "      <td>2016-06-26T08:46:18.303Z</td>\n",
       "      <td>sudhasrikant@gmail.com</td>\n",
       "      <td>{'type': 'Point', 'coordinates': [79.0814523, ...</td>\n",
       "      <td>2019-10-29T14:00:18.159Z</td>\n",
       "      <td>INSPAA123</td>\n",
       "      <td>low</td>\n",
       "      <td>{'pic': 'https://aims.sahajmarg.org/photos/187...</td>\n",
       "      <td>active</td>\n",
       "      <td>trainer</td>\n",
       "    </tr>\n",
       "    <tr>\n",
       "      <th>2</th>\n",
       "      <td>0</td>\n",
       "      <td>576f97008369504c48725826</td>\n",
       "      <td>USSKAA020</td>\n",
       "      <td>True</td>\n",
       "      <td>{'email': 'phoenix.az@heartfulness.org', 'phon...</td>\n",
       "      <td>us</td>\n",
       "      <td>shankar.chari@gmail.com</td>\n",
       "      <td>2016-06-26T08:46:18.303Z</td>\n",
       "      <td>mysakha@hotmail.com</td>\n",
       "      <td>{'type': 'Point', 'coordinates': [-111.8210866...</td>\n",
       "      <td>2019-10-29T13:58:22.718Z</td>\n",
       "      <td>USSKAA020</td>\n",
       "      <td>low</td>\n",
       "      <td>{'pic': 'https://aims.sahajmarg.org/photos/188...</td>\n",
       "      <td>active</td>\n",
       "      <td>trainer</td>\n",
       "    </tr>\n",
       "    <tr>\n",
       "      <th>3</th>\n",
       "      <td>0</td>\n",
       "      <td>576f97008369504c48725827</td>\n",
       "      <td>USPNAA008</td>\n",
       "      <td>True</td>\n",
       "      <td>{'email': 'juneau.ak@heartfulness.org', 'phone...</td>\n",
       "      <td>us</td>\n",
       "      <td>shankar.chari@gmail.com</td>\n",
       "      <td>2016-06-26T08:46:18.303Z</td>\n",
       "      <td>nearypt@gmail.com</td>\n",
       "      <td>{'type': 'Point', 'coordinates': [-134.4197221...</td>\n",
       "      <td>2019-10-29T14:01:16.399Z</td>\n",
       "      <td>USPNAA008</td>\n",
       "      <td>low</td>\n",
       "      <td>{'pic': 'https://aims.sahajmarg.org/photos/188...</td>\n",
       "      <td>active</td>\n",
       "      <td>trainer</td>\n",
       "    </tr>\n",
       "    <tr>\n",
       "      <th>4</th>\n",
       "      <td>0</td>\n",
       "      <td>576f97008369504c48725828</td>\n",
       "      <td>USSAAA018</td>\n",
       "      <td>True</td>\n",
       "      <td>{'email': 'heartspots@heartfulness.org', 'phon...</td>\n",
       "      <td>in</td>\n",
       "      <td>shankar.chari@gmail.com</td>\n",
       "      <td>2016-06-26T08:46:18.303Z</td>\n",
       "      <td>mgsrikant@gmail.com</td>\n",
       "      <td>{'type': 'Point', 'coordinates': [79.0814523, ...</td>\n",
       "      <td>2019-10-29T13:56:04.178Z</td>\n",
       "      <td>USSAAA018</td>\n",
       "      <td>low</td>\n",
       "      <td>{'pic': 'https://aims.sahajmarg.org/photos/188...</td>\n",
       "      <td>active</td>\n",
       "      <td>trainer</td>\n",
       "    </tr>\n",
       "  </tbody>\n",
       "</table>\n",
       "</div>"
      ],
      "text/plain": [
       "   __v                       _id  abhyasiId  active  \\\n",
       "0    0  576f97008369504c48725824  USKAAA003   False   \n",
       "1    0  576f97008369504c48725825  INSPAA123    True   \n",
       "2    0  576f97008369504c48725826  USSKAA020    True   \n",
       "3    0  576f97008369504c48725827  USPNAA008    True   \n",
       "4    0  576f97008369504c48725828  USSAAA018    True   \n",
       "\n",
       "                                             contact country  \\\n",
       "0  {'email': 'us@heartfulness.org', 'phoneNo': '1...      us   \n",
       "1  {'email': 'heartspots@heartfulness.org', 'phon...      in   \n",
       "2  {'email': 'phoenix.az@heartfulness.org', 'phon...      us   \n",
       "3  {'email': 'juneau.ak@heartfulness.org', 'phone...      us   \n",
       "4  {'email': 'heartspots@heartfulness.org', 'phon...      in   \n",
       "\n",
       "                 createdBy                 createdOn                   email  \\\n",
       "0  shankar.chari@gmail.com  2016-06-26T08:46:18.303Z    khepiallen@gmail.com   \n",
       "1  shankar.chari@gmail.com  2016-06-26T08:46:18.303Z  sudhasrikant@gmail.com   \n",
       "2  shankar.chari@gmail.com  2016-06-26T08:46:18.303Z     mysakha@hotmail.com   \n",
       "3  shankar.chari@gmail.com  2016-06-26T08:46:18.303Z       nearypt@gmail.com   \n",
       "4  shankar.chari@gmail.com  2016-06-26T08:46:18.303Z     mgsrikant@gmail.com   \n",
       "\n",
       "                                            geometry  \\\n",
       "0  {'type': 'Point', 'coordinates': [-88.1047287,...   \n",
       "1  {'type': 'Point', 'coordinates': [79.0814523, ...   \n",
       "2  {'type': 'Point', 'coordinates': [-111.8210866...   \n",
       "3  {'type': 'Point', 'coordinates': [-134.4197221...   \n",
       "4  {'type': 'Point', 'coordinates': [79.0814523, ...   \n",
       "\n",
       "             lastModifiedOn   password privacy  \\\n",
       "0  2019-10-29T14:02:01.727Z  USKAAA003     low   \n",
       "1  2019-10-29T14:00:18.159Z  INSPAA123     low   \n",
       "2  2019-10-29T13:58:22.718Z  USSKAA020     low   \n",
       "3  2019-10-29T14:01:16.399Z  USPNAA008     low   \n",
       "4  2019-10-29T13:56:04.178Z  USSAAA018     low   \n",
       "\n",
       "                                          properties    status     type  \n",
       "0  {'pic': 'https://aims.sahajmarg.org/photos/188...  inactive  trainer  \n",
       "1  {'pic': 'https://aims.sahajmarg.org/photos/187...    active  trainer  \n",
       "2  {'pic': 'https://aims.sahajmarg.org/photos/188...    active  trainer  \n",
       "3  {'pic': 'https://aims.sahajmarg.org/photos/188...    active  trainer  \n",
       "4  {'pic': 'https://aims.sahajmarg.org/photos/188...    active  trainer  "
      ]
     },
     "execution_count": 7,
     "metadata": {},
     "output_type": "execute_result"
    }
   ],
   "source": [
    "df.head()"
   ]
  },
  {
   "cell_type": "code",
   "execution_count": 9,
   "metadata": {},
   "outputs": [],
   "source": [
    "df_new = df.drop(columns=['_id', 'contact', 'country', 'createdBy', 'createdOn', 'email', 'geometry', 'lastModifiedOn', 'password', 'privacy', 'properties', 'status', 'type'])"
   ]
  },
  {
   "cell_type": "code",
   "execution_count": 10,
   "metadata": {},
   "outputs": [
    {
     "data": {
      "text/html": [
       "<div>\n",
       "<style scoped>\n",
       "    .dataframe tbody tr th:only-of-type {\n",
       "        vertical-align: middle;\n",
       "    }\n",
       "\n",
       "    .dataframe tbody tr th {\n",
       "        vertical-align: top;\n",
       "    }\n",
       "\n",
       "    .dataframe thead th {\n",
       "        text-align: right;\n",
       "    }\n",
       "</style>\n",
       "<table border=\"1\" class=\"dataframe\">\n",
       "  <thead>\n",
       "    <tr style=\"text-align: right;\">\n",
       "      <th></th>\n",
       "      <th>__v</th>\n",
       "      <th>abhyasiId</th>\n",
       "      <th>active</th>\n",
       "    </tr>\n",
       "  </thead>\n",
       "  <tbody>\n",
       "    <tr>\n",
       "      <th>0</th>\n",
       "      <td>0</td>\n",
       "      <td>USKAAA003</td>\n",
       "      <td>False</td>\n",
       "    </tr>\n",
       "    <tr>\n",
       "      <th>1</th>\n",
       "      <td>0</td>\n",
       "      <td>INSPAA123</td>\n",
       "      <td>True</td>\n",
       "    </tr>\n",
       "    <tr>\n",
       "      <th>2</th>\n",
       "      <td>0</td>\n",
       "      <td>USSKAA020</td>\n",
       "      <td>True</td>\n",
       "    </tr>\n",
       "    <tr>\n",
       "      <th>3</th>\n",
       "      <td>0</td>\n",
       "      <td>USPNAA008</td>\n",
       "      <td>True</td>\n",
       "    </tr>\n",
       "    <tr>\n",
       "      <th>4</th>\n",
       "      <td>0</td>\n",
       "      <td>USSAAA018</td>\n",
       "      <td>True</td>\n",
       "    </tr>\n",
       "  </tbody>\n",
       "</table>\n",
       "</div>"
      ],
      "text/plain": [
       "   __v  abhyasiId  active\n",
       "0    0  USKAAA003   False\n",
       "1    0  INSPAA123    True\n",
       "2    0  USSKAA020    True\n",
       "3    0  USPNAA008    True\n",
       "4    0  USSAAA018    True"
      ]
     },
     "execution_count": 10,
     "metadata": {},
     "output_type": "execute_result"
    }
   ],
   "source": [
    "df_new.head()"
   ]
  },
  {
   "cell_type": "code",
   "execution_count": 11,
   "metadata": {},
   "outputs": [],
   "source": [
    "df_new.to_csv('/Users/shankar/dev/code/heartspots.csv', index=False)"
   ]
  },
  {
   "cell_type": "code",
   "execution_count": 13,
   "metadata": {},
   "outputs": [],
   "source": [
    "!open /Users/shankar/dev/code/"
   ]
  },
  {
   "cell_type": "code",
   "execution_count": null,
   "metadata": {},
   "outputs": [],
   "source": []
  }
 ],
 "metadata": {
  "kernelspec": {
   "display_name": "Python 3",
   "language": "python",
   "name": "python3"
  },
  "language_info": {
   "codemirror_mode": {
    "name": "ipython",
    "version": 3
   },
   "file_extension": ".py",
   "mimetype": "text/x-python",
   "name": "python",
   "nbconvert_exporter": "python",
   "pygments_lexer": "ipython3",
   "version": "3.6.9"
  }
 },
 "nbformat": 4,
 "nbformat_minor": 4
}
