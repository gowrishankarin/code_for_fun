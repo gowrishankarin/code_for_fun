{
 "cells": [
  {
   "cell_type": "markdown",
   "metadata": {},
   "source": [
    "# 9th Dec 2019\n",
    "\n",
    "- Construct working SELECT statements as a foundation for more advanced statements\n",
    "- Write expanded SELECT statements that include expressions and functions\n",
    "- Use the FROM clause to specify the table form which the SELECT statement retrieves data\n",
    "- Identify rules and conventions regarding keywords and identifiers in SQL\n",
    "- Beeline and Impala Shell in non-interactive modes\n",
    "\n",
    "**Data Retrieval**  \n",
    "- Data Analysis\n",
    "    - Answer Questions\n",
    "    - Discover patterns and outliers (Data Mining)\n",
    "- Manipulate and Transform Data\n",
    "\n",
    "**SELECT**\n",
    "    FROM ...  \n",
    "    WHERE ...  \n",
    "    GROUP BY ...  \n",
    "    HAVING ...  \n",
    "    ORDER BY ...  \n",
    "    LIMIT ...;  \n",
    "    \n",
    "Expressions are composed of\n",
    "- Literal Value\n",
    "    > SELECT 7/2;\n",
    "- Column References\n",
    "    \n",
    "**Operators and Functions**  \n",
    "Operator Plus\n",
    "Function  \n",
    "> SELECT name, list_price + 5 FROM games\n",
    "\n",
    "Function  \n",
    "> SELECT name, ROUND(list_price + 5) FROM games\n"
   ]
  },
  {
   "cell_type": "markdown",
   "metadata": {},
   "source": [
    "# 8th Dec 2019\n",
    "**Objectives**  \n",
    "- Use Hue to execute SQL statements\n",
    "- Use SQL utility commands to explore and navigate databases and tables  \n",
    "- Provide some examples of interfaces other than Hue  \n",
    "- Use command line interfaces to run SQL commands on big data systems\n",
    "\n",
    "**Hue**  \n",
    "- Display existing databases\n",
    "- Make database active\n",
    "- Display tables in database\n",
    "- Display columns in a table\n",
    "\n",
    "**SQL Utility Statements**\n",
    "- SHOW DATABASES\n",
    "- USE databasename\n",
    "- SHOW TABLES\n",
    "- DESCRIBE tablename\n",
    "\n",
    "- User Interfaces\n",
    "    - Query Utilities\n",
    "    - Analytics and BI software\n",
    "- Interface Standards\n",
    "    - ODBC\n",
    "    - JDBC\n",
    "    \n",
    "- Specialized Command Line Interface (CLI)\n",
    "    - Beeline for Hive (JDBC)\n",
    "    - Impala Shell (Apache Thrift)\n",
    "    \n",
    "**Beeline**  \n",
    "Connection String: \n",
    "> <em>beeline -u jdbc:hive2://localhost:10000 -n training -p training</em>"
   ]
  }
 ],
 "metadata": {
  "kernelspec": {
   "display_name": "Python 3",
   "language": "python",
   "name": "python3"
  },
  "language_info": {
   "codemirror_mode": {
    "name": "ipython",
    "version": 3
   },
   "file_extension": ".py",
   "mimetype": "text/x-python",
   "name": "python",
   "nbconvert_exporter": "python",
   "pygments_lexer": "ipython3",
   "version": "3.7.5"
  }
 },
 "nbformat": 4,
 "nbformat_minor": 4
}
