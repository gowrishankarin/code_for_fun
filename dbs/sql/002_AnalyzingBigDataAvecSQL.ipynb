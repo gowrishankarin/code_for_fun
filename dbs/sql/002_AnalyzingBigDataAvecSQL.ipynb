{
 "cells": [
  {
   "cell_type": "markdown",
   "metadata": {},
   "source": [
    "# 8th Dec 2019\n",
    "**Objectives**  \n",
    "- Use Hue to execute SQL statements\n",
    "- Use SQL utility commands to explore and navigate databases and tables  \n",
    "- Provide some examples of interfaces other than Hue  \n",
    "- Use command line interfaces to run SQL commands on big data systems\n",
    "\n",
    "**Hue**  \n",
    "- Display existing databases\n",
    "- Make database active\n",
    "- Display tables in database\n",
    "- Display columns in a table\n",
    "\n",
    "**SQL Utility Statements**\n",
    "- SHOW DATABASES\n",
    "- USE databasename\n",
    "- SHOW TABLES\n",
    "- DESCRIBE tablename\n",
    "\n",
    "- User Interfaces\n",
    "    - Query Utilities\n",
    "    - Analytics and BI software\n",
    "- Interface Standards\n",
    "    - ODBC\n",
    "    - JDBC\n",
    "    \n",
    "- Specialized Command Line Interface (CLI)\n",
    "    - Beeline for Hive (JDBC)\n",
    "    - Impala Shell (Apache Thrift)\n",
    "    \n",
    "**Beeline**  \n",
    "Connection String: \n",
    "> <em>beeline -u jdbc:hive2://localhost:10000 -n training -p training</em>"
   ]
  },
  {
   "cell_type": "code",
   "execution_count": null,
   "metadata": {},
   "outputs": [],
   "source": []
  }
 ],
 "metadata": {
  "kernelspec": {
   "display_name": "Python 3",
   "language": "python",
   "name": "python3"
  },
  "language_info": {
   "codemirror_mode": {
    "name": "ipython",
    "version": 3
   },
   "file_extension": ".py",
   "mimetype": "text/x-python",
   "name": "python",
   "nbconvert_exporter": "python",
   "pygments_lexer": "ipython3",
   "version": "3.7.5"
  }
 },
 "nbformat": 4,
 "nbformat_minor": 4
}
